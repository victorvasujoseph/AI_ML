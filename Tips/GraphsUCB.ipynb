{
 "cells": [
  {
   "cell_type": "markdown",
   "metadata": {
    "id": "UKFFdWx8QSvi",
    "nbgrader": {
     "grade": false,
     "grade_id": "cell-df07fdb9d162d209",
     "locked": true,
     "schema_version": 1,
     "solution": false
    }
   },
   "source": [
    "## Codio Activity 2.5: Plotting Multivariate Datasets\n",
    "\n",
    "**Expected Time: 60 Minutes**\n",
    "\n",
    "**Total Points: 20**\n",
    "\n",
    "\n",
    "In this activity you will focus on creating histograms and scatterplots using `matplotlib`.  You are to generate these plots both using standard plotting commands and the utilities with pandas DataFrame's to plot as a DataFrame method.  Finally, you will customize elements of the plots using additional `matplotlib` functions.\n",
    "\n",
    "\n",
    "## Index:\n",
    "\n",
    "- [Problem 1](#Problem-1:-Load-the-Data)\n",
    "- [Problem 2](#Problem-2:-Features-for-Histograms)\n",
    "- [Problem 3](#Problem-3:-Histogram-of-Life-Expectancy)\n",
    "- [Problem 4](#Problem-4:-Adding-a-title-and-human-readable-label)\n",
    "- [Problem 5](#Problem-5:-Histogram-of-GDP)\n",
    "- [Problem 6](#Problem-6:-Customizing-the-Histogram)\n",
    "- [Problem 7](#Problem-7:-Scatterplot-of-GDP-vs.-Life-Expectancy)\n",
    "- [Problem 8](#Problem-8:-Logarithmic-Transformation)\n",
    "- [Problem 9](#Problem-9:-`pandas`-histogram)\n",
    "- [Problem 10](#Problem-10:-`pandas`-scatterplot)"
   ]
  },
  {
   "cell_type": "code",
   "execution_count": 1,
   "metadata": {
    "id": "gzfxmKakQSvn",
    "nbgrader": {
     "grade": false,
     "grade_id": "cell-28591bdc0123355b",
     "locked": true,
     "schema_version": 1,
     "solution": false
    }
   },
   "outputs": [],
   "source": [
    "import matplotlib.pyplot as plt\n",
    "import pandas as pd\n",
    "import numpy as np"
   ]
  },
  {
   "cell_type": "markdown",
   "metadata": {
    "id": "Yn9abw6eQSvm",
    "nbgrader": {
     "grade": false,
     "grade_id": "cell-04ae2f5ead2c5136",
     "locked": true,
     "schema_version": 1,
     "solution": false
    }
   },
   "source": [
    "### Dataset: Gapminder\n",
    "\n",
    "![](images/gapminder-logo.svg)\n",
    "The data below has been extracted from the [*gapminder*](https://www.gapminder.org/) organization.  Documentation for the larger data sources can be found [here](https://www.gapminder.org/data/documentation/) and the implementation of the data as a python library [here](https://pypi.org/project/gapminder/).  The data contains information on the Gross Domestic Product, Life Expectancy, and Population in five year intervals for countries around the world."
   ]
  },
  {
   "cell_type": "markdown",
   "metadata": {
    "id": "MT9xzSsDQSvo",
    "nbgrader": {
     "grade": false,
     "grade_id": "cell-cbb2eecd0a8ffc17",
     "locked": true,
     "schema_version": 1,
     "solution": false
    }
   },
   "source": [
    "[Back to top](#Index:) \n",
    "\n",
    "### Problem 1: Load the Data\n",
    "\n",
    "**2 Points**\n",
    "\n",
    "\n",
    "The dataset is available in the `data` folder and is named `gapminder.csv`. Load this in as `gap_df` below.  "
   ]
  },
  {
   "cell_type": "code",
   "execution_count": 2,
   "metadata": {
    "id": "LS8P3VgmQSvo",
    "nbgrader": {
     "grade": false,
     "grade_id": "cell-0010e5bd020e9876",
     "locked": false,
     "schema_version": 1,
     "solution": true
    }
   },
   "outputs": [],
   "source": [
    "### GRADED\n",
    "\n",
    "gap_df = ''\n",
    "\n",
    "### BEGIN SOLUTION\n",
    "gap_df = pd.read_csv('data/gapminder.csv')\n",
    "### END SOLUTION"
   ]
  },
  {
   "cell_type": "code",
   "execution_count": 3,
   "metadata": {
    "id": "jonDK-5fQSvp",
    "nbgrader": {
     "grade": true,
     "grade_id": "cell-3779def4c55cadc6",
     "locked": true,
     "points": 2,
     "schema_version": 1,
     "solution": false
    }
   },
   "outputs": [],
   "source": [
    "### BEGIN HIDDEN TESTS\n",
    "gap_df_ = pd.read_csv('data/gapminder.csv')\n",
    "pd.testing.assert_frame_equal(gap_df_, gap_df)\n",
    "### END HIDDEN TESTS"
   ]
  },
  {
   "cell_type": "markdown",
   "metadata": {
    "id": "10_-bb88QSvp",
    "nbgrader": {
     "grade": false,
     "grade_id": "cell-ca1228978d2c67a3",
     "locked": true,
     "schema_version": 1,
     "solution": false
    }
   },
   "source": [
    "[Back to top](#Index:) \n",
    "\n",
    "### Problem 2: Features for Histograms\n",
    "\n",
    "**2 Points**\n",
    "\n",
    "A histogram is a plot that is appropriate for continuous numeric features.  Examine the data and determine a list of columns that are eligible for drawing histograms.  Save your answer as a list of strings that match the column names exactly to `hist_columns` below.\n",
    "\n",
    "```python\n",
    "hist_columns = ['col_name_1', 'col_name_2', ...]\n",
    "```"
   ]
  },
  {
   "cell_type": "code",
   "execution_count": 4,
   "metadata": {
    "id": "ih3E358VQSvq",
    "nbgrader": {
     "grade": false,
     "grade_id": "cell-e416070d10bd378e",
     "locked": false,
     "schema_version": 1,
     "solution": true
    },
    "outputId": "12e6edc1-9df0-47dd-b153-cc86c1098512"
   },
   "outputs": [
    {
     "name": "stdout",
     "output_type": "stream",
     "text": [
      "<class 'list'>\n"
     ]
    }
   ],
   "source": [
    "### GRADED\n",
    "\n",
    "hist_columns = ''\n",
    "\n",
    "### BEGIN SOLUTION\n",
    "hist_columns = ['lifeExp', 'pop', 'gdpPercap']\n",
    "### END SOLUTION\n",
    "\n",
    "# Answer check\n",
    "print(type(hist_columns)) ##should be list"
   ]
  },
  {
   "cell_type": "code",
   "execution_count": 5,
   "metadata": {
    "id": "FZaUolvpQSvr",
    "nbgrader": {
     "grade": true,
     "grade_id": "cell-8c0994184882e304",
     "locked": true,
     "points": 2,
     "schema_version": 1,
     "solution": false
    }
   },
   "outputs": [],
   "source": [
    "### BEGIN HIDDEN TESTS\n",
    "hist_columns_ = ['lifeExp', 'pop', 'gdpPercap']\n",
    "assert set(hist_columns) == set(hist_columns_)\n",
    "### END HIDDEN TESTS"
   ]
  },
  {
   "cell_type": "markdown",
   "metadata": {
    "id": "LFzWPFUuQSvs",
    "nbgrader": {
     "grade": false,
     "grade_id": "cell-44c52fe09bced700",
     "locked": true,
     "schema_version": 1,
     "solution": false
    }
   },
   "source": [
    "[Back to top](#Index:) \n",
    "\n",
    "### Problem 3: Histogram of Life Expectancy\n",
    "\n",
    "**2 Points**\n",
    "\n",
    "Use the `matplotlib` histogram with `plt.hist()` to create a histogram of the Life Expectancy column.  Use the `plt.savefig()` method to save the image as `life_exp_hist.png` in the `images` folder.\n",
    "\n",
    "Please note that because Codio autograder is not able to grade visualizations meaningfully, this quesiton is designed to be graded complete/incomplete. To collect points for the completed assignment, you have to submit your assignment."
   ]
  },
  {
   "cell_type": "code",
   "execution_count": 9,
   "metadata": {
    "id": "MsB64Bx-QSvs",
    "nbgrader": {
     "grade": false,
     "grade_id": "cell-e7f239fd263be32b",
     "locked": false,
     "schema_version": 1,
     "solution": true
    }
   },
   "outputs": [
    {
     "data": {
      "image/png": "[encoded data removed]",
      "text/plain": [
       "<Figure size 432x288 with 1 Axes>"
      ]
     },
     "metadata": {
      "needs_background": "light"
     },
     "output_type": "display_data"
    }
   ],
   "source": [
    "### GRADED\n",
    "\n",
    "### BEGIN SOLUTION\n",
    "plt.hist(gap_df['lifeExp'])\n",
    "plt.savefig('images/life_exp_hist.png')\n",
    "\n",
    "### END SOLUTION\n"
   ]
  },
  {
   "cell_type": "code",
   "execution_count": 10,
   "metadata": {
    "nbgrader": {
     "grade": true,
     "grade_id": "cell-0c5a7796c9fc1a1f",
     "locked": true,
     "points": 2,
     "schema_version": 1,
     "solution": false
    }
   },
   "outputs": [],
   "source": [
    "### BEGIN HIDDEN TESTS\n",
    "pass\n",
    "### END HIDDEN TESTS"
   ]
  },
  {
   "cell_type": "markdown",
   "metadata": {
    "id": "1dYF6EQnQSvs",
    "nbgrader": {
     "grade": false,
     "grade_id": "cell-84ceb7a00f5d8caf",
     "locked": true,
     "schema_version": 1,
     "solution": false
    }
   },
   "source": [
    "[Back to top](#Index:) \n",
    "\n",
    "### Problem 4: Adding a title and human readable label\n",
    "\n",
    "**2 Points**\n",
    "\n",
    "Use the `plt.title()` method to add the title \"Histogram of Life Expectancy\".  Also, use the `plt.xlabel()` method to add a label to the x-axis \"Life Expectancy\".  Save your image as `hist2.png` to the `images` folder.\n",
    "\n",
    "Please note that because Codio autograder is not able to grade visualizations meaningfully, this quesiton is designed to be graded complete/incomplete. To collect points for the completed assignment, you have to submit your assignment."
   ]
  },
  {
   "cell_type": "code",
   "execution_count": 1,
   "metadata": {
    "id": "9klJdfi7QSvt",
    "nbgrader": {
     "grade": false,
     "grade_id": "cell-9bb552338410dd34",
     "locked": false,
     "schema_version": 1,
     "solution": true
    }
   },
   "outputs": [
    {
     "ename": "SyntaxError",
     "evalue": "invalid syntax (<ipython-input-1-99bf3ebe43d0>, line 11)",
     "output_type": "error",
     "traceback": [
      "\u001b[0;36m  File \u001b[0;32m\"<ipython-input-1-99bf3ebe43d0>\"\u001b[0;36m, line \u001b[0;32m11\u001b[0m\n\u001b[0;31m    Please note that because Codio autograder is not able to grade visualizations meaningfully, this quesiton is designed to be graded complete/incomplete. To collect points for the completed assignment, you have to submit your assignment.\u001b[0m\n\u001b[0m              ^\u001b[0m\n\u001b[0;31mSyntaxError\u001b[0m\u001b[0;31m:\u001b[0m invalid syntax\n"
     ]
    }
   ],
   "source": [
    "### GRADED\n",
    "\n",
    "### BEGIN SOLUTION\n",
    "plt.title('Histogram of Life Expectancy')\n",
    "plt.xlabel('Life Expectancy')\n",
    "plt.hist(gap_df['lifeExp'])\n",
    "plt.savefig('images/hist2.png')\n",
    "\n",
    "### END SOLUTION"
   ]
  },
  {
   "cell_type": "code",
   "execution_count": 12,
   "metadata": {
    "nbgrader": {
     "grade": true,
     "grade_id": "cell-52944515702c763d",
     "locked": true,
     "points": 2,
     "schema_version": 1,
     "solution": false
    }
   },
   "outputs": [],
   "source": [
    "### BEGIN HIDDEN TESTS\n",
    "pass\n",
    "### END HIDDEN TESTS"
   ]
  },
  {
   "cell_type": "markdown",
   "metadata": {
    "id": "ZIVUhAH4QSvt",
    "nbgrader": {
     "grade": false,
     "grade_id": "cell-166b53890d99e892",
     "locked": true,
     "schema_version": 1,
     "solution": false
    }
   },
   "source": [
    "[Back to top](#Index:) \n",
    "\n",
    "### Problem 5: Histogram of GDP\n",
    "\n",
    "**2 Points**\n",
    "\n",
    "Use matplotlib to create a histogram of the GDP data.  Add the title \"Histogram of GDP per capita\" and an x-label \"GDP Per Capita\".  Save your histogram as `gdp_hist.png` to the images folder.\n",
    "\n",
    "Please note that because Codio autograder is not able to grade visualizations meaningfully, this quesiton is designed to be graded complete/incomplete. To collect points for the completed assignment, you have to submit your assignment."
   ]
  },
  {
   "cell_type": "code",
   "execution_count": 13,
   "metadata": {
    "id": "oOPIA2PnQSvt",
    "nbgrader": {
     "grade": false,
     "grade_id": "cell-46cd90759f92036a",
     "locked": false,
     "schema_version": 1,
     "solution": true
    }
   },
   "outputs": [
    {
     "data": {
      "image/png": "[encoded data removed]",
      "text/plain": [
       "<Figure size 432x288 with 1 Axes>"
      ]
     },
     "metadata": {
      "needs_background": "light"
     },
     "output_type": "display_data"
    }
   ],
   "source": [
    "### GRADED\n",
    "\n",
    "### BEGIN SOLUTION\n",
    "plt.title('Histogram of  GDP per capita')\n",
    "plt.xlabel('GDP Per Capita')\n",
    "plt.hist(gap_df['gdpPercap'])\n",
    "plt.savefig('images/gdp_hist.png')\n",
    "\n",
    "### END SOLUTION\n",
    "\n"
   ]
  },
  {
   "cell_type": "code",
   "execution_count": 14,
   "metadata": {
    "nbgrader": {
     "grade": true,
     "grade_id": "cell-a0528072f23dc7e4",
     "locked": true,
     "points": 2,
     "schema_version": 1,
     "solution": false
    }
   },
   "outputs": [],
   "source": [
    "### BEGIN HIDDEN TESTS\n",
    "pass\n",
    "### END HIDDEN TESTS"
   ]
  },
  {
   "cell_type": "markdown",
   "metadata": {
    "id": "kld21GY8QSvu",
    "nbgrader": {
     "grade": false,
     "grade_id": "cell-ae0e017007bf50f3",
     "locked": true,
     "schema_version": 1,
     "solution": false
    }
   },
   "source": [
    "[Back to top](#Index:) \n",
    "\n",
    "### Problem 6: Customizing the Histogram\n",
    "\n",
    "**6 Points**\n",
    "\n",
    "\n",
    "Set the `bins` argument to 50, the `edgecolor` to black, `alpha` to 0.5, `color` to lightblue, and follow your histogram function with the `plt.grid()` function to add a grid to the plot.  Add the same title and x-label as problem 5.\n",
    "\n",
    "Please note that because Codio autograder is not able to grade visualizations meaningfully, this quesiton is designed to be graded complete/incomplete. To collect points for the completed assignment, you have to submit your assignment."
   ]
  },
  {
   "cell_type": "code",
   "execution_count": 15,
   "metadata": {
    "id": "wmZrVyR3QSvu",
    "nbgrader": {
     "grade": false,
     "grade_id": "cell-f26999f4029db46e",
     "locked": false,
     "schema_version": 1,
     "solution": true
    }
   },
   "outputs": [
    {
     "data": {
      "text/plain": [
       "(array([716., 274., 170., 115.,  90.,  62.,  45.,  36.,  42.,  30.,  27.,\n",
       "         19.,  19.,  15.,  16.,  10.,   2.,   4.,   2.,   1.,   2.,   1.,\n",
       "          0.,   0.,   0.,   0.,   1.,   0.,   0.,   0.,   0.,   0.,   0.,\n",
       "          0.,   0.,   1.,   0.,   0.,   0.,   0.,   0.,   0.,   1.,   0.,\n",
       "          0.,   0.,   0.,   1.,   1.,   1.]),\n",
       " array([   241.1658765 ,   2506.80521697,   4772.44455744,   7038.08389791,\n",
       "          9303.72323838,  11569.36257885,  13835.00191932,  16100.64125979,\n",
       "         18366.28060026,  20631.91994073,  22897.5592812 ,  25163.19862167,\n",
       "         27428.83796214,  29694.47730261,  31960.11664308,  34225.75598355,\n",
       "         36491.39532402,  38757.03466449,  41022.67400496,  43288.31334543,\n",
       "         45553.9526859 ,  47819.59202637,  50085.23136684,  52350.87070731,\n",
       "         54616.51004778,  56882.14938825,  59147.78872872,  61413.42806919,\n",
       "         63679.06740966,  65944.70675013,  68210.3460906 ,  70475.98543107,\n",
       "         72741.62477154,  75007.26411201,  77272.90345248,  79538.54279295,\n",
       "         81804.18213342,  84069.82147389,  86335.46081436,  88601.10015483,\n",
       "         90866.7394953 ,  93132.37883577,  95398.01817624,  97663.65751671,\n",
       "         99929.29685718, 102194.93619765, 104460.57553812, 106726.21487859,\n",
       "        108991.85421906, 111257.49355953, 113523.1329    ]),\n",
       " <a list of 50 Patch objects>)"
      ]
     },
     "execution_count": 15,
     "metadata": {},
     "output_type": "execute_result"
    },
    {
     "data": {
      "image/png": "[encoded data removed]",
      "text/plain": [
       "<Figure size 432x288 with 1 Axes>"
      ]
     },
     "metadata": {
      "needs_background": "light"
     },
     "output_type": "display_data"
    }
   ],
   "source": [
    "### GRADED\n",
    "\n",
    "### BEGIN SOLUTION\n",
    "plt.grid()\n",
    "plt.title('Histogram of  GDP per capita')\n",
    "plt.xlabel('GDP Per Capita')\n",
    "plt.hist(gap_df['gdpPercap'], bins=50, edgecolor='black', alpha=0.5, color='lightblue')\n",
    "\n",
    "### END SOLUTION\n",
    "\n"
   ]
  },
  {
   "cell_type": "code",
   "execution_count": 16,
   "metadata": {
    "nbgrader": {
     "grade": true,
     "grade_id": "cell-95c0d0bdf9295412",
     "locked": true,
     "points": 2,
     "schema_version": 1,
     "solution": false
    }
   },
   "outputs": [],
   "source": [
    "### BEGIN HIDDEN TESTS\n",
    "pass\n",
    "### END HIDDEN TESTS"
   ]
  },
  {
   "cell_type": "markdown",
   "metadata": {
    "id": "W3XSEik1QSvu",
    "nbgrader": {
     "grade": false,
     "grade_id": "cell-624d2eac37f8f761",
     "locked": true,
     "schema_version": 1,
     "solution": false
    }
   },
   "source": [
    "[Back to top](#Index:) \n",
    "\n",
    "### Problem 7: Scatterplot of GDP vs. Life Expectancy\n",
    "\n",
    "**2 Points**\n",
    "\n",
    "`matplotlib` also has a scatterplot method that you can use with `plt.scatter()`.  Use this to create a scatterplot with the GDP column on the x-axis and Life Expectancy on the y-axis.  Add human readable labels \"GDP Per Capita\" and \"Life Expectancy (years)\" respectively and a title \"GDP vs. Life Expectancy\".\n",
    "\n",
    "Please note that because Codio autograder is not able to grade visualizations meaningfully, this quesiton is designed to be graded complete/incomplete. To collect points for the completed assignment, you have to submit your assignment."
   ]
  },
  {
   "cell_type": "code",
   "execution_count": 17,
   "metadata": {
    "id": "CMNBYyzBQSvu",
    "nbgrader": {
     "grade": false,
     "grade_id": "cell-c72fe8877caf7be8",
     "locked": false,
     "schema_version": 1,
     "solution": true
    }
   },
   "outputs": [
    {
     "data": {
      "text/plain": [
       "Text(0, 0.5, 'Life Expectancy (years)')"
      ]
     },
     "execution_count": 17,
     "metadata": {},
     "output_type": "execute_result"
    },
    {
     "data": {
      "image/png": "[encoded data removed]",
      "text/plain": [
       "<Figure size 432x288 with 1 Axes>"
      ]
     },
     "metadata": {
      "needs_background": "light"
     },
     "output_type": "display_data"
    }
   ],
   "source": [
    "### GRADED\n",
    "\n",
    "### BEGIN SOLUTION\n",
    "plt.scatter(x=gap_df['gdpPercap'], y=gap_df['lifeExp'],c='lightblue', edgecolor='black')\n",
    "plt.title('GDP vs. Life Expectancy')\n",
    "plt.xlabel('GDP Per Capita')\n",
    "plt.ylabel('Life Expectancy (years)')\n",
    "\n",
    "### END SOLUTION\n",
    "\n"
   ]
  },
  {
   "cell_type": "code",
   "execution_count": 18,
   "metadata": {
    "nbgrader": {
     "grade": true,
     "grade_id": "cell-ff3c1705f9f7ecba",
     "locked": true,
     "points": 2,
     "schema_version": 1,
     "solution": false
    }
   },
   "outputs": [],
   "source": [
    "### BEGIN HIDDEN TESTS\n",
    "pass\n",
    "### END HIDDEN TESTS"
   ]
  },
  {
   "cell_type": "markdown",
   "metadata": {
    "id": "5OlGtZ9GQSvv",
    "nbgrader": {
     "grade": false,
     "grade_id": "cell-5e8292b1eecf714f",
     "locked": true,
     "schema_version": 1,
     "solution": false
    }
   },
   "source": [
    "[Back to top](#Index:) \n",
    "\n",
    "### Problem 8: Logarithmic Transformation\n",
    "\n",
    "**2 Points**\n",
    "\n",
    "Notice the non-linear relationship between GDP and Life Expectancy.  One common transformation is to take something that looks exponential, and to take a logarithm in order to transform the relationship to a linear one.  Draw a scatterplot like above but use `np.log()` to plot the logarithm of GDP vs. Life Expectancy.  Add appropriate x and y labels, and the title \"Logarithm of GDP vs. Life Expectancy\". \n",
    "\n",
    "Please note that because Codio autograder is not able to grade visualizations meaningfully, this quesiton is designed to be graded complete/incomplete. To collect points for the completed assignment, you have to submit your assignment."
   ]
  },
  {
   "cell_type": "code",
   "execution_count": 19,
   "metadata": {
    "id": "nxrqUn0WQSvv",
    "nbgrader": {
     "grade": false,
     "grade_id": "cell-0ff0d895c6f3ae8d",
     "locked": false,
     "schema_version": 1,
     "solution": true
    }
   },
   "outputs": [
    {
     "data": {
      "text/plain": [
       "Text(0, 0.5, 'Life Expectancy (years)')"
      ]
     },
     "execution_count": 19,
     "metadata": {},
     "output_type": "execute_result"
    },
    {
     "data": {
      "image/png": "[encoded data removed]",
      "text/plain": [
       "<Figure size 432x288 with 1 Axes>"
      ]
     },
     "metadata": {
      "needs_background": "light"
     },
     "output_type": "display_data"
    }
   ],
   "source": [
    "### GRADED\n",
    "\n",
    "### BEGIN SOLUTION\n",
    "plt.scatter(x=np.log(gap_df['gdpPercap']), y=np.log(gap_df['lifeExp']),c='lightblue', edgecolor='black')\n",
    "plt.title('Logarithm of GDP vs. Life Expectancy')\n",
    "plt.xlabel('GDP Per Capita')\n",
    "plt.ylabel('Life Expectancy (years)')\n",
    "\n",
    "### END SOLUTION\n",
    "\n"
   ]
  },
  {
   "cell_type": "code",
   "execution_count": 20,
   "metadata": {
    "nbgrader": {
     "grade": true,
     "grade_id": "cell-8dcf18ff982a3282",
     "locked": true,
     "points": 2,
     "schema_version": 1,
     "solution": false
    }
   },
   "outputs": [],
   "source": [
    "### BEGIN HIDDEN TESTS\n",
    "pass\n",
    "### END HIDDEN TESTS"
   ]
  },
  {
   "cell_type": "markdown",
   "metadata": {
    "id": "PotEGh5HQSvv",
    "nbgrader": {
     "grade": false,
     "grade_id": "cell-e177b496fec2d839",
     "locked": true,
     "schema_version": 1,
     "solution": false
    }
   },
   "source": [
    "[Back to top](#Index:) \n",
    "\n",
    "### Problem 9: `pandas` histogram\n",
    "\n",
    "**2 Points**\n",
    "\n",
    "\n",
    "An alternative way to draw a histogram of a column in a DataFrame is to use the `.hist()` method.  This wraps the matplotlib histogram function and adds a few additional presets like a grid.  Below, select the GDP column and use the `.hist()` method to create a histogram using the built in pandas method. Save your image as `gdp_hist_pandas.png` to the `images` folder.\n",
    "\n",
    "Please note that because Codio autograder is not able to grade visualizations meaningfully, this quesiton is designed to be graded complete/incomplete. To collect points for the completed assignment, you have to submit your assignment."
   ]
  },
  {
   "cell_type": "code",
   "execution_count": 21,
   "metadata": {
    "id": "v3mB1950QSvw",
    "nbgrader": {
     "grade": false,
     "grade_id": "cell-484c7754d76ffe77",
     "locked": false,
     "schema_version": 1,
     "solution": true
    }
   },
   "outputs": [
    {
     "data": {
      "image/png": "[encoded data removed]",
      "text/plain": [
       "<Figure size 432x288 with 1 Axes>"
      ]
     },
     "metadata": {
      "needs_background": "light"
     },
     "output_type": "display_data"
    }
   ],
   "source": [
    "### GRADED\n",
    "\n",
    "### BEGIN SOLUTION\n",
    "gap_df['gdpPercap'].hist(grid=True).figure.savefig('images/gdp_hist_pandas.png')\n",
    "\n",
    "### END SOLUTION\n",
    "\n"
   ]
  },
  {
   "cell_type": "code",
   "execution_count": 22,
   "metadata": {
    "nbgrader": {
     "grade": true,
     "grade_id": "cell-76b3fc01c77b57f0",
     "locked": true,
     "points": 2,
     "schema_version": 1,
     "solution": false
    }
   },
   "outputs": [],
   "source": [
    "### BEGIN HIDDEN TESTS\n",
    "pass\n",
    "### END HIDDEN TESTS"
   ]
  },
  {
   "cell_type": "markdown",
   "metadata": {
    "id": "2Y5NxYLRQSvx",
    "nbgrader": {
     "grade": false,
     "grade_id": "cell-c619c63e62d33226",
     "locked": true,
     "schema_version": 1,
     "solution": false
    }
   },
   "source": [
    "[Back to top](#Index:) \n",
    "\n",
    "### Problem 10: `pandas` scatterplot\n",
    "\n",
    "**2 Points**\n",
    "\n",
    "Similar to the `.hist()` method, pandas has a general `.plot()` method where you can specify the kind of plot.  Use this to create a scatterplot of GDP on the x-axis and Life Expectancy on the y-axis.  You will have to call `.plot()` on the entire DataFrame and specify the `x` and `y` arguments to the `.plot()` function with the `kind = scatter` argument.  Save your plot as `gdp_lifexp_scatter_pandas.png` to the `images` folder.\n",
    "\n",
    "Please note that because Codio autograder is not able to grade visualizations meaningfully, this quesiton is designed to be graded complete/incomplete. To collect points for the completed assignment, you have to submit your assignment."
   ]
  },
  {
   "cell_type": "code",
   "execution_count": 23,
   "metadata": {
    "id": "Xbzx4uBRQSvx",
    "nbgrader": {
     "grade": false,
     "grade_id": "cell-e4438802431bf0f9",
     "locked": false,
     "schema_version": 1,
     "solution": true
    }
   },
   "outputs": [
    {
     "data": {
      "image/png": "[encoded data removed]",
      "text/plain": [
       "<Figure size 432x288 with 1 Axes>"
      ]
     },
     "metadata": {
      "needs_background": "light"
     },
     "output_type": "display_data"
    }
   ],
   "source": [
    "### GRADED\n",
    "\n",
    "### BEGIN SOLUTION\n",
    "gap_df.plot(x='gdpPercap', y='lifeExp', kind = 'scatter')\n",
    "plt.savefig('images/gdp_lifexp_scatter_pandas.png')\n",
    "\n",
    "### END SOLUTION\n",
    "\n"
   ]
  },
  {
   "cell_type": "code",
   "execution_count": null,
   "metadata": {
    "nbgrader": {
     "grade": true,
     "grade_id": "cell-f8ee3562d8943e6c",
     "locked": true,
     "points": 2,
     "schema_version": 1,
     "solution": false
    }
   },
   "outputs": [],
   "source": [
    "### BEGIN HIDDEN TESTS\n",
    "pass\n",
    "### END HIDDEN TESTS"
   ]
  }
 ],
 "metadata": {
  "celltoolbar": "Create Assignment",
  "colab": {
   "name": "coding_activity_2-5.ipynb",
   "provenance": []
  },
  "kernelspec": {
   "display_name": "Python 3",
   "language": "python",
   "name": "python3"
  },
  "language_info": {
   "codemirror_mode": {
    "name": "ipython",
    "version": 3
   },
   "file_extension": ".py",
   "mimetype": "text/x-python",
   "name": "python",
   "nbconvert_exporter": "python",
   "pygments_lexer": "ipython3",
   "version": "3.6.9"
  }
 },
 "nbformat": 4,
 "nbformat_minor": 1
}
