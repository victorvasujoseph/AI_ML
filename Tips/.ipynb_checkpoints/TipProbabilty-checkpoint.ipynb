{
 "cells": [
  {
   "cell_type": "code",
   "execution_count": 1,
   "id": "ea02c504-8918-4f1c-abbf-d34385573755",
   "metadata": {},
   "outputs": [],
   "source": [
    "#simulating fliping a coin"
   ]
  },
  {
   "cell_type": "code",
   "execution_count": 2,
   "id": "6f050146-2bdb-43a5-ae8e-1c24bf0ab5fb",
   "metadata": {},
   "outputs": [],
   "source": [
    "import numpy as np"
   ]
  },
  {
   "cell_type": "code",
   "execution_count": 4,
   "id": "a3767716-6c7e-4a20-b620-289ad123d059",
   "metadata": {},
   "outputs": [
    {
     "data": {
      "text/plain": [
       "array([0.994341  , 0.47382618, 0.31624234, 0.20071629, 0.30103151])"
      ]
     },
     "execution_count": 4,
     "metadata": {},
     "output_type": "execute_result"
    }
   ],
   "source": [
    "np.random.rand(5) # click tab near . to find the list of supported functions and shift + tab near functions \n",
    "# np.random.seed(555) use seed to get the same values again and again"
   ]
  },
  {
   "cell_type": "code",
   "execution_count": 7,
   "id": "088b221f-33da-48a6-a93b-eb864e6c70fe",
   "metadata": {},
   "outputs": [],
   "source": [
    "coinHeads = np.random.rand(5) > 0.5 # Setting as anthing greater than 0.5 is heads."
   ]
  },
  {
   "cell_type": "code",
   "execution_count": 6,
   "id": "7ed4df56-d254-4620-b49e-55c2a41ea5a6",
   "metadata": {},
   "outputs": [
    {
     "data": {
      "text/plain": [
       "array([False,  True, False, False, False])"
      ]
     },
     "execution_count": 6,
     "metadata": {},
     "output_type": "execute_result"
    }
   ],
   "source": [
    "coinHeads"
   ]
  },
  {
   "cell_type": "code",
   "execution_count": null,
   "id": "db4f6af4-2cc8-493f-8499-7c8b6cb4d787",
   "metadata": {},
   "outputs": [],
   "source": []
  }
 ],
 "metadata": {
  "kernelspec": {
   "display_name": "Python 3 (ipykernel)",
   "language": "python",
   "name": "python3"
  },
  "language_info": {
   "codemirror_mode": {
    "name": "ipython",
    "version": 3
   },
   "file_extension": ".py",
   "mimetype": "text/x-python",
   "name": "python",
   "nbconvert_exporter": "python",
   "pygments_lexer": "ipython3",
   "version": "3.11.7"
  }
 },
 "nbformat": 4,
 "nbformat_minor": 5
}
