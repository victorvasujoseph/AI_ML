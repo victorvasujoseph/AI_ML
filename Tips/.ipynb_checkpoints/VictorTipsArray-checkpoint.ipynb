{
 "cells": [
  {
   "cell_type": "code",
   "execution_count": 1,
   "id": "2c17c2b3-c6fa-43f4-a448-0d43b8c729c4",
   "metadata": {},
   "outputs": [],
   "source": [
    "#create an array"
   ]
  },
  {
   "cell_type": "code",
   "execution_count": 2,
   "id": "59bc111e-f685-4f21-a522-43602e8bd9f1",
   "metadata": {},
   "outputs": [],
   "source": [
    "#simple list\n",
    "\n",
    "sArray = [1,2,3,4,5,6]"
   ]
  },
  {
   "cell_type": "code",
   "execution_count": 3,
   "id": "c31e8b68-66c5-428a-be07-916b9263581e",
   "metadata": {},
   "outputs": [
    {
     "name": "stdout",
     "output_type": "stream",
     "text": [
      "[1, 2, 3, 4, 5, 6]\n"
     ]
    }
   ],
   "source": [
    "print(sArray)"
   ]
  },
  {
   "cell_type": "code",
   "execution_count": 4,
   "id": "3cbffb7f-cea0-4486-b6fa-7c87b4c379d9",
   "metadata": {},
   "outputs": [],
   "source": [
    "# create an arra using np"
   ]
  },
  {
   "cell_type": "code",
   "execution_count": 7,
   "id": "8868ae23-1d05-4a05-b5d7-159f40bcf799",
   "metadata": {},
   "outputs": [
    {
     "data": {
      "text/plain": [
       "array([1, 2, 3, 4, 5, 6])"
      ]
     },
     "execution_count": 7,
     "metadata": {},
     "output_type": "execute_result"
    }
   ],
   "source": [
    "import numpy as np\n",
    "np.array(sArray)"
   ]
  },
  {
   "cell_type": "code",
   "execution_count": 8,
   "id": "55d132b7-8c1a-4b95-866d-73f64f023d02",
   "metadata": {},
   "outputs": [
    {
     "data": {
      "text/plain": [
       "array([ 5,  6,  7,  8,  9, 10, 11, 12, 13, 14, 15, 16, 17, 18, 19])"
      ]
     },
     "execution_count": 8,
     "metadata": {},
     "output_type": "execute_result"
    }
   ],
   "source": [
    "np.array(range(5,20))"
   ]
  },
  {
   "cell_type": "code",
   "execution_count": 26,
   "id": "9aa1565a-e2e7-45da-841c-7d5e2c5bdc85",
   "metadata": {},
   "outputs": [],
   "source": [
    "simple = np.arange(5,20)"
   ]
  },
  {
   "cell_type": "code",
   "execution_count": 11,
   "id": "32474b13-6010-489c-9911-3d3eac10d484",
   "metadata": {},
   "outputs": [
    {
     "data": {
      "text/plain": [
       "array([ 0.        ,  2.22222222,  4.44444444,  6.66666667,  8.88888889,\n",
       "       11.11111111, 13.33333333, 15.55555556, 17.77777778, 20.        ])"
      ]
     },
     "execution_count": 11,
     "metadata": {},
     "output_type": "execute_result"
    }
   ],
   "source": [
    "np.linspace(0,20,num=10) # use this to create array between a range and number of values."
   ]
  },
  {
   "cell_type": "code",
   "execution_count": 12,
   "id": "442dd3d4-4dc2-414e-a273-923dc9d0681c",
   "metadata": {},
   "outputs": [],
   "source": [
    "# Two dimensional"
   ]
  },
  {
   "cell_type": "code",
   "execution_count": 17,
   "id": "1fc93d71-5ca3-4e69-9f01-9d2524f01ee3",
   "metadata": {},
   "outputs": [
    {
     "name": "stdout",
     "output_type": "stream",
     "text": [
      "[[1. 1. 1. 1. 1. 1. 1. 1. 1. 1.]\n",
      " [1. 1. 1. 1. 1. 1. 1. 1. 1. 1.]\n",
      " [1. 1. 1. 1. 1. 1. 1. 1. 1. 1.]]\n"
     ]
    }
   ],
   "source": [
    "justOnes = np.ones((3,10))\n",
    "print(justOnes)"
   ]
  },
  {
   "cell_type": "code",
   "execution_count": 18,
   "id": "ecbc1b0a-a64d-4cd4-84fc-004d5159d4f2",
   "metadata": {},
   "outputs": [],
   "source": [
    "twoDimensional = np.linspace(1,100, 50) "
   ]
  },
  {
   "cell_type": "code",
   "execution_count": 30,
   "id": "2e15706f-68be-4428-9b79-4e036e6acb39",
   "metadata": {},
   "outputs": [],
   "source": [
    "reshapedtwoD = twoDimensional.reshape(5,10) # reshaping the single dimension array to two dimensional with 5 rows and 10 columns"
   ]
  },
  {
   "cell_type": "code",
   "execution_count": 21,
   "id": "de12728e-3a9a-4575-877b-4fb77d60a88d",
   "metadata": {},
   "outputs": [],
   "source": [
    "# shift + enter = Will execute the cell"
   ]
  },
  {
   "cell_type": "code",
   "execution_count": 22,
   "id": "adea59d0-dde1-4c38-88f0-2504f22f7662",
   "metadata": {},
   "outputs": [],
   "source": [
    "# shift + tab will suggest at np.linspace( shift + tab)"
   ]
  },
  {
   "cell_type": "code",
   "execution_count": 27,
   "id": "a9b49d33-96b3-4037-b8a7-8db472dbc039",
   "metadata": {},
   "outputs": [
    {
     "data": {
      "text/plain": [
       "7"
      ]
     },
     "execution_count": 27,
     "metadata": {},
     "output_type": "execute_result"
    }
   ],
   "source": [
    "simple[2]"
   ]
  },
  {
   "cell_type": "code",
   "execution_count": 28,
   "id": "97e44e02-55df-4b94-a08d-79f5f185891f",
   "metadata": {},
   "outputs": [
    {
     "data": {
      "text/plain": [
       "array([ 7,  8,  9, 10, 11, 12, 13, 14, 15, 16, 17, 18, 19])"
      ]
     },
     "execution_count": 28,
     "metadata": {},
     "output_type": "execute_result"
    }
   ],
   "source": [
    "simple[2:]"
   ]
  },
  {
   "cell_type": "code",
   "execution_count": 29,
   "id": "fd2eeb83-b8a3-413c-a4a3-f651e3bea5e8",
   "metadata": {},
   "outputs": [
    {
     "data": {
      "text/plain": [
       "array([7, 8, 9])"
      ]
     },
     "execution_count": 29,
     "metadata": {},
     "output_type": "execute_result"
    }
   ],
   "source": [
    "simple[2:5]"
   ]
  },
  {
   "cell_type": "code",
   "execution_count": 32,
   "id": "4328ea31-8343-478d-9f2b-a91af1438061",
   "metadata": {},
   "outputs": [
    {
     "data": {
      "text/plain": [
       "array([[  1.        ,   3.02040816,   5.04081633,   7.06122449,\n",
       "          9.08163265,  11.10204082,  13.12244898,  15.14285714,\n",
       "         17.16326531,  19.18367347],\n",
       "       [ 21.20408163,  23.2244898 ,  25.24489796,  27.26530612,\n",
       "         29.28571429,  31.30612245,  33.32653061,  35.34693878,\n",
       "         37.36734694,  39.3877551 ],\n",
       "       [ 41.40816327,  43.42857143,  45.44897959,  47.46938776,\n",
       "         49.48979592,  51.51020408,  53.53061224,  55.55102041,\n",
       "         57.57142857,  59.59183673],\n",
       "       [ 61.6122449 ,  63.63265306,  65.65306122,  67.67346939,\n",
       "         69.69387755,  71.71428571,  73.73469388,  75.75510204,\n",
       "         77.7755102 ,  79.79591837],\n",
       "       [ 81.81632653,  83.83673469,  85.85714286,  87.87755102,\n",
       "         89.89795918,  91.91836735,  93.93877551,  95.95918367,\n",
       "         97.97959184, 100.        ]])"
      ]
     },
     "execution_count": 32,
     "metadata": {},
     "output_type": "execute_result"
    }
   ],
   "source": [
    "reshapedtwoD"
   ]
  },
  {
   "cell_type": "code",
   "execution_count": 33,
   "id": "56a55835-8da7-4d11-95b8-4ce256ac94fc",
   "metadata": {},
   "outputs": [
    {
     "data": {
      "text/plain": [
       "47.469387755102034"
      ]
     },
     "execution_count": 33,
     "metadata": {},
     "output_type": "execute_result"
    }
   ],
   "source": [
    "reshapedtwoD[2][3]"
   ]
  },
  {
   "cell_type": "code",
   "execution_count": 34,
   "id": "04f327ad-ae72-4797-ba51-a206c79cdf60",
   "metadata": {},
   "outputs": [
    {
     "data": {
      "text/plain": [
       "array([41.40816327, 43.42857143, 45.44897959, 47.46938776, 49.48979592,\n",
       "       51.51020408, 53.53061224, 55.55102041, 57.57142857, 59.59183673])"
      ]
     },
     "execution_count": 34,
     "metadata": {},
     "output_type": "execute_result"
    }
   ],
   "source": [
    "reshapedtwoD[2]"
   ]
  },
  {
   "cell_type": "code",
   "execution_count": 36,
   "id": "907a7b4c-6237-415f-8a74-49f3b6ce1ac7",
   "metadata": {},
   "outputs": [],
   "source": [
    "#filtering 2D array "
   ]
  },
  {
   "cell_type": "code",
   "execution_count": 49,
   "id": "a005a1d8-c214-4665-b6d4-8e7b7f5dff2c",
   "metadata": {},
   "outputs": [
    {
     "data": {
      "text/plain": [
       "array([[21.20408163, 23.2244898 , 25.24489796, 27.26530612, 29.28571429,\n",
       "        31.30612245, 33.32653061, 35.34693878, 37.36734694, 39.3877551 ],\n",
       "       [41.40816327, 43.42857143, 45.44897959, 47.46938776, 49.48979592,\n",
       "        51.51020408, 53.53061224, 55.55102041, 57.57142857, 59.59183673]])"
      ]
     },
     "execution_count": 49,
     "metadata": {},
     "output_type": "execute_result"
    }
   ],
   "source": [
    "reshapedtwoD[1:3]"
   ]
  },
  {
   "cell_type": "code",
   "execution_count": 52,
   "id": "b85caf8b-9793-44b7-9c8f-f4e8d48962c6",
   "metadata": {},
   "outputs": [
    {
     "data": {
      "text/plain": [
       "array([[27.26530612],\n",
       "       [47.46938776]])"
      ]
     },
     "execution_count": 52,
     "metadata": {},
     "output_type": "execute_result"
    }
   ],
   "source": [
    "reshapedtwoD[1:3, 3:4] #first parameter says rows start:end, second parameter say column start:end"
   ]
  },
  {
   "cell_type": "code",
   "execution_count": 53,
   "id": "26e07e7e-09f7-4ad6-933d-1f886d810f83",
   "metadata": {},
   "outputs": [],
   "source": [
    "# adding data to an array"
   ]
  },
  {
   "cell_type": "code",
   "execution_count": 54,
   "id": "1cd0b1cd-46a9-41df-9e15-67b98e3d450b",
   "metadata": {},
   "outputs": [],
   "source": [
    "reshapedtwoD[1:3, 3:4] = 10"
   ]
  },
  {
   "cell_type": "code",
   "execution_count": 55,
   "id": "55489472-1469-4845-bd76-021096865ef4",
   "metadata": {},
   "outputs": [
    {
     "data": {
      "text/plain": [
       "array([[10.],\n",
       "       [10.]])"
      ]
     },
     "execution_count": 55,
     "metadata": {},
     "output_type": "execute_result"
    }
   ],
   "source": [
    "reshapedtwoD[1:3, 3:4]"
   ]
  },
  {
   "cell_type": "code",
   "execution_count": 56,
   "id": "7baf9c4d-b24e-4b92-a4c7-7b8c13635a9e",
   "metadata": {},
   "outputs": [],
   "source": [
    "arr_prnt = np.linspace(0,50,20)"
   ]
  },
  {
   "cell_type": "code",
   "execution_count": 57,
   "id": "fce5d7a8-d1df-4497-8df8-e9b1030f30c3",
   "metadata": {},
   "outputs": [],
   "source": [
    "arr_child = arr_prnt"
   ]
  },
  {
   "cell_type": "code",
   "execution_count": 59,
   "id": "f151db88-ffdc-4465-a8d4-6e96c6d964f4",
   "metadata": {},
   "outputs": [
    {
     "name": "stdout",
     "output_type": "stream",
     "text": [
      "[ 0.          2.63157895  5.26315789  7.89473684 10.52631579]\n"
     ]
    }
   ],
   "source": [
    "print (arr_prnt[:5])"
   ]
  },
  {
   "cell_type": "code",
   "execution_count": 64,
   "id": "0ef7cf0c-cd40-4639-91da-40cd84b763e6",
   "metadata": {},
   "outputs": [],
   "source": [
    "cop = arr_prnt[:5] "
   ]
  },
  {
   "cell_type": "code",
   "execution_count": 66,
   "id": "2861327e-5302-4830-b7a3-f2a0fccb473d",
   "metadata": {},
   "outputs": [],
   "source": [
    "cop[:] = 4"
   ]
  },
  {
   "cell_type": "code",
   "execution_count": 69,
   "id": "65bf3fda-7a91-49c0-a370-e05918372015",
   "metadata": {},
   "outputs": [
    {
     "name": "stdout",
     "output_type": "stream",
     "text": [
      "[ 4.          4.          4.          4.          4.         13.15789474\n",
      " 15.78947368 18.42105263 21.05263158 23.68421053 26.31578947 28.94736842\n",
      " 31.57894737 34.21052632 36.84210526 39.47368421 42.10526316 44.73684211\n",
      " 47.36842105 50.        ]\n"
     ]
    }
   ],
   "source": [
    "print (arr_prnt) # changing a child copy created using : changes the parent"
   ]
  },
  {
   "cell_type": "code",
   "execution_count": 70,
   "id": "43086115-916d-4dc0-b6f4-3c3ddf3543d1",
   "metadata": {},
   "outputs": [
    {
     "name": "stdout",
     "output_type": "stream",
     "text": [
      "[ 4.          4.          4.          4.          4.         13.15789474\n",
      " 15.78947368 18.42105263 21.05263158 23.68421053 26.31578947 28.94736842\n",
      " 31.57894737 34.21052632 36.84210526 39.47368421 42.10526316 44.73684211\n",
      " 47.36842105 50.        ]\n"
     ]
    }
   ],
   "source": [
    "print(arr_child)# changing a child copy created using : changes the parent and all childs"
   ]
  },
  {
   "cell_type": "code",
   "execution_count": 71,
   "id": "5599ca27-cfab-4baf-b68a-f6a968cd104a",
   "metadata": {},
   "outputs": [],
   "source": [
    "#generating a random number using rand"
   ]
  },
  {
   "cell_type": "code",
   "execution_count": 78,
   "id": "d673bf64-73ae-432a-be1f-073b2d886f11",
   "metadata": {},
   "outputs": [
    {
     "data": {
      "text/plain": [
       "array([0.71783409, 0.04785513, 0.94447198, 0.68638004, 0.58120733])"
      ]
     },
     "execution_count": 78,
     "metadata": {},
     "output_type": "execute_result"
    }
   ],
   "source": [
    "np.random.seed(555) # makes sure we get the same random number, you can use any number here, but keep it same on diff sstems\n",
    "np.random.rand(5) # generates 5 random number"
   ]
  },
  {
   "cell_type": "code",
   "execution_count": null,
   "id": "278a46db-b959-49de-b42d-192a5e127e7d",
   "metadata": {},
   "outputs": [],
   "source": []
  }
 ],
 "metadata": {
  "kernelspec": {
   "display_name": "Python 3 (ipykernel)",
   "language": "python",
   "name": "python3"
  },
  "language_info": {
   "codemirror_mode": {
    "name": "ipython",
    "version": 3
   },
   "file_extension": ".py",
   "mimetype": "text/x-python",
   "name": "python",
   "nbconvert_exporter": "python",
   "pygments_lexer": "ipython3",
   "version": "3.11.7"
  }
 },
 "nbformat": 4,
 "nbformat_minor": 5
}
