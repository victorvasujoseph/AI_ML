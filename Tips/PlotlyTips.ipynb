{
 "cells": [
  {
   "cell_type": "code",
   "execution_count": 3,
   "id": "480ce191-8839-4b0c-871d-2679a373ee66",
   "metadata": {},
   "outputs": [],
   "source": [
    "import plotly.express as px\n",
    "import pandas as pd"
   ]
  },
  {
   "cell_type": "code",
   "execution_count": 33,
   "id": "2c981b76-6666-4ea3-8053-0eded93dabf6",
   "metadata": {},
   "outputs": [
    {
     "data": {
      "text/html": [
       "<div>\n",
       "<style scoped>\n",
       "    .dataframe tbody tr th:only-of-type {\n",
       "        vertical-align: middle;\n",
       "    }\n",
       "\n",
       "    .dataframe tbody tr th {\n",
       "        vertical-align: top;\n",
       "    }\n",
       "\n",
       "    .dataframe thead th {\n",
       "        text-align: right;\n",
       "    }\n",
       "</style>\n",
       "<table border=\"1\" class=\"dataframe\">\n",
       "  <thead>\n",
       "    <tr style=\"text-align: right;\">\n",
       "      <th></th>\n",
       "      <th>Unnamed: 0</th>\n",
       "      <th>team</th>\n",
       "      <th>leagueID</th>\n",
       "      <th>player</th>\n",
       "      <th>salary</th>\n",
       "      <th>position</th>\n",
       "      <th>gamesplayed</th>\n",
       "    </tr>\n",
       "  </thead>\n",
       "  <tbody>\n",
       "    <tr>\n",
       "      <th>143</th>\n",
       "      <td>144</td>\n",
       "      <td>CHA</td>\n",
       "      <td>AL</td>\n",
       "      <td>kochbi01</td>\n",
       "      <td>6375000</td>\n",
       "      <td>P</td>\n",
       "      <td>24</td>\n",
       "    </tr>\n",
       "    <tr>\n",
       "      <th>148</th>\n",
       "      <td>149</td>\n",
       "      <td>CHA</td>\n",
       "      <td>AL</td>\n",
       "      <td>olivomi0</td>\n",
       "      <td>320000</td>\n",
       "      <td>C</td>\n",
       "      <td>46</td>\n",
       "    </tr>\n",
       "    <tr>\n",
       "      <th>786</th>\n",
       "      <td>787</td>\n",
       "      <td>TOR</td>\n",
       "      <td>AL</td>\n",
       "      <td>kershja0</td>\n",
       "      <td>315000</td>\n",
       "      <td>P</td>\n",
       "      <td>1</td>\n",
       "    </tr>\n",
       "    <tr>\n",
       "      <th>405</th>\n",
       "      <td>406</td>\n",
       "      <td>MIL</td>\n",
       "      <td>NL</td>\n",
       "      <td>davisdo0</td>\n",
       "      <td>450000</td>\n",
       "      <td>P</td>\n",
       "      <td>33</td>\n",
       "    </tr>\n",
       "    <tr>\n",
       "      <th>360</th>\n",
       "      <td>361</td>\n",
       "      <td>KCA</td>\n",
       "      <td>AL</td>\n",
       "      <td>guielaa0</td>\n",
       "      <td>320000</td>\n",
       "      <td>LF</td>\n",
       "      <td>42</td>\n",
       "    </tr>\n",
       "    <tr>\n",
       "      <th>197</th>\n",
       "      <td>198</td>\n",
       "      <td>CIN</td>\n",
       "      <td>NL</td>\n",
       "      <td>hayneji0</td>\n",
       "      <td>2500000</td>\n",
       "      <td>P</td>\n",
       "      <td>5</td>\n",
       "    </tr>\n",
       "    <tr>\n",
       "      <th>310</th>\n",
       "      <td>311</td>\n",
       "      <td>FLO</td>\n",
       "      <td>NL</td>\n",
       "      <td>harrile0</td>\n",
       "      <td>400000</td>\n",
       "      <td>3B</td>\n",
       "      <td>79</td>\n",
       "    </tr>\n",
       "    <tr>\n",
       "      <th>390</th>\n",
       "      <td>391</td>\n",
       "      <td>LAN</td>\n",
       "      <td>NL</td>\n",
       "      <td>nomohi01</td>\n",
       "      <td>9000000</td>\n",
       "      <td>P</td>\n",
       "      <td>16</td>\n",
       "    </tr>\n",
       "    <tr>\n",
       "      <th>645</th>\n",
       "      <td>646</td>\n",
       "      <td>SEA</td>\n",
       "      <td>AL</td>\n",
       "      <td>hanseda0</td>\n",
       "      <td>750000</td>\n",
       "      <td>3B</td>\n",
       "      <td>57</td>\n",
       "    </tr>\n",
       "    <tr>\n",
       "      <th>288</th>\n",
       "      <td>289</td>\n",
       "      <td>DET</td>\n",
       "      <td>AL</td>\n",
       "      <td>rodriiv0</td>\n",
       "      <td>7000000</td>\n",
       "      <td>C</td>\n",
       "      <td>135</td>\n",
       "    </tr>\n",
       "  </tbody>\n",
       "</table>\n",
       "</div>"
      ],
      "text/plain": [
       "     Unnamed: 0 team leagueID    player   salary position  gamesplayed\n",
       "143         144  CHA       AL  kochbi01  6375000        P           24\n",
       "148         149  CHA       AL  olivomi0   320000        C           46\n",
       "786         787  TOR       AL  kershja0   315000        P            1\n",
       "405         406  MIL       NL  davisdo0   450000        P           33\n",
       "360         361  KCA       AL  guielaa0   320000       LF           42\n",
       "197         198  CIN       NL  hayneji0  2500000        P            5\n",
       "310         311  FLO       NL  harrile0   400000       3B           79\n",
       "390         391  LAN       NL  nomohi01  9000000        P           16\n",
       "645         646  SEA       AL  hanseda0   750000       3B           57\n",
       "288         289  DET       AL  rodriiv0  7000000        C          135"
      ]
     },
     "execution_count": 33,
     "metadata": {},
     "output_type": "execute_result"
    }
   ],
   "source": [
    "bsalary = pd.read_csv('data/baseball.csv')\n",
    "bsalary.sample(10)"
   ]
  },
  {
   "cell_type": "code",
   "execution_count": 34,
   "id": "6e43efc8-f05a-4258-8a97-734deb30bdfe",
   "metadata": {},
   "outputs": [
    {
     "data": {
      "application/vnd.plotly.v1+json": {
       "config": {
        "plotlyServerURL": "https://plot.ly"
       },
       "data": [
        {
         "domain": {
          "x": [
           0,
           1
          ],
          "y": [
           0,
           1
          ]
         },
         "hovertemplate": "position=%{label}<extra></extra>",
         "labels": [
          "CF",
          "P",
          "CF",
          "P",
          "SS",
          "1B",
          "P",
          "3B",
          "3B",
          "P",
          "RF",
          "LF",
          "3B",
          "2B",
          "P",
          "C",
          "C",
          "P",
          "C",
          "P",
          "P",
          "RF",
          "P",
          "P",
          "P",
          "P",
          "2B",
          "1B",
          "RF",
          "P",
          "SS",
          "1B",
          "P",
          "P",
          "C",
          "CF",
          "P",
          "LF",
          "C",
          "1B",
          "P",
          "2B",
          "P",
          "P",
          "1B",
          "P",
          "P",
          "P",
          "3B",
          "1B",
          "P",
          "P",
          "P",
          "P",
          "P",
          "P",
          "P",
          "P",
          "P",
          "3B",
          "RF",
          "C",
          "1B",
          "SS",
          "3B",
          "2B",
          "P",
          "P",
          "1B",
          "CF",
          "3B",
          "1B",
          "LF",
          "P",
          "P",
          "1B",
          "P",
          "P",
          "P",
          "P",
          "LF",
          "P",
          "P",
          "P",
          "3B",
          "LF",
          "P",
          "P",
          "RF",
          "P",
          "RF",
          "P",
          "C",
          "SS",
          "P",
          "CF",
          "3B",
          "C",
          "1B",
          "P",
          "P",
          "P",
          "2B",
          "P",
          "1B",
          "LF",
          "SS",
          "P",
          "2B",
          "2B",
          "CF",
          "LF",
          "P",
          "P",
          "P",
          "SS",
          "RF",
          "P",
          "P",
          "P",
          "1B",
          "P",
          "RF",
          "C",
          "3B",
          "RF",
          "1B",
          "LF",
          "SS",
          "P",
          "P",
          "C",
          "P",
          "P",
          "P",
          "C",
          "P",
          "P",
          "3B",
          "P",
          "LF",
          "2B",
          "P",
          "P",
          "1B",
          "LF",
          "P",
          "P",
          "C",
          "RF",
          "RF",
          "P",
          "CF",
          "P",
          "P",
          "1B",
          "2B",
          "SS",
          "P",
          "P",
          "LF",
          "C",
          "C",
          "P",
          "P",
          "P",
          "P",
          "SS",
          "LF",
          "2B",
          "P",
          "RF",
          "1B",
          "3B",
          "P",
          "SS",
          "P",
          "P",
          "CF",
          "P",
          "P",
          "3B",
          "P",
          "RF",
          "2B",
          "P",
          "P",
          "P",
          "P",
          "P",
          "1B",
          "3B",
          "LF",
          "2B",
          "P",
          "CF",
          "P",
          "P",
          "2B",
          "P",
          "RF",
          "SS",
          "3B",
          "C",
          "P",
          "SS",
          "C",
          "P",
          "SS",
          "RF",
          "P",
          "P",
          "C",
          "P",
          "P",
          "P",
          "C",
          "2B",
          "P",
          "3B",
          "1B",
          "P",
          "CF",
          "P",
          "P",
          "P",
          "CF",
          "RF",
          "1B",
          "P",
          "C",
          "LF",
          "P",
          "RF",
          "C",
          "SS",
          "3B",
          "P",
          "P",
          "P",
          "P",
          "SS",
          "P",
          "P",
          "P",
          "CF",
          "3B",
          "P",
          "SS",
          "P",
          "P",
          "P",
          "P",
          "LF",
          "C",
          "1B",
          "2B",
          "P",
          "C",
          "P",
          "P",
          "2B",
          "P",
          "1B",
          "P",
          "CF",
          "P",
          "1B",
          "RF",
          "P",
          "CF",
          "P",
          "P",
          "P",
          "SS",
          "RF",
          "2B",
          "3B",
          "P",
          "P",
          "P",
          "P",
          "LF",
          "3B",
          "1B",
          "P",
          "1B",
          "P",
          "C",
          "CF",
          "RF",
          "P",
          "2B",
          "P",
          "LF",
          "P",
          "1B",
          "P",
          "P",
          "P",
          "P",
          "RF",
          "2B",
          "C",
          "1B",
          "LF",
          "1B",
          "2B",
          "P",
          "SS",
          "3B",
          "3B",
          "3B",
          "LF",
          "P",
          "P",
          "P",
          "P",
          "P",
          "CF",
          "C",
          "P",
          "P",
          "C",
          "1B",
          "RF",
          "LF",
          "SS",
          "C",
          "P",
          "P",
          "P",
          "3B",
          "SS",
          "P",
          "RF",
          "2B",
          "3B",
          "RF",
          "P",
          "P",
          "P",
          "P",
          "CF",
          "P",
          "P",
          "P",
          "2B",
          "P",
          "P",
          "P",
          "CF",
          "SS",
          "P",
          "P",
          "P",
          "P",
          "RF",
          "2B",
          "P",
          "LF",
          "1B",
          "P",
          "SS",
          "P",
          "P",
          "3B",
          "2B",
          "P",
          "C",
          "RF",
          "C",
          "P",
          "1B",
          "RF",
          "P",
          "3B",
          "CF",
          "2B",
          "P",
          "RF",
          "P",
          "P",
          "LF",
          "1B",
          "P",
          "SS",
          "C",
          "P",
          "P",
          "P",
          "P",
          "LF",
          "C",
          "P",
          "2B",
          "1B",
          "P",
          "LF",
          "C",
          "P",
          "P",
          "P",
          "RF",
          "SS",
          "P",
          "2B",
          "P",
          "3B",
          "RF",
          "2B",
          "3B",
          "P",
          "LF",
          "P",
          "P",
          "P",
          "C",
          "P",
          "1B",
          "CF",
          "P",
          "2B",
          "P",
          "C",
          "3B",
          "P",
          "SS",
          "CF",
          "RF",
          "3B",
          "C",
          "P",
          "C",
          "1B",
          "P",
          "1B",
          "P",
          "SS",
          "P",
          "P",
          "2B",
          "P",
          "P",
          "CF",
          "P",
          "P",
          "LF",
          "P",
          "P",
          "P",
          "3B",
          "P",
          "CF",
          "P",
          "SS",
          "LF",
          "LF",
          "P",
          "P",
          "C",
          "P",
          "LF",
          "P",
          "SS",
          "P",
          "1B",
          "P",
          "1B",
          "P",
          "P",
          "RF",
          "C",
          "CF",
          "P",
          "2B",
          "1B",
          "P",
          "2B",
          "1B",
          "P",
          "LF",
          "P",
          "C",
          "1B",
          "P",
          "P",
          "P",
          "SS",
          "P",
          "1B",
          "P",
          "CF",
          "LF",
          "P",
          "P",
          "C",
          "P",
          "P",
          "3B",
          "RF",
          "RF",
          "P",
          "P",
          "CF",
          "SS",
          "CF",
          "P",
          "LF",
          "P",
          "RF",
          "P",
          "3B",
          "P",
          "P",
          "SS",
          "2B",
          "P",
          "C",
          "1B",
          "2B",
          "P",
          "LF",
          "P",
          "P",
          "RF",
          "P",
          "P",
          "3B",
          "C",
          "P",
          "1B",
          "P",
          "LF",
          "3B",
          "SS",
          "P",
          "1B",
          "RF",
          "3B",
          "P",
          "P",
          "1B",
          "P",
          "1B",
          "LF",
          "CF",
          "2B",
          "RF",
          "P",
          "C",
          "2B",
          "C",
          "P",
          "P",
          "P",
          "P",
          "2B",
          "P",
          "RF",
          "3B",
          "LF",
          "CF",
          "P",
          "LF",
          "P",
          "RF",
          "C",
          "P",
          "CF",
          "P",
          "P",
          "P",
          "P",
          "1B",
          "2B",
          "C",
          "SS",
          "P",
          "1B",
          "P",
          "P",
          "3B",
          "P",
          "LF",
          "P",
          "P",
          "P",
          "2B",
          "C",
          "RF",
          "P",
          "P",
          "2B",
          "P",
          "C",
          "3B",
          "P",
          "P",
          "RF",
          "2B",
          "P",
          "CF",
          "2B",
          "1B",
          "3B",
          "P",
          "P",
          "P",
          "RF",
          "SS",
          "1B",
          "3B",
          "3B",
          "P",
          "RF",
          "SS",
          "C",
          "P",
          "LF",
          "P",
          "P",
          "LF",
          "2B",
          "1B",
          "C",
          "P",
          "P",
          "P",
          "CF",
          "P",
          "CF",
          "P",
          "P",
          "SS",
          "P",
          "P",
          "SS",
          "3B",
          "2B",
          "1B",
          "C",
          "P",
          "P",
          "P",
          "3B",
          "P",
          "LF",
          "P",
          "3B",
          "P",
          "CF",
          "P",
          "P",
          "P",
          "1B",
          "P",
          "P",
          "3B",
          "RF",
          "P",
          "P",
          "C",
          "CF",
          "P",
          "3B",
          "LF",
          "P",
          "P",
          "2B",
          "P",
          "P",
          "1B",
          "P",
          "P",
          "CF",
          "LF",
          "P",
          "P",
          "RF",
          "SS",
          "C",
          "2B",
          "P",
          "P",
          "P",
          "1B",
          "P",
          "C",
          "CF",
          "P",
          "P",
          "1B",
          "P",
          "P",
          "RF",
          "CF",
          "P",
          "P",
          "P",
          "P",
          "LF",
          "P",
          "SS",
          "P",
          "C",
          "P",
          "P",
          "1B",
          "SS",
          "3B",
          "RF",
          "P",
          "P",
          "RF",
          "P",
          "P",
          "2B",
          "P",
          "P",
          "CF",
          "3B",
          "P",
          "LF",
          "RF",
          "LF",
          "C",
          "P",
          "SS",
          "P",
          "P",
          "C",
          "P",
          "3B",
          "SS",
          "1B",
          "P",
          "P",
          "1B",
          "RF",
          "2B",
          "P",
          "P",
          "P",
          "P",
          "C",
          "P",
          "3B",
          "P",
          "P",
          "LF",
          "P",
          "1B",
          "LF",
          "C",
          "P",
          "P",
          "RF",
          "P",
          "CF",
          "CF",
          "P",
          "1B",
          "P",
          "P",
          "P",
          "P",
          "2B",
          "1B",
          "CF",
          "SS",
          "P",
          "P",
          "1B",
          "C",
          "LF",
          "1B",
          "P",
          "P",
          "P",
          "SS",
          "P",
          "P",
          "3B",
          "2B",
          "RF",
          "P",
          "P",
          "P",
          "P",
          "C",
          "1B",
          "RF",
          "P",
          "P",
          "CF",
          "SS"
         ],
         "legendgroup": "",
         "name": "",
         "showlegend": true,
         "type": "pie"
        }
       ],
       "layout": {
        "autosize": true,
        "legend": {
         "tracegroupgap": 0
        },
        "margin": {
         "t": 60
        },
        "template": {
         "data": {
          "bar": [
           {
            "error_x": {
             "color": "#2a3f5f"
            },
            "error_y": {
             "color": "#2a3f5f"
            },
            "marker": {
             "line": {
              "color": "#E5ECF6",
              "width": 0.5
             },
             "pattern": {
              "fillmode": "overlay",
              "size": 10,
              "solidity": 0.2
             }
            },
            "type": "bar"
           }
          ],
          "barpolar": [
           {
            "marker": {
             "line": {
              "color": "#E5ECF6",
              "width": 0.5
             },
             "pattern": {
              "fillmode": "overlay",
              "size": 10,
              "solidity": 0.2
             }
            },
            "type": "barpolar"
           }
          ],
          "carpet": [
           {
            "aaxis": {
             "endlinecolor": "#2a3f5f",
             "gridcolor": "white",
             "linecolor": "white",
             "minorgridcolor": "white",
             "startlinecolor": "#2a3f5f"
            },
            "baxis": {
             "endlinecolor": "#2a3f5f",
             "gridcolor": "white",
             "linecolor": "white",
             "minorgridcolor": "white",
             "startlinecolor": "#2a3f5f"
            },
            "type": "carpet"
           }
          ],
          "choropleth": [
           {
            "colorbar": {
             "outlinewidth": 0,
             "ticks": ""
            },
            "type": "choropleth"
           }
          ],
          "contour": [
           {
            "colorbar": {
             "outlinewidth": 0,
             "ticks": ""
            },
            "colorscale": [
             [
              0,
              "#0d0887"
             ],
             [
              0.1111111111111111,
              "#46039f"
             ],
             [
              0.2222222222222222,
              "#7201a8"
             ],
             [
              0.3333333333333333,
              "#9c179e"
             ],
             [
              0.4444444444444444,
              "#bd3786"
             ],
             [
              0.5555555555555556,
              "#d8576b"
             ],
             [
              0.6666666666666666,
              "#ed7953"
             ],
             [
              0.7777777777777778,
              "#fb9f3a"
             ],
             [
              0.8888888888888888,
              "#fdca26"
             ],
             [
              1,
              "#f0f921"
             ]
            ],
            "type": "contour"
           }
          ],
          "contourcarpet": [
           {
            "colorbar": {
             "outlinewidth": 0,
             "ticks": ""
            },
            "type": "contourcarpet"
           }
          ],
          "heatmap": [
           {
            "colorbar": {
             "outlinewidth": 0,
             "ticks": ""
            },
            "colorscale": [
             [
              0,
              "#0d0887"
             ],
             [
              0.1111111111111111,
              "#46039f"
             ],
             [
              0.2222222222222222,
              "#7201a8"
             ],
             [
              0.3333333333333333,
              "#9c179e"
             ],
             [
              0.4444444444444444,
              "#bd3786"
             ],
             [
              0.5555555555555556,
              "#d8576b"
             ],
             [
              0.6666666666666666,
              "#ed7953"
             ],
             [
              0.7777777777777778,
              "#fb9f3a"
             ],
             [
              0.8888888888888888,
              "#fdca26"
             ],
             [
              1,
              "#f0f921"
             ]
            ],
            "type": "heatmap"
           }
          ],
          "heatmapgl": [
           {
            "colorbar": {
             "outlinewidth": 0,
             "ticks": ""
            },
            "colorscale": [
             [
              0,
              "#0d0887"
             ],
             [
              0.1111111111111111,
              "#46039f"
             ],
             [
              0.2222222222222222,
              "#7201a8"
             ],
             [
              0.3333333333333333,
              "#9c179e"
             ],
             [
              0.4444444444444444,
              "#bd3786"
             ],
             [
              0.5555555555555556,
              "#d8576b"
             ],
             [
              0.6666666666666666,
              "#ed7953"
             ],
             [
              0.7777777777777778,
              "#fb9f3a"
             ],
             [
              0.8888888888888888,
              "#fdca26"
             ],
             [
              1,
              "#f0f921"
             ]
            ],
            "type": "heatmapgl"
           }
          ],
          "histogram": [
           {
            "marker": {
             "pattern": {
              "fillmode": "overlay",
              "size": 10,
              "solidity": 0.2
             }
            },
            "type": "histogram"
           }
          ],
          "histogram2d": [
           {
            "colorbar": {
             "outlinewidth": 0,
             "ticks": ""
            },
            "colorscale": [
             [
              0,
              "#0d0887"
             ],
             [
              0.1111111111111111,
              "#46039f"
             ],
             [
              0.2222222222222222,
              "#7201a8"
             ],
             [
              0.3333333333333333,
              "#9c179e"
             ],
             [
              0.4444444444444444,
              "#bd3786"
             ],
             [
              0.5555555555555556,
              "#d8576b"
             ],
             [
              0.6666666666666666,
              "#ed7953"
             ],
             [
              0.7777777777777778,
              "#fb9f3a"
             ],
             [
              0.8888888888888888,
              "#fdca26"
             ],
             [
              1,
              "#f0f921"
             ]
            ],
            "type": "histogram2d"
           }
          ],
          "histogram2dcontour": [
           {
            "colorbar": {
             "outlinewidth": 0,
             "ticks": ""
            },
            "colorscale": [
             [
              0,
              "#0d0887"
             ],
             [
              0.1111111111111111,
              "#46039f"
             ],
             [
              0.2222222222222222,
              "#7201a8"
             ],
             [
              0.3333333333333333,
              "#9c179e"
             ],
             [
              0.4444444444444444,
              "#bd3786"
             ],
             [
              0.5555555555555556,
              "#d8576b"
             ],
             [
              0.6666666666666666,
              "#ed7953"
             ],
             [
              0.7777777777777778,
              "#fb9f3a"
             ],
             [
              0.8888888888888888,
              "#fdca26"
             ],
             [
              1,
              "#f0f921"
             ]
            ],
            "type": "histogram2dcontour"
           }
          ],
          "mesh3d": [
           {
            "colorbar": {
             "outlinewidth": 0,
             "ticks": ""
            },
            "type": "mesh3d"
           }
          ],
          "parcoords": [
           {
            "line": {
             "colorbar": {
              "outlinewidth": 0,
              "ticks": ""
             }
            },
            "type": "parcoords"
           }
          ],
          "pie": [
           {
            "automargin": true,
            "type": "pie"
           }
          ],
          "scatter": [
           {
            "fillpattern": {
             "fillmode": "overlay",
             "size": 10,
             "solidity": 0.2
            },
            "type": "scatter"
           }
          ],
          "scatter3d": [
           {
            "line": {
             "colorbar": {
              "outlinewidth": 0,
              "ticks": ""
             }
            },
            "marker": {
             "colorbar": {
              "outlinewidth": 0,
              "ticks": ""
             }
            },
            "type": "scatter3d"
           }
          ],
          "scattercarpet": [
           {
            "marker": {
             "colorbar": {
              "outlinewidth": 0,
              "ticks": ""
             }
            },
            "type": "scattercarpet"
           }
          ],
          "scattergeo": [
           {
            "marker": {
             "colorbar": {
              "outlinewidth": 0,
              "ticks": ""
             }
            },
            "type": "scattergeo"
           }
          ],
          "scattergl": [
           {
            "marker": {
             "colorbar": {
              "outlinewidth": 0,
              "ticks": ""
             }
            },
            "type": "scattergl"
           }
          ],
          "scattermapbox": [
           {
            "marker": {
             "colorbar": {
              "outlinewidth": 0,
              "ticks": ""
             }
            },
            "type": "scattermapbox"
           }
          ],
          "scatterpolar": [
           {
            "marker": {
             "colorbar": {
              "outlinewidth": 0,
              "ticks": ""
             }
            },
            "type": "scatterpolar"
           }
          ],
          "scatterpolargl": [
           {
            "marker": {
             "colorbar": {
              "outlinewidth": 0,
              "ticks": ""
             }
            },
            "type": "scatterpolargl"
           }
          ],
          "scatterternary": [
           {
            "marker": {
             "colorbar": {
              "outlinewidth": 0,
              "ticks": ""
             }
            },
            "type": "scatterternary"
           }
          ],
          "surface": [
           {
            "colorbar": {
             "outlinewidth": 0,
             "ticks": ""
            },
            "colorscale": [
             [
              0,
              "#0d0887"
             ],
             [
              0.1111111111111111,
              "#46039f"
             ],
             [
              0.2222222222222222,
              "#7201a8"
             ],
             [
              0.3333333333333333,
              "#9c179e"
             ],
             [
              0.4444444444444444,
              "#bd3786"
             ],
             [
              0.5555555555555556,
              "#d8576b"
             ],
             [
              0.6666666666666666,
              "#ed7953"
             ],
             [
              0.7777777777777778,
              "#fb9f3a"
             ],
             [
              0.8888888888888888,
              "#fdca26"
             ],
             [
              1,
              "#f0f921"
             ]
            ],
            "type": "surface"
           }
          ],
          "table": [
           {
            "cells": {
             "fill": {
              "color": "#EBF0F8"
             },
             "line": {
              "color": "white"
             }
            },
            "header": {
             "fill": {
              "color": "#C8D4E3"
             },
             "line": {
              "color": "white"
             }
            },
            "type": "table"
           }
          ]
         },
         "layout": {
          "annotationdefaults": {
           "arrowcolor": "#2a3f5f",
           "arrowhead": 0,
           "arrowwidth": 1
          },
          "autotypenumbers": "strict",
          "coloraxis": {
           "colorbar": {
            "outlinewidth": 0,
            "ticks": ""
           }
          },
          "colorscale": {
           "diverging": [
            [
             0,
             "#8e0152"
            ],
            [
             0.1,
             "#c51b7d"
            ],
            [
             0.2,
             "#de77ae"
            ],
            [
             0.3,
             "#f1b6da"
            ],
            [
             0.4,
             "#fde0ef"
            ],
            [
             0.5,
             "#f7f7f7"
            ],
            [
             0.6,
             "#e6f5d0"
            ],
            [
             0.7,
             "#b8e186"
            ],
            [
             0.8,
             "#7fbc41"
            ],
            [
             0.9,
             "#4d9221"
            ],
            [
             1,
             "#276419"
            ]
           ],
           "sequential": [
            [
             0,
             "#0d0887"
            ],
            [
             0.1111111111111111,
             "#46039f"
            ],
            [
             0.2222222222222222,
             "#7201a8"
            ],
            [
             0.3333333333333333,
             "#9c179e"
            ],
            [
             0.4444444444444444,
             "#bd3786"
            ],
            [
             0.5555555555555556,
             "#d8576b"
            ],
            [
             0.6666666666666666,
             "#ed7953"
            ],
            [
             0.7777777777777778,
             "#fb9f3a"
            ],
            [
             0.8888888888888888,
             "#fdca26"
            ],
            [
             1,
             "#f0f921"
            ]
           ],
           "sequentialminus": [
            [
             0,
             "#0d0887"
            ],
            [
             0.1111111111111111,
             "#46039f"
            ],
            [
             0.2222222222222222,
             "#7201a8"
            ],
            [
             0.3333333333333333,
             "#9c179e"
            ],
            [
             0.4444444444444444,
             "#bd3786"
            ],
            [
             0.5555555555555556,
             "#d8576b"
            ],
            [
             0.6666666666666666,
             "#ed7953"
            ],
            [
             0.7777777777777778,
             "#fb9f3a"
            ],
            [
             0.8888888888888888,
             "#fdca26"
            ],
            [
             1,
             "#f0f921"
            ]
           ]
          },
          "colorway": [
           "#636efa",
           "#EF553B",
           "#00cc96",
           "#ab63fa",
           "#FFA15A",
           "#19d3f3",
           "#FF6692",
           "#B6E880",
           "#FF97FF",
           "#FECB52"
          ],
          "font": {
           "color": "#2a3f5f"
          },
          "geo": {
           "bgcolor": "white",
           "lakecolor": "white",
           "landcolor": "#E5ECF6",
           "showlakes": true,
           "showland": true,
           "subunitcolor": "white"
          },
          "hoverlabel": {
           "align": "left"
          },
          "hovermode": "closest",
          "mapbox": {
           "style": "light"
          },
          "paper_bgcolor": "white",
          "plot_bgcolor": "#E5ECF6",
          "polar": {
           "angularaxis": {
            "gridcolor": "white",
            "linecolor": "white",
            "ticks": ""
           },
           "bgcolor": "#E5ECF6",
           "radialaxis": {
            "gridcolor": "white",
            "linecolor": "white",
            "ticks": ""
           }
          },
          "scene": {
           "xaxis": {
            "backgroundcolor": "#E5ECF6",
            "gridcolor": "white",
            "gridwidth": 2,
            "linecolor": "white",
            "showbackground": true,
            "ticks": "",
            "zerolinecolor": "white"
           },
           "yaxis": {
            "backgroundcolor": "#E5ECF6",
            "gridcolor": "white",
            "gridwidth": 2,
            "linecolor": "white",
            "showbackground": true,
            "ticks": "",
            "zerolinecolor": "white"
           },
           "zaxis": {
            "backgroundcolor": "#E5ECF6",
            "gridcolor": "white",
            "gridwidth": 2,
            "linecolor": "white",
            "showbackground": true,
            "ticks": "",
            "zerolinecolor": "white"
           }
          },
          "shapedefaults": {
           "line": {
            "color": "#2a3f5f"
           }
          },
          "ternary": {
           "aaxis": {
            "gridcolor": "white",
            "linecolor": "white",
            "ticks": ""
           },
           "baxis": {
            "gridcolor": "white",
            "linecolor": "white",
            "ticks": ""
           },
           "bgcolor": "#E5ECF6",
           "caxis": {
            "gridcolor": "white",
            "linecolor": "white",
            "ticks": ""
           }
          },
          "title": {
           "x": 0.05
          },
          "xaxis": {
           "automargin": true,
           "gridcolor": "white",
           "linecolor": "white",
           "ticks": "",
           "title": {
            "standoff": 15
           },
           "zerolinecolor": "white",
           "zerolinewidth": 2
          },
          "yaxis": {
           "automargin": true,
           "gridcolor": "white",
           "linecolor": "white",
           "ticks": "",
           "title": {
            "standoff": 15
           },
           "zerolinecolor": "white",
           "zerolinewidth": 2
          }
         }
        }
       }
      },
      "image/png": "[encoded data removed]",
      "text/html": [
       "<div>                            <div id=\"a5214e36-5d0a-4517-bcc8-1f454ce3209b\" class=\"plotly-graph-div\" style=\"height:525px; width:100%;\"></div>            <script type=\"text/javascript\">                require([\"plotly\"], function(Plotly) {                    window.PLOTLYENV=window.PLOTLYENV || {};                                    if (document.getElementById(\"a5214e36-5d0a-4517-bcc8-1f454ce3209b\")) {                    Plotly.newPlot(                        \"a5214e36-5d0a-4517-bcc8-1f454ce3209b\",                        [{\"domain\":{\"x\":[0.0,1.0],\"y\":[0.0,1.0]},\"hovertemplate\":\"position=%{label}<extra></extra>\",\"labels\":[\"CF\",\"P\",\"CF\",\"P\",\"SS\",\"1B\",\"P\",\"3B\",\"3B\",\"P\",\"RF\",\"LF\",\"3B\",\"2B\",\"P\",\"C\",\"C\",\"P\",\"C\",\"P\",\"P\",\"RF\",\"P\",\"P\",\"P\",\"P\",\"2B\",\"1B\",\"RF\",\"P\",\"SS\",\"1B\",\"P\",\"P\",\"C\",\"CF\",\"P\",\"LF\",\"C\",\"1B\",\"P\",\"2B\",\"P\",\"P\",\"1B\",\"P\",\"P\",\"P\",\"3B\",\"1B\",\"P\",\"P\",\"P\",\"P\",\"P\",\"P\",\"P\",\"P\",\"P\",\"3B\",\"RF\",\"C\",\"1B\",\"SS\",\"3B\",\"2B\",\"P\",\"P\",\"1B\",\"CF\",\"3B\",\"1B\",\"LF\",\"P\",\"P\",\"1B\",\"P\",\"P\",\"P\",\"P\",\"LF\",\"P\",\"P\",\"P\",\"3B\",\"LF\",\"P\",\"P\",\"RF\",\"P\",\"RF\",\"P\",\"C\",\"SS\",\"P\",\"CF\",\"3B\",\"C\",\"1B\",\"P\",\"P\",\"P\",\"2B\",\"P\",\"1B\",\"LF\",\"SS\",\"P\",\"2B\",\"2B\",\"CF\",\"LF\",\"P\",\"P\",\"P\",\"SS\",\"RF\",\"P\",\"P\",\"P\",\"1B\",\"P\",\"RF\",\"C\",\"3B\",\"RF\",\"1B\",\"LF\",\"SS\",\"P\",\"P\",\"C\",\"P\",\"P\",\"P\",\"C\",\"P\",\"P\",\"3B\",\"P\",\"LF\",\"2B\",\"P\",\"P\",\"1B\",\"LF\",\"P\",\"P\",\"C\",\"RF\",\"RF\",\"P\",\"CF\",\"P\",\"P\",\"1B\",\"2B\",\"SS\",\"P\",\"P\",\"LF\",\"C\",\"C\",\"P\",\"P\",\"P\",\"P\",\"SS\",\"LF\",\"2B\",\"P\",\"RF\",\"1B\",\"3B\",\"P\",\"SS\",\"P\",\"P\",\"CF\",\"P\",\"P\",\"3B\",\"P\",\"RF\",\"2B\",\"P\",\"P\",\"P\",\"P\",\"P\",\"1B\",\"3B\",\"LF\",\"2B\",\"P\",\"CF\",\"P\",\"P\",\"2B\",\"P\",\"RF\",\"SS\",\"3B\",\"C\",\"P\",\"SS\",\"C\",\"P\",\"SS\",\"RF\",\"P\",\"P\",\"C\",\"P\",\"P\",\"P\",\"C\",\"2B\",\"P\",\"3B\",\"1B\",\"P\",\"CF\",\"P\",\"P\",\"P\",\"CF\",\"RF\",\"1B\",\"P\",\"C\",\"LF\",\"P\",\"RF\",\"C\",\"SS\",\"3B\",\"P\",\"P\",\"P\",\"P\",\"SS\",\"P\",\"P\",\"P\",\"CF\",\"3B\",\"P\",\"SS\",\"P\",\"P\",\"P\",\"P\",\"LF\",\"C\",\"1B\",\"2B\",\"P\",\"C\",\"P\",\"P\",\"2B\",\"P\",\"1B\",\"P\",\"CF\",\"P\",\"1B\",\"RF\",\"P\",\"CF\",\"P\",\"P\",\"P\",\"SS\",\"RF\",\"2B\",\"3B\",\"P\",\"P\",\"P\",\"P\",\"LF\",\"3B\",\"1B\",\"P\",\"1B\",\"P\",\"C\",\"CF\",\"RF\",\"P\",\"2B\",\"P\",\"LF\",\"P\",\"1B\",\"P\",\"P\",\"P\",\"P\",\"RF\",\"2B\",\"C\",\"1B\",\"LF\",\"1B\",\"2B\",\"P\",\"SS\",\"3B\",\"3B\",\"3B\",\"LF\",\"P\",\"P\",\"P\",\"P\",\"P\",\"CF\",\"C\",\"P\",\"P\",\"C\",\"1B\",\"RF\",\"LF\",\"SS\",\"C\",\"P\",\"P\",\"P\",\"3B\",\"SS\",\"P\",\"RF\",\"2B\",\"3B\",\"RF\",\"P\",\"P\",\"P\",\"P\",\"CF\",\"P\",\"P\",\"P\",\"2B\",\"P\",\"P\",\"P\",\"CF\",\"SS\",\"P\",\"P\",\"P\",\"P\",\"RF\",\"2B\",\"P\",\"LF\",\"1B\",\"P\",\"SS\",\"P\",\"P\",\"3B\",\"2B\",\"P\",\"C\",\"RF\",\"C\",\"P\",\"1B\",\"RF\",\"P\",\"3B\",\"CF\",\"2B\",\"P\",\"RF\",\"P\",\"P\",\"LF\",\"1B\",\"P\",\"SS\",\"C\",\"P\",\"P\",\"P\",\"P\",\"LF\",\"C\",\"P\",\"2B\",\"1B\",\"P\",\"LF\",\"C\",\"P\",\"P\",\"P\",\"RF\",\"SS\",\"P\",\"2B\",\"P\",\"3B\",\"RF\",\"2B\",\"3B\",\"P\",\"LF\",\"P\",\"P\",\"P\",\"C\",\"P\",\"1B\",\"CF\",\"P\",\"2B\",\"P\",\"C\",\"3B\",\"P\",\"SS\",\"CF\",\"RF\",\"3B\",\"C\",\"P\",\"C\",\"1B\",\"P\",\"1B\",\"P\",\"SS\",\"P\",\"P\",\"2B\",\"P\",\"P\",\"CF\",\"P\",\"P\",\"LF\",\"P\",\"P\",\"P\",\"3B\",\"P\",\"CF\",\"P\",\"SS\",\"LF\",\"LF\",\"P\",\"P\",\"C\",\"P\",\"LF\",\"P\",\"SS\",\"P\",\"1B\",\"P\",\"1B\",\"P\",\"P\",\"RF\",\"C\",\"CF\",\"P\",\"2B\",\"1B\",\"P\",\"2B\",\"1B\",\"P\",\"LF\",\"P\",\"C\",\"1B\",\"P\",\"P\",\"P\",\"SS\",\"P\",\"1B\",\"P\",\"CF\",\"LF\",\"P\",\"P\",\"C\",\"P\",\"P\",\"3B\",\"RF\",\"RF\",\"P\",\"P\",\"CF\",\"SS\",\"CF\",\"P\",\"LF\",\"P\",\"RF\",\"P\",\"3B\",\"P\",\"P\",\"SS\",\"2B\",\"P\",\"C\",\"1B\",\"2B\",\"P\",\"LF\",\"P\",\"P\",\"RF\",\"P\",\"P\",\"3B\",\"C\",\"P\",\"1B\",\"P\",\"LF\",\"3B\",\"SS\",\"P\",\"1B\",\"RF\",\"3B\",\"P\",\"P\",\"1B\",\"P\",\"1B\",\"LF\",\"CF\",\"2B\",\"RF\",\"P\",\"C\",\"2B\",\"C\",\"P\",\"P\",\"P\",\"P\",\"2B\",\"P\",\"RF\",\"3B\",\"LF\",\"CF\",\"P\",\"LF\",\"P\",\"RF\",\"C\",\"P\",\"CF\",\"P\",\"P\",\"P\",\"P\",\"1B\",\"2B\",\"C\",\"SS\",\"P\",\"1B\",\"P\",\"P\",\"3B\",\"P\",\"LF\",\"P\",\"P\",\"P\",\"2B\",\"C\",\"RF\",\"P\",\"P\",\"2B\",\"P\",\"C\",\"3B\",\"P\",\"P\",\"RF\",\"2B\",\"P\",\"CF\",\"2B\",\"1B\",\"3B\",\"P\",\"P\",\"P\",\"RF\",\"SS\",\"1B\",\"3B\",\"3B\",\"P\",\"RF\",\"SS\",\"C\",\"P\",\"LF\",\"P\",\"P\",\"LF\",\"2B\",\"1B\",\"C\",\"P\",\"P\",\"P\",\"CF\",\"P\",\"CF\",\"P\",\"P\",\"SS\",\"P\",\"P\",\"SS\",\"3B\",\"2B\",\"1B\",\"C\",\"P\",\"P\",\"P\",\"3B\",\"P\",\"LF\",\"P\",\"3B\",\"P\",\"CF\",\"P\",\"P\",\"P\",\"1B\",\"P\",\"P\",\"3B\",\"RF\",\"P\",\"P\",\"C\",\"CF\",\"P\",\"3B\",\"LF\",\"P\",\"P\",\"2B\",\"P\",\"P\",\"1B\",\"P\",\"P\",\"CF\",\"LF\",\"P\",\"P\",\"RF\",\"SS\",\"C\",\"2B\",\"P\",\"P\",\"P\",\"1B\",\"P\",\"C\",\"CF\",\"P\",\"P\",\"1B\",\"P\",\"P\",\"RF\",\"CF\",\"P\",\"P\",\"P\",\"P\",\"LF\",\"P\",\"SS\",\"P\",\"C\",\"P\",\"P\",\"1B\",\"SS\",\"3B\",\"RF\",\"P\",\"P\",\"RF\",\"P\",\"P\",\"2B\",\"P\",\"P\",\"CF\",\"3B\",\"P\",\"LF\",\"RF\",\"LF\",\"C\",\"P\",\"SS\",\"P\",\"P\",\"C\",\"P\",\"3B\",\"SS\",\"1B\",\"P\",\"P\",\"1B\",\"RF\",\"2B\",\"P\",\"P\",\"P\",\"P\",\"C\",\"P\",\"3B\",\"P\",\"P\",\"LF\",\"P\",\"1B\",\"LF\",\"C\",\"P\",\"P\",\"RF\",\"P\",\"CF\",\"CF\",\"P\",\"1B\",\"P\",\"P\",\"P\",\"P\",\"2B\",\"1B\",\"CF\",\"SS\",\"P\",\"P\",\"1B\",\"C\",\"LF\",\"1B\",\"P\",\"P\",\"P\",\"SS\",\"P\",\"P\",\"3B\",\"2B\",\"RF\",\"P\",\"P\",\"P\",\"P\",\"C\",\"1B\",\"RF\",\"P\",\"P\",\"CF\",\"SS\"],\"legendgroup\":\"\",\"name\":\"\",\"showlegend\":true,\"type\":\"pie\"}],                        {\"template\":{\"data\":{\"histogram2dcontour\":[{\"type\":\"histogram2dcontour\",\"colorbar\":{\"outlinewidth\":0,\"ticks\":\"\"},\"colorscale\":[[0.0,\"#0d0887\"],[0.1111111111111111,\"#46039f\"],[0.2222222222222222,\"#7201a8\"],[0.3333333333333333,\"#9c179e\"],[0.4444444444444444,\"#bd3786\"],[0.5555555555555556,\"#d8576b\"],[0.6666666666666666,\"#ed7953\"],[0.7777777777777778,\"#fb9f3a\"],[0.8888888888888888,\"#fdca26\"],[1.0,\"#f0f921\"]]}],\"choropleth\":[{\"type\":\"choropleth\",\"colorbar\":{\"outlinewidth\":0,\"ticks\":\"\"}}],\"histogram2d\":[{\"type\":\"histogram2d\",\"colorbar\":{\"outlinewidth\":0,\"ticks\":\"\"},\"colorscale\":[[0.0,\"#0d0887\"],[0.1111111111111111,\"#46039f\"],[0.2222222222222222,\"#7201a8\"],[0.3333333333333333,\"#9c179e\"],[0.4444444444444444,\"#bd3786\"],[0.5555555555555556,\"#d8576b\"],[0.6666666666666666,\"#ed7953\"],[0.7777777777777778,\"#fb9f3a\"],[0.8888888888888888,\"#fdca26\"],[1.0,\"#f0f921\"]]}],\"heatmap\":[{\"type\":\"heatmap\",\"colorbar\":{\"outlinewidth\":0,\"ticks\":\"\"},\"colorscale\":[[0.0,\"#0d0887\"],[0.1111111111111111,\"#46039f\"],[0.2222222222222222,\"#7201a8\"],[0.3333333333333333,\"#9c179e\"],[0.4444444444444444,\"#bd3786\"],[0.5555555555555556,\"#d8576b\"],[0.6666666666666666,\"#ed7953\"],[0.7777777777777778,\"#fb9f3a\"],[0.8888888888888888,\"#fdca26\"],[1.0,\"#f0f921\"]]}],\"heatmapgl\":[{\"type\":\"heatmapgl\",\"colorbar\":{\"outlinewidth\":0,\"ticks\":\"\"},\"colorscale\":[[0.0,\"#0d0887\"],[0.1111111111111111,\"#46039f\"],[0.2222222222222222,\"#7201a8\"],[0.3333333333333333,\"#9c179e\"],[0.4444444444444444,\"#bd3786\"],[0.5555555555555556,\"#d8576b\"],[0.6666666666666666,\"#ed7953\"],[0.7777777777777778,\"#fb9f3a\"],[0.8888888888888888,\"#fdca26\"],[1.0,\"#f0f921\"]]}],\"contourcarpet\":[{\"type\":\"contourcarpet\",\"colorbar\":{\"outlinewidth\":0,\"ticks\":\"\"}}],\"contour\":[{\"type\":\"contour\",\"colorbar\":{\"outlinewidth\":0,\"ticks\":\"\"},\"colorscale\":[[0.0,\"#0d0887\"],[0.1111111111111111,\"#46039f\"],[0.2222222222222222,\"#7201a8\"],[0.3333333333333333,\"#9c179e\"],[0.4444444444444444,\"#bd3786\"],[0.5555555555555556,\"#d8576b\"],[0.6666666666666666,\"#ed7953\"],[0.7777777777777778,\"#fb9f3a\"],[0.8888888888888888,\"#fdca26\"],[1.0,\"#f0f921\"]]}],\"surface\":[{\"type\":\"surface\",\"colorbar\":{\"outlinewidth\":0,\"ticks\":\"\"},\"colorscale\":[[0.0,\"#0d0887\"],[0.1111111111111111,\"#46039f\"],[0.2222222222222222,\"#7201a8\"],[0.3333333333333333,\"#9c179e\"],[0.4444444444444444,\"#bd3786\"],[0.5555555555555556,\"#d8576b\"],[0.6666666666666666,\"#ed7953\"],[0.7777777777777778,\"#fb9f3a\"],[0.8888888888888888,\"#fdca26\"],[1.0,\"#f0f921\"]]}],\"mesh3d\":[{\"type\":\"mesh3d\",\"colorbar\":{\"outlinewidth\":0,\"ticks\":\"\"}}],\"scatter\":[{\"fillpattern\":{\"fillmode\":\"overlay\",\"size\":10,\"solidity\":0.2},\"type\":\"scatter\"}],\"parcoords\":[{\"type\":\"parcoords\",\"line\":{\"colorbar\":{\"outlinewidth\":0,\"ticks\":\"\"}}}],\"scatterpolargl\":[{\"type\":\"scatterpolargl\",\"marker\":{\"colorbar\":{\"outlinewidth\":0,\"ticks\":\"\"}}}],\"bar\":[{\"error_x\":{\"color\":\"#2a3f5f\"},\"error_y\":{\"color\":\"#2a3f5f\"},\"marker\":{\"line\":{\"color\":\"#E5ECF6\",\"width\":0.5},\"pattern\":{\"fillmode\":\"overlay\",\"size\":10,\"solidity\":0.2}},\"type\":\"bar\"}],\"scattergeo\":[{\"type\":\"scattergeo\",\"marker\":{\"colorbar\":{\"outlinewidth\":0,\"ticks\":\"\"}}}],\"scatterpolar\":[{\"type\":\"scatterpolar\",\"marker\":{\"colorbar\":{\"outlinewidth\":0,\"ticks\":\"\"}}}],\"histogram\":[{\"marker\":{\"pattern\":{\"fillmode\":\"overlay\",\"size\":10,\"solidity\":0.2}},\"type\":\"histogram\"}],\"scattergl\":[{\"type\":\"scattergl\",\"marker\":{\"colorbar\":{\"outlinewidth\":0,\"ticks\":\"\"}}}],\"scatter3d\":[{\"type\":\"scatter3d\",\"line\":{\"colorbar\":{\"outlinewidth\":0,\"ticks\":\"\"}},\"marker\":{\"colorbar\":{\"outlinewidth\":0,\"ticks\":\"\"}}}],\"scattermapbox\":[{\"type\":\"scattermapbox\",\"marker\":{\"colorbar\":{\"outlinewidth\":0,\"ticks\":\"\"}}}],\"scatterternary\":[{\"type\":\"scatterternary\",\"marker\":{\"colorbar\":{\"outlinewidth\":0,\"ticks\":\"\"}}}],\"scattercarpet\":[{\"type\":\"scattercarpet\",\"marker\":{\"colorbar\":{\"outlinewidth\":0,\"ticks\":\"\"}}}],\"carpet\":[{\"aaxis\":{\"endlinecolor\":\"#2a3f5f\",\"gridcolor\":\"white\",\"linecolor\":\"white\",\"minorgridcolor\":\"white\",\"startlinecolor\":\"#2a3f5f\"},\"baxis\":{\"endlinecolor\":\"#2a3f5f\",\"gridcolor\":\"white\",\"linecolor\":\"white\",\"minorgridcolor\":\"white\",\"startlinecolor\":\"#2a3f5f\"},\"type\":\"carpet\"}],\"table\":[{\"cells\":{\"fill\":{\"color\":\"#EBF0F8\"},\"line\":{\"color\":\"white\"}},\"header\":{\"fill\":{\"color\":\"#C8D4E3\"},\"line\":{\"color\":\"white\"}},\"type\":\"table\"}],\"barpolar\":[{\"marker\":{\"line\":{\"color\":\"#E5ECF6\",\"width\":0.5},\"pattern\":{\"fillmode\":\"overlay\",\"size\":10,\"solidity\":0.2}},\"type\":\"barpolar\"}],\"pie\":[{\"automargin\":true,\"type\":\"pie\"}]},\"layout\":{\"autotypenumbers\":\"strict\",\"colorway\":[\"#636efa\",\"#EF553B\",\"#00cc96\",\"#ab63fa\",\"#FFA15A\",\"#19d3f3\",\"#FF6692\",\"#B6E880\",\"#FF97FF\",\"#FECB52\"],\"font\":{\"color\":\"#2a3f5f\"},\"hovermode\":\"closest\",\"hoverlabel\":{\"align\":\"left\"},\"paper_bgcolor\":\"white\",\"plot_bgcolor\":\"#E5ECF6\",\"polar\":{\"bgcolor\":\"#E5ECF6\",\"angularaxis\":{\"gridcolor\":\"white\",\"linecolor\":\"white\",\"ticks\":\"\"},\"radialaxis\":{\"gridcolor\":\"white\",\"linecolor\":\"white\",\"ticks\":\"\"}},\"ternary\":{\"bgcolor\":\"#E5ECF6\",\"aaxis\":{\"gridcolor\":\"white\",\"linecolor\":\"white\",\"ticks\":\"\"},\"baxis\":{\"gridcolor\":\"white\",\"linecolor\":\"white\",\"ticks\":\"\"},\"caxis\":{\"gridcolor\":\"white\",\"linecolor\":\"white\",\"ticks\":\"\"}},\"coloraxis\":{\"colorbar\":{\"outlinewidth\":0,\"ticks\":\"\"}},\"colorscale\":{\"sequential\":[[0.0,\"#0d0887\"],[0.1111111111111111,\"#46039f\"],[0.2222222222222222,\"#7201a8\"],[0.3333333333333333,\"#9c179e\"],[0.4444444444444444,\"#bd3786\"],[0.5555555555555556,\"#d8576b\"],[0.6666666666666666,\"#ed7953\"],[0.7777777777777778,\"#fb9f3a\"],[0.8888888888888888,\"#fdca26\"],[1.0,\"#f0f921\"]],\"sequentialminus\":[[0.0,\"#0d0887\"],[0.1111111111111111,\"#46039f\"],[0.2222222222222222,\"#7201a8\"],[0.3333333333333333,\"#9c179e\"],[0.4444444444444444,\"#bd3786\"],[0.5555555555555556,\"#d8576b\"],[0.6666666666666666,\"#ed7953\"],[0.7777777777777778,\"#fb9f3a\"],[0.8888888888888888,\"#fdca26\"],[1.0,\"#f0f921\"]],\"diverging\":[[0,\"#8e0152\"],[0.1,\"#c51b7d\"],[0.2,\"#de77ae\"],[0.3,\"#f1b6da\"],[0.4,\"#fde0ef\"],[0.5,\"#f7f7f7\"],[0.6,\"#e6f5d0\"],[0.7,\"#b8e186\"],[0.8,\"#7fbc41\"],[0.9,\"#4d9221\"],[1,\"#276419\"]]},\"xaxis\":{\"gridcolor\":\"white\",\"linecolor\":\"white\",\"ticks\":\"\",\"title\":{\"standoff\":15},\"zerolinecolor\":\"white\",\"automargin\":true,\"zerolinewidth\":2},\"yaxis\":{\"gridcolor\":\"white\",\"linecolor\":\"white\",\"ticks\":\"\",\"title\":{\"standoff\":15},\"zerolinecolor\":\"white\",\"automargin\":true,\"zerolinewidth\":2},\"scene\":{\"xaxis\":{\"backgroundcolor\":\"#E5ECF6\",\"gridcolor\":\"white\",\"linecolor\":\"white\",\"showbackground\":true,\"ticks\":\"\",\"zerolinecolor\":\"white\",\"gridwidth\":2},\"yaxis\":{\"backgroundcolor\":\"#E5ECF6\",\"gridcolor\":\"white\",\"linecolor\":\"white\",\"showbackground\":true,\"ticks\":\"\",\"zerolinecolor\":\"white\",\"gridwidth\":2},\"zaxis\":{\"backgroundcolor\":\"#E5ECF6\",\"gridcolor\":\"white\",\"linecolor\":\"white\",\"showbackground\":true,\"ticks\":\"\",\"zerolinecolor\":\"white\",\"gridwidth\":2}},\"shapedefaults\":{\"line\":{\"color\":\"#2a3f5f\"}},\"annotationdefaults\":{\"arrowcolor\":\"#2a3f5f\",\"arrowhead\":0,\"arrowwidth\":1},\"geo\":{\"bgcolor\":\"white\",\"landcolor\":\"#E5ECF6\",\"subunitcolor\":\"white\",\"showland\":true,\"showlakes\":true,\"lakecolor\":\"white\"},\"title\":{\"x\":0.05},\"mapbox\":{\"style\":\"light\"}}},\"legend\":{\"tracegroupgap\":0},\"margin\":{\"t\":60}},                        {\"responsive\": true}                    ).then(function(){\n",
       "                            \n",
       "var gd = document.getElementById('a5214e36-5d0a-4517-bcc8-1f454ce3209b');\n",
       "var x = new MutationObserver(function (mutations, observer) {{\n",
       "        var display = window.getComputedStyle(gd).display;\n",
       "        if (!display || display === 'none') {{\n",
       "            console.log([gd, 'removed!']);\n",
       "            Plotly.purge(gd);\n",
       "            observer.disconnect();\n",
       "        }}\n",
       "}});\n",
       "\n",
       "// Listen for the removal of the full notebook cells\n",
       "var notebookContainer = gd.closest('#notebook-container');\n",
       "if (notebookContainer) {{\n",
       "    x.observe(notebookContainer, {childList: true});\n",
       "}}\n",
       "\n",
       "// Listen for the clearing of the current output cell\n",
       "var outputEl = gd.closest('.output');\n",
       "if (outputEl) {{\n",
       "    x.observe(outputEl, {childList: true});\n",
       "}}\n",
       "\n",
       "                        })                };                });            </script>        </div>"
      ]
     },
     "metadata": {},
     "output_type": "display_data"
    }
   ],
   "source": [
    "px.pie(bsalary,bsalary.position)"
   ]
  },
  {
   "cell_type": "code",
   "execution_count": 35,
   "id": "cbeedb71-0d12-44e6-a561-72bb3192b5b1",
   "metadata": {},
   "outputs": [
    {
     "data": {
      "application/vnd.plotly.v1+json": {
       "config": {
        "plotlyServerURL": "https://plot.ly"
       },
       "data": [
        {
         "alignmentgroup": "True",
         "bingroup": "x",
         "histfunc": "sum",
         "hovertemplate": "position=%{x}<br>sum of salary=%{y}<extra></extra>",
         "legendgroup": "",
         "marker": {
          "color": "#636efa",
          "pattern": {
           "shape": ""
          }
         },
         "name": "",
         "offsetgroup": "",
         "orientation": "v",
         "showlegend": false,
         "type": "histogram",
         "x": [
          "CF",
          "P",
          "CF",
          "P",
          "SS",
          "1B",
          "P",
          "3B",
          "3B",
          "P",
          "RF",
          "LF",
          "3B",
          "2B",
          "P",
          "C",
          "C",
          "P",
          "C",
          "P",
          "P",
          "RF",
          "P",
          "P",
          "P",
          "P",
          "2B",
          "1B",
          "RF",
          "P",
          "SS",
          "1B",
          "P",
          "P",
          "C",
          "CF",
          "P",
          "LF",
          "C",
          "1B",
          "P",
          "2B",
          "P",
          "P",
          "1B",
          "P",
          "P",
          "P",
          "3B",
          "1B",
          "P",
          "P",
          "P",
          "P",
          "P",
          "P",
          "P",
          "P",
          "P",
          "3B",
          "RF",
          "C",
          "1B",
          "SS",
          "3B",
          "2B",
          "P",
          "P",
          "1B",
          "CF",
          "3B",
          "1B",
          "LF",
          "P",
          "P",
          "1B",
          "P",
          "P",
          "P",
          "P",
          "LF",
          "P",
          "P",
          "P",
          "3B",
          "LF",
          "P",
          "P",
          "RF",
          "P",
          "RF",
          "P",
          "C",
          "SS",
          "P",
          "CF",
          "3B",
          "C",
          "1B",
          "P",
          "P",
          "P",
          "2B",
          "P",
          "1B",
          "LF",
          "SS",
          "P",
          "2B",
          "2B",
          "CF",
          "LF",
          "P",
          "P",
          "P",
          "SS",
          "RF",
          "P",
          "P",
          "P",
          "1B",
          "P",
          "RF",
          "C",
          "3B",
          "RF",
          "1B",
          "LF",
          "SS",
          "P",
          "P",
          "C",
          "P",
          "P",
          "P",
          "C",
          "P",
          "P",
          "3B",
          "P",
          "LF",
          "2B",
          "P",
          "P",
          "1B",
          "LF",
          "P",
          "P",
          "C",
          "RF",
          "RF",
          "P",
          "CF",
          "P",
          "P",
          "1B",
          "2B",
          "SS",
          "P",
          "P",
          "LF",
          "C",
          "C",
          "P",
          "P",
          "P",
          "P",
          "SS",
          "LF",
          "2B",
          "P",
          "RF",
          "1B",
          "3B",
          "P",
          "SS",
          "P",
          "P",
          "CF",
          "P",
          "P",
          "3B",
          "P",
          "RF",
          "2B",
          "P",
          "P",
          "P",
          "P",
          "P",
          "1B",
          "3B",
          "LF",
          "2B",
          "P",
          "CF",
          "P",
          "P",
          "2B",
          "P",
          "RF",
          "SS",
          "3B",
          "C",
          "P",
          "SS",
          "C",
          "P",
          "SS",
          "RF",
          "P",
          "P",
          "C",
          "P",
          "P",
          "P",
          "C",
          "2B",
          "P",
          "3B",
          "1B",
          "P",
          "CF",
          "P",
          "P",
          "P",
          "CF",
          "RF",
          "1B",
          "P",
          "C",
          "LF",
          "P",
          "RF",
          "C",
          "SS",
          "3B",
          "P",
          "P",
          "P",
          "P",
          "SS",
          "P",
          "P",
          "P",
          "CF",
          "3B",
          "P",
          "SS",
          "P",
          "P",
          "P",
          "P",
          "LF",
          "C",
          "1B",
          "2B",
          "P",
          "C",
          "P",
          "P",
          "2B",
          "P",
          "1B",
          "P",
          "CF",
          "P",
          "1B",
          "RF",
          "P",
          "CF",
          "P",
          "P",
          "P",
          "SS",
          "RF",
          "2B",
          "3B",
          "P",
          "P",
          "P",
          "P",
          "LF",
          "3B",
          "1B",
          "P",
          "1B",
          "P",
          "C",
          "CF",
          "RF",
          "P",
          "2B",
          "P",
          "LF",
          "P",
          "1B",
          "P",
          "P",
          "P",
          "P",
          "RF",
          "2B",
          "C",
          "1B",
          "LF",
          "1B",
          "2B",
          "P",
          "SS",
          "3B",
          "3B",
          "3B",
          "LF",
          "P",
          "P",
          "P",
          "P",
          "P",
          "CF",
          "C",
          "P",
          "P",
          "C",
          "1B",
          "RF",
          "LF",
          "SS",
          "C",
          "P",
          "P",
          "P",
          "3B",
          "SS",
          "P",
          "RF",
          "2B",
          "3B",
          "RF",
          "P",
          "P",
          "P",
          "P",
          "CF",
          "P",
          "P",
          "P",
          "2B",
          "P",
          "P",
          "P",
          "CF",
          "SS",
          "P",
          "P",
          "P",
          "P",
          "RF",
          "2B",
          "P",
          "LF",
          "1B",
          "P",
          "SS",
          "P",
          "P",
          "3B",
          "2B",
          "P",
          "C",
          "RF",
          "C",
          "P",
          "1B",
          "RF",
          "P",
          "3B",
          "CF",
          "2B",
          "P",
          "RF",
          "P",
          "P",
          "LF",
          "1B",
          "P",
          "SS",
          "C",
          "P",
          "P",
          "P",
          "P",
          "LF",
          "C",
          "P",
          "2B",
          "1B",
          "P",
          "LF",
          "C",
          "P",
          "P",
          "P",
          "RF",
          "SS",
          "P",
          "2B",
          "P",
          "3B",
          "RF",
          "2B",
          "3B",
          "P",
          "LF",
          "P",
          "P",
          "P",
          "C",
          "P",
          "1B",
          "CF",
          "P",
          "2B",
          "P",
          "C",
          "3B",
          "P",
          "SS",
          "CF",
          "RF",
          "3B",
          "C",
          "P",
          "C",
          "1B",
          "P",
          "1B",
          "P",
          "SS",
          "P",
          "P",
          "2B",
          "P",
          "P",
          "CF",
          "P",
          "P",
          "LF",
          "P",
          "P",
          "P",
          "3B",
          "P",
          "CF",
          "P",
          "SS",
          "LF",
          "LF",
          "P",
          "P",
          "C",
          "P",
          "LF",
          "P",
          "SS",
          "P",
          "1B",
          "P",
          "1B",
          "P",
          "P",
          "RF",
          "C",
          "CF",
          "P",
          "2B",
          "1B",
          "P",
          "2B",
          "1B",
          "P",
          "LF",
          "P",
          "C",
          "1B",
          "P",
          "P",
          "P",
          "SS",
          "P",
          "1B",
          "P",
          "CF",
          "LF",
          "P",
          "P",
          "C",
          "P",
          "P",
          "3B",
          "RF",
          "RF",
          "P",
          "P",
          "CF",
          "SS",
          "CF",
          "P",
          "LF",
          "P",
          "RF",
          "P",
          "3B",
          "P",
          "P",
          "SS",
          "2B",
          "P",
          "C",
          "1B",
          "2B",
          "P",
          "LF",
          "P",
          "P",
          "RF",
          "P",
          "P",
          "3B",
          "C",
          "P",
          "1B",
          "P",
          "LF",
          "3B",
          "SS",
          "P",
          "1B",
          "RF",
          "3B",
          "P",
          "P",
          "1B",
          "P",
          "1B",
          "LF",
          "CF",
          "2B",
          "RF",
          "P",
          "C",
          "2B",
          "C",
          "P",
          "P",
          "P",
          "P",
          "2B",
          "P",
          "RF",
          "3B",
          "LF",
          "CF",
          "P",
          "LF",
          "P",
          "RF",
          "C",
          "P",
          "CF",
          "P",
          "P",
          "P",
          "P",
          "1B",
          "2B",
          "C",
          "SS",
          "P",
          "1B",
          "P",
          "P",
          "3B",
          "P",
          "LF",
          "P",
          "P",
          "P",
          "2B",
          "C",
          "RF",
          "P",
          "P",
          "2B",
          "P",
          "C",
          "3B",
          "P",
          "P",
          "RF",
          "2B",
          "P",
          "CF",
          "2B",
          "1B",
          "3B",
          "P",
          "P",
          "P",
          "RF",
          "SS",
          "1B",
          "3B",
          "3B",
          "P",
          "RF",
          "SS",
          "C",
          "P",
          "LF",
          "P",
          "P",
          "LF",
          "2B",
          "1B",
          "C",
          "P",
          "P",
          "P",
          "CF",
          "P",
          "CF",
          "P",
          "P",
          "SS",
          "P",
          "P",
          "SS",
          "3B",
          "2B",
          "1B",
          "C",
          "P",
          "P",
          "P",
          "3B",
          "P",
          "LF",
          "P",
          "3B",
          "P",
          "CF",
          "P",
          "P",
          "P",
          "1B",
          "P",
          "P",
          "3B",
          "RF",
          "P",
          "P",
          "C",
          "CF",
          "P",
          "3B",
          "LF",
          "P",
          "P",
          "2B",
          "P",
          "P",
          "1B",
          "P",
          "P",
          "CF",
          "LF",
          "P",
          "P",
          "RF",
          "SS",
          "C",
          "2B",
          "P",
          "P",
          "P",
          "1B",
          "P",
          "C",
          "CF",
          "P",
          "P",
          "1B",
          "P",
          "P",
          "RF",
          "CF",
          "P",
          "P",
          "P",
          "P",
          "LF",
          "P",
          "SS",
          "P",
          "C",
          "P",
          "P",
          "1B",
          "SS",
          "3B",
          "RF",
          "P",
          "P",
          "RF",
          "P",
          "P",
          "2B",
          "P",
          "P",
          "CF",
          "3B",
          "P",
          "LF",
          "RF",
          "LF",
          "C",
          "P",
          "SS",
          "P",
          "P",
          "C",
          "P",
          "3B",
          "SS",
          "1B",
          "P",
          "P",
          "1B",
          "RF",
          "2B",
          "P",
          "P",
          "P",
          "P",
          "C",
          "P",
          "3B",
          "P",
          "P",
          "LF",
          "P",
          "1B",
          "LF",
          "C",
          "P",
          "P",
          "RF",
          "P",
          "CF",
          "CF",
          "P",
          "1B",
          "P",
          "P",
          "P",
          "P",
          "2B",
          "1B",
          "CF",
          "SS",
          "P",
          "P",
          "1B",
          "C",
          "LF",
          "1B",
          "P",
          "P",
          "P",
          "SS",
          "P",
          "P",
          "3B",
          "2B",
          "RF",
          "P",
          "P",
          "P",
          "P",
          "C",
          "1B",
          "RF",
          "P",
          "P",
          "CF",
          "SS"
         ],
         "xaxis": "x",
         "y": [
          6200000,
          11000000,
          375000,
          375000,
          2150000,
          7750000,
          5750000,
          320000,
          9900000,
          301500,
          11000000,
          2200000,
          575000,
          2500000,
          375000,
          2025000,
          335000,
          3266667,
          335000,
          7833333,
          375000,
          9900000,
          8666667,
          375000,
          5450000,
          900000,
          1000000,
          1000000,
          4000000,
          325750,
          335000,
          2750000,
          300000,
          4000000,
          550000,
          7000000,
          345000,
          8250000,
          315000,
          2600000,
          16000000,
          315000,
          330000,
          7000000,
          800000,
          307500,
          322500,
          1000000,
          400000,
          8725000,
          500000,
          320000,
          325000,
          335000,
          1350000,
          500000,
          7000000,
          370000,
          525000,
          725000,
          4200000,
          312500,
          750000,
          3700000,
          312500,
          430000,
          377500,
          14625000,
          300000,
          12500000,
          15333333,
          300000,
          3000000,
          375000,
          6200000,
          625000,
          330000,
          950000,
          11666667,
          2250000,
          325000,
          850000,
          315000,
          335000,
          300000,
          340000,
          1500000,
          305000,
          2600000,
          3000000,
          1650000,
          385000,
          6000000,
          365000,
          365000,
          975000,
          2333333,
          500000,
          4000000,
          320000,
          3000000,
          310000,
          345000,
          1275000,
          7000000,
          800000,
          5000000,
          332500,
          490000,
          309000,
          8000000,
          500000,
          300000,
          3000000,
          3500000,
          11500000,
          750000,
          3425000,
          4500000,
          17500000,
          500000,
          3600000,
          3300000,
          825000,
          2100000,
          4500000,
          4587500,
          22500000,
          1000000,
          12000000,
          2500000,
          6900000,
          4350000,
          3175000,
          301000,
          700000,
          3500000,
          301000,
          340000,
          2300000,
          302000,
          318500,
          500000,
          6375000,
          8000000,
          6500000,
          4000000,
          500000,
          320000,
          14000000,
          850000,
          800000,
          340000,
          1725000,
          750000,
          6000000,
          350000,
          5000000,
          340000,
          800000,
          9500000,
          865000,
          1550000,
          2000000,
          6000000,
          300000,
          1400000,
          5750000,
          650000,
          2500000,
          3000000,
          1000000,
          6166667,
          750000,
          6000000,
          900000,
          1200000,
          305000,
          480000,
          300000,
          3150000,
          6000000,
          3983333,
          16000000,
          1750000,
          310000,
          8000000,
          300000,
          450000,
          340000,
          6800000,
          1000000,
          445000,
          320000,
          6000000,
          12500000,
          360000,
          2500000,
          1615000,
          500000,
          400000,
          700000,
          318000,
          2600000,
          2750000,
          300000,
          317000,
          303500,
          322000,
          345000,
          327250,
          650000,
          500000,
          300000,
          302500,
          3500000,
          316700,
          1100000,
          305200,
          352400,
          324100,
          322400,
          319400,
          750000,
          326800,
          315000,
          302200,
          325600,
          316300,
          1025000,
          450000,
          7250000,
          303200,
          304700,
          304500,
          324400,
          560000,
          1025000,
          2700000,
          302900,
          850000,
          6000000,
          925000,
          6000000,
          320000,
          1250000,
          2100000,
          1850000,
          650000,
          480000,
          600000,
          500000,
          320000,
          300000,
          550000,
          11600000,
          650000,
          340000,
          9000000,
          320000,
          317500,
          300000,
          700000,
          310000,
          600000,
          300000,
          321000,
          400000,
          12666667,
          700000,
          9000000,
          330000,
          302000,
          335000,
          2500000,
          8850000,
          305000,
          340000,
          3000000,
          316000,
          825000,
          332500,
          335000,
          1487500,
          600000,
          2800000,
          330000,
          305000,
          7000000,
          385000,
          300000,
          300000,
          3000000,
          775000,
          2750000,
          650000,
          7750000,
          1509375,
          3500000,
          305000,
          2500000,
          320000,
          4666667,
          400000,
          310000,
          3000000,
          600000,
          300000,
          1200000,
          2800000,
          400000,
          6500000,
          425000,
          300000,
          750000,
          3800000,
          3725000,
          325000,
          307500,
          2400000,
          840000,
          301000,
          353500,
          1000000,
          16000000,
          6500000,
          3000000,
          307500,
          315000,
          5000000,
          2800000,
          390000,
          380000,
          370000,
          325000,
          12500000,
          10000000,
          352000,
          307500,
          360000,
          600000,
          3400000,
          3250000,
          750000,
          5500000,
          395000,
          395000,
          1200000,
          350000,
          3250000,
          300000,
          9000000,
          372500,
          300000,
          320500,
          306500,
          304000,
          4000000,
          1100000,
          1000000,
          320000,
          317500,
          1250000,
          330000,
          346500,
          1750000,
          3250000,
          900000,
          550000,
          2150000,
          1000000,
          500000,
          2100000,
          11000000,
          300000,
          1500000,
          5000000,
          1730000,
          1300000,
          12400000,
          3565000,
          302500,
          5000000,
          301000,
          16666667,
          2975000,
          358500,
          4066667,
          1400000,
          1475000,
          9000000,
          5000000,
          975000,
          310000,
          305000,
          301000,
          1200000,
          6250000,
          303000,
          600000,
          300000,
          440000,
          305000,
          376000,
          3166667,
          450000,
          305000,
          310000,
          383333,
          700000,
          310000,
          1687500,
          425000,
          8737500,
          380000,
          400000,
          1500000,
          370000,
          314000,
          326000,
          400000,
          2425000,
          2367500,
          550000,
          750000,
          307500,
          550000,
          3725000,
          6500000,
          4350000,
          4500000,
          340000,
          395000,
          300000,
          2800000,
          440000,
          500000,
          305000,
          307500,
          10750000,
          330000,
          1500000,
          320000,
          820000,
          305000,
          1600000,
          340000,
          5500000,
          300000,
          2100000,
          317500,
          1500000,
          300000,
          300000,
          1950000,
          6000000,
          312500,
          310000,
          300000,
          315000,
          2587500,
          1300000,
          3000000,
          350000,
          450000,
          6000000,
          1250000,
          303000,
          350000,
          2337500,
          310000,
          312000,
          350000,
          300000,
          307500,
          7000000,
          375000,
          15714286,
          900000,
          750000,
          8500000,
          301400,
          302550,
          775000,
          12428571,
          3500000,
          1800000,
          500000,
          18600000,
          6000000,
          2000000,
          2700000,
          3100000,
          7000000,
          16000000,
          450000,
          9000000,
          3000000,
          10890000,
          22000000,
          13000000,
          1000000,
          9000000,
          1925000,
          12357143,
          700000,
          4333333,
          700000,
          6500000,
          1000000,
          800000,
          10765608,
          4166667,
          10295600,
          2000000,
          5033333,
          500000,
          317500,
          318000,
          16071429,
          307500,
          319500,
          537500,
          3000000,
          5000000,
          302500,
          3933333,
          311500,
          316000,
          715000,
          300000,
          1000000,
          965000,
          328000,
          5325000,
          300500,
          302500,
          2100000,
          11666667,
          301000,
          2400000,
          307000,
          2300000,
          5000000,
          550000,
          347500,
          5500000,
          600000,
          450000,
          3300000,
          357500,
          400000,
          3000000,
          4450000,
          2000000,
          1800000,
          1750000,
          301500,
          3000000,
          10600000,
          4400000,
          4250000,
          355000,
          3000000,
          550000,
          750000,
          1225000,
          7500000,
          300000,
          335000,
          11000000,
          9000000,
          362500,
          2600000,
          750000,
          3950000,
          875000,
          2425000,
          525000,
          12166667,
          8000000,
          4375000,
          575000,
          2750000,
          305000,
          6150000,
          2000000,
          350000,
          300000,
          303000,
          300000,
          342000,
          300000,
          315000,
          300000,
          8571429,
          335000,
          625000,
          800000,
          1150000,
          625000,
          321000,
          321000,
          303000,
          800000,
          750000,
          775000,
          311500,
          2575000,
          1150000,
          1850000,
          650000,
          340000,
          6975000,
          1925000,
          8833333,
          300500,
          2937500,
          2500000,
          6000000,
          925000,
          326000,
          3575000,
          2500000,
          8500000,
          305000,
          600000,
          750000,
          700000,
          1500000,
          350000,
          450000,
          300000,
          800000,
          342500,
          1250000,
          1750000,
          3150000,
          325000,
          8000000,
          1000000,
          1400000,
          1800000,
          6875000,
          4000000,
          750000,
          2750000,
          3916667,
          4250000,
          3000000,
          345000,
          1750000,
          1950000,
          7000000,
          550000,
          7700000,
          3000000,
          335000,
          2566667,
          6500000,
          302500,
          1000000,
          3500000,
          3500000,
          300000,
          6500000,
          18000000,
          662500,
          2433333,
          7200000,
          316000,
          1000000,
          850000,
          312000,
          360000,
          2125000,
          1000000,
          1100000,
          800000,
          342500,
          2750000,
          3500000,
          303000,
          3050000,
          6133333,
          7937500,
          1500000,
          1200000,
          334000,
          1500000,
          450000,
          308000,
          600000,
          320000,
          300000,
          5375000,
          9333333,
          900000,
          7750000,
          900000,
          1700000,
          650000,
          450000,
          300000,
          525000,
          4000000,
          300000,
          12500000,
          7000000,
          7250000,
          8625000,
          2000000,
          350000,
          1000000,
          1200000,
          1600000,
          8000000,
          300000,
          600000,
          1750000,
          320000,
          1500000,
          320000,
          320000,
          2500000,
          800000,
          650000,
          302500,
          350000,
          1700000,
          600000,
          320000,
          315000,
          2666667,
          1750000,
          7500000,
          650000,
          850000,
          750000,
          800000,
          1000000,
          312500,
          302500,
          325000,
          420000,
          500000,
          335000,
          550000,
          320000,
          2000000,
          750000,
          337500,
          1000000,
          1250000,
          300000,
          337500,
          500000,
          345000,
          1800000,
          300000,
          300000,
          14000000,
          1700000,
          3500000,
          303750,
          2500000,
          360000,
          5400000,
          2625000,
          1000000,
          450000,
          1700000,
          3600000,
          800000,
          302000,
          2300000,
          19700000,
          850000,
          305000,
          310000,
          750000,
          6000000,
          2200000,
          900000,
          322000,
          318000,
          315000,
          2000000,
          1900000,
          318000,
          900000,
          342000,
          300000,
          1600000,
          340000,
          870000,
          775000
         ],
         "yaxis": "y"
        }
       ],
       "layout": {
        "autosize": true,
        "barmode": "relative",
        "legend": {
         "tracegroupgap": 0
        },
        "margin": {
         "t": 60
        },
        "template": {
         "data": {
          "bar": [
           {
            "error_x": {
             "color": "#2a3f5f"
            },
            "error_y": {
             "color": "#2a3f5f"
            },
            "marker": {
             "line": {
              "color": "#E5ECF6",
              "width": 0.5
             },
             "pattern": {
              "fillmode": "overlay",
              "size": 10,
              "solidity": 0.2
             }
            },
            "type": "bar"
           }
          ],
          "barpolar": [
           {
            "marker": {
             "line": {
              "color": "#E5ECF6",
              "width": 0.5
             },
             "pattern": {
              "fillmode": "overlay",
              "size": 10,
              "solidity": 0.2
             }
            },
            "type": "barpolar"
           }
          ],
          "carpet": [
           {
            "aaxis": {
             "endlinecolor": "#2a3f5f",
             "gridcolor": "white",
             "linecolor": "white",
             "minorgridcolor": "white",
             "startlinecolor": "#2a3f5f"
            },
            "baxis": {
             "endlinecolor": "#2a3f5f",
             "gridcolor": "white",
             "linecolor": "white",
             "minorgridcolor": "white",
             "startlinecolor": "#2a3f5f"
            },
            "type": "carpet"
           }
          ],
          "choropleth": [
           {
            "colorbar": {
             "outlinewidth": 0,
             "ticks": ""
            },
            "type": "choropleth"
           }
          ],
          "contour": [
           {
            "colorbar": {
             "outlinewidth": 0,
             "ticks": ""
            },
            "colorscale": [
             [
              0,
              "#0d0887"
             ],
             [
              0.1111111111111111,
              "#46039f"
             ],
             [
              0.2222222222222222,
              "#7201a8"
             ],
             [
              0.3333333333333333,
              "#9c179e"
             ],
             [
              0.4444444444444444,
              "#bd3786"
             ],
             [
              0.5555555555555556,
              "#d8576b"
             ],
             [
              0.6666666666666666,
              "#ed7953"
             ],
             [
              0.7777777777777778,
              "#fb9f3a"
             ],
             [
              0.8888888888888888,
              "#fdca26"
             ],
             [
              1,
              "#f0f921"
             ]
            ],
            "type": "contour"
           }
          ],
          "contourcarpet": [
           {
            "colorbar": {
             "outlinewidth": 0,
             "ticks": ""
            },
            "type": "contourcarpet"
           }
          ],
          "heatmap": [
           {
            "colorbar": {
             "outlinewidth": 0,
             "ticks": ""
            },
            "colorscale": [
             [
              0,
              "#0d0887"
             ],
             [
              0.1111111111111111,
              "#46039f"
             ],
             [
              0.2222222222222222,
              "#7201a8"
             ],
             [
              0.3333333333333333,
              "#9c179e"
             ],
             [
              0.4444444444444444,
              "#bd3786"
             ],
             [
              0.5555555555555556,
              "#d8576b"
             ],
             [
              0.6666666666666666,
              "#ed7953"
             ],
             [
              0.7777777777777778,
              "#fb9f3a"
             ],
             [
              0.8888888888888888,
              "#fdca26"
             ],
             [
              1,
              "#f0f921"
             ]
            ],
            "type": "heatmap"
           }
          ],
          "heatmapgl": [
           {
            "colorbar": {
             "outlinewidth": 0,
             "ticks": ""
            },
            "colorscale": [
             [
              0,
              "#0d0887"
             ],
             [
              0.1111111111111111,
              "#46039f"
             ],
             [
              0.2222222222222222,
              "#7201a8"
             ],
             [
              0.3333333333333333,
              "#9c179e"
             ],
             [
              0.4444444444444444,
              "#bd3786"
             ],
             [
              0.5555555555555556,
              "#d8576b"
             ],
             [
              0.6666666666666666,
              "#ed7953"
             ],
             [
              0.7777777777777778,
              "#fb9f3a"
             ],
             [
              0.8888888888888888,
              "#fdca26"
             ],
             [
              1,
              "#f0f921"
             ]
            ],
            "type": "heatmapgl"
           }
          ],
          "histogram": [
           {
            "marker": {
             "pattern": {
              "fillmode": "overlay",
              "size": 10,
              "solidity": 0.2
             }
            },
            "type": "histogram"
           }
          ],
          "histogram2d": [
           {
            "colorbar": {
             "outlinewidth": 0,
             "ticks": ""
            },
            "colorscale": [
             [
              0,
              "#0d0887"
             ],
             [
              0.1111111111111111,
              "#46039f"
             ],
             [
              0.2222222222222222,
              "#7201a8"
             ],
             [
              0.3333333333333333,
              "#9c179e"
             ],
             [
              0.4444444444444444,
              "#bd3786"
             ],
             [
              0.5555555555555556,
              "#d8576b"
             ],
             [
              0.6666666666666666,
              "#ed7953"
             ],
             [
              0.7777777777777778,
              "#fb9f3a"
             ],
             [
              0.8888888888888888,
              "#fdca26"
             ],
             [
              1,
              "#f0f921"
             ]
            ],
            "type": "histogram2d"
           }
          ],
          "histogram2dcontour": [
           {
            "colorbar": {
             "outlinewidth": 0,
             "ticks": ""
            },
            "colorscale": [
             [
              0,
              "#0d0887"
             ],
             [
              0.1111111111111111,
              "#46039f"
             ],
             [
              0.2222222222222222,
              "#7201a8"
             ],
             [
              0.3333333333333333,
              "#9c179e"
             ],
             [
              0.4444444444444444,
              "#bd3786"
             ],
             [
              0.5555555555555556,
              "#d8576b"
             ],
             [
              0.6666666666666666,
              "#ed7953"
             ],
             [
              0.7777777777777778,
              "#fb9f3a"
             ],
             [
              0.8888888888888888,
              "#fdca26"
             ],
             [
              1,
              "#f0f921"
             ]
            ],
            "type": "histogram2dcontour"
           }
          ],
          "mesh3d": [
           {
            "colorbar": {
             "outlinewidth": 0,
             "ticks": ""
            },
            "type": "mesh3d"
           }
          ],
          "parcoords": [
           {
            "line": {
             "colorbar": {
              "outlinewidth": 0,
              "ticks": ""
             }
            },
            "type": "parcoords"
           }
          ],
          "pie": [
           {
            "automargin": true,
            "type": "pie"
           }
          ],
          "scatter": [
           {
            "fillpattern": {
             "fillmode": "overlay",
             "size": 10,
             "solidity": 0.2
            },
            "type": "scatter"
           }
          ],
          "scatter3d": [
           {
            "line": {
             "colorbar": {
              "outlinewidth": 0,
              "ticks": ""
             }
            },
            "marker": {
             "colorbar": {
              "outlinewidth": 0,
              "ticks": ""
             }
            },
            "type": "scatter3d"
           }
          ],
          "scattercarpet": [
           {
            "marker": {
             "colorbar": {
              "outlinewidth": 0,
              "ticks": ""
             }
            },
            "type": "scattercarpet"
           }
          ],
          "scattergeo": [
           {
            "marker": {
             "colorbar": {
              "outlinewidth": 0,
              "ticks": ""
             }
            },
            "type": "scattergeo"
           }
          ],
          "scattergl": [
           {
            "marker": {
             "colorbar": {
              "outlinewidth": 0,
              "ticks": ""
             }
            },
            "type": "scattergl"
           }
          ],
          "scattermapbox": [
           {
            "marker": {
             "colorbar": {
              "outlinewidth": 0,
              "ticks": ""
             }
            },
            "type": "scattermapbox"
           }
          ],
          "scatterpolar": [
           {
            "marker": {
             "colorbar": {
              "outlinewidth": 0,
              "ticks": ""
             }
            },
            "type": "scatterpolar"
           }
          ],
          "scatterpolargl": [
           {
            "marker": {
             "colorbar": {
              "outlinewidth": 0,
              "ticks": ""
             }
            },
            "type": "scatterpolargl"
           }
          ],
          "scatterternary": [
           {
            "marker": {
             "colorbar": {
              "outlinewidth": 0,
              "ticks": ""
             }
            },
            "type": "scatterternary"
           }
          ],
          "surface": [
           {
            "colorbar": {
             "outlinewidth": 0,
             "ticks": ""
            },
            "colorscale": [
             [
              0,
              "#0d0887"
             ],
             [
              0.1111111111111111,
              "#46039f"
             ],
             [
              0.2222222222222222,
              "#7201a8"
             ],
             [
              0.3333333333333333,
              "#9c179e"
             ],
             [
              0.4444444444444444,
              "#bd3786"
             ],
             [
              0.5555555555555556,
              "#d8576b"
             ],
             [
              0.6666666666666666,
              "#ed7953"
             ],
             [
              0.7777777777777778,
              "#fb9f3a"
             ],
             [
              0.8888888888888888,
              "#fdca26"
             ],
             [
              1,
              "#f0f921"
             ]
            ],
            "type": "surface"
           }
          ],
          "table": [
           {
            "cells": {
             "fill": {
              "color": "#EBF0F8"
             },
             "line": {
              "color": "white"
             }
            },
            "header": {
             "fill": {
              "color": "#C8D4E3"
             },
             "line": {
              "color": "white"
             }
            },
            "type": "table"
           }
          ]
         },
         "layout": {
          "annotationdefaults": {
           "arrowcolor": "#2a3f5f",
           "arrowhead": 0,
           "arrowwidth": 1
          },
          "autotypenumbers": "strict",
          "coloraxis": {
           "colorbar": {
            "outlinewidth": 0,
            "ticks": ""
           }
          },
          "colorscale": {
           "diverging": [
            [
             0,
             "#8e0152"
            ],
            [
             0.1,
             "#c51b7d"
            ],
            [
             0.2,
             "#de77ae"
            ],
            [
             0.3,
             "#f1b6da"
            ],
            [
             0.4,
             "#fde0ef"
            ],
            [
             0.5,
             "#f7f7f7"
            ],
            [
             0.6,
             "#e6f5d0"
            ],
            [
             0.7,
             "#b8e186"
            ],
            [
             0.8,
             "#7fbc41"
            ],
            [
             0.9,
             "#4d9221"
            ],
            [
             1,
             "#276419"
            ]
           ],
           "sequential": [
            [
             0,
             "#0d0887"
            ],
            [
             0.1111111111111111,
             "#46039f"
            ],
            [
             0.2222222222222222,
             "#7201a8"
            ],
            [
             0.3333333333333333,
             "#9c179e"
            ],
            [
             0.4444444444444444,
             "#bd3786"
            ],
            [
             0.5555555555555556,
             "#d8576b"
            ],
            [
             0.6666666666666666,
             "#ed7953"
            ],
            [
             0.7777777777777778,
             "#fb9f3a"
            ],
            [
             0.8888888888888888,
             "#fdca26"
            ],
            [
             1,
             "#f0f921"
            ]
           ],
           "sequentialminus": [
            [
             0,
             "#0d0887"
            ],
            [
             0.1111111111111111,
             "#46039f"
            ],
            [
             0.2222222222222222,
             "#7201a8"
            ],
            [
             0.3333333333333333,
             "#9c179e"
            ],
            [
             0.4444444444444444,
             "#bd3786"
            ],
            [
             0.5555555555555556,
             "#d8576b"
            ],
            [
             0.6666666666666666,
             "#ed7953"
            ],
            [
             0.7777777777777778,
             "#fb9f3a"
            ],
            [
             0.8888888888888888,
             "#fdca26"
            ],
            [
             1,
             "#f0f921"
            ]
           ]
          },
          "colorway": [
           "#636efa",
           "#EF553B",
           "#00cc96",
           "#ab63fa",
           "#FFA15A",
           "#19d3f3",
           "#FF6692",
           "#B6E880",
           "#FF97FF",
           "#FECB52"
          ],
          "font": {
           "color": "#2a3f5f"
          },
          "geo": {
           "bgcolor": "white",
           "lakecolor": "white",
           "landcolor": "#E5ECF6",
           "showlakes": true,
           "showland": true,
           "subunitcolor": "white"
          },
          "hoverlabel": {
           "align": "left"
          },
          "hovermode": "closest",
          "mapbox": {
           "style": "light"
          },
          "paper_bgcolor": "white",
          "plot_bgcolor": "#E5ECF6",
          "polar": {
           "angularaxis": {
            "gridcolor": "white",
            "linecolor": "white",
            "ticks": ""
           },
           "bgcolor": "#E5ECF6",
           "radialaxis": {
            "gridcolor": "white",
            "linecolor": "white",
            "ticks": ""
           }
          },
          "scene": {
           "xaxis": {
            "backgroundcolor": "#E5ECF6",
            "gridcolor": "white",
            "gridwidth": 2,
            "linecolor": "white",
            "showbackground": true,
            "ticks": "",
            "zerolinecolor": "white"
           },
           "yaxis": {
            "backgroundcolor": "#E5ECF6",
            "gridcolor": "white",
            "gridwidth": 2,
            "linecolor": "white",
            "showbackground": true,
            "ticks": "",
            "zerolinecolor": "white"
           },
           "zaxis": {
            "backgroundcolor": "#E5ECF6",
            "gridcolor": "white",
            "gridwidth": 2,
            "linecolor": "white",
            "showbackground": true,
            "ticks": "",
            "zerolinecolor": "white"
           }
          },
          "shapedefaults": {
           "line": {
            "color": "#2a3f5f"
           }
          },
          "ternary": {
           "aaxis": {
            "gridcolor": "white",
            "linecolor": "white",
            "ticks": ""
           },
           "baxis": {
            "gridcolor": "white",
            "linecolor": "white",
            "ticks": ""
           },
           "bgcolor": "#E5ECF6",
           "caxis": {
            "gridcolor": "white",
            "linecolor": "white",
            "ticks": ""
           }
          },
          "title": {
           "x": 0.05
          },
          "xaxis": {
           "automargin": true,
           "gridcolor": "white",
           "linecolor": "white",
           "ticks": "",
           "title": {
            "standoff": 15
           },
           "zerolinecolor": "white",
           "zerolinewidth": 2
          },
          "yaxis": {
           "automargin": true,
           "gridcolor": "white",
           "linecolor": "white",
           "ticks": "",
           "title": {
            "standoff": 15
           },
           "zerolinecolor": "white",
           "zerolinewidth": 2
          }
         }
        },
        "xaxis": {
         "anchor": "y",
         "autorange": true,
         "domain": [
          0,
          1
         ],
         "range": [
          -0.5,
          8.5
         ],
         "title": {
          "text": "position"
         },
         "type": "category"
        },
        "yaxis": {
         "anchor": "x",
         "autorange": true,
         "domain": [
          0,
          1
         ],
         "range": [
          0,
          850106668.4210526
         ],
         "title": {
          "text": "sum of salary"
         },
         "type": "linear"
        }
       }
      },
      "image/png": "[encoded data removed]",
      "text/html": [
       "<div>                            <div id=\"2927c088-5023-4b23-a945-ccf60b3da951\" class=\"plotly-graph-div\" style=\"height:525px; width:100%;\"></div>            <script type=\"text/javascript\">                require([\"plotly\"], function(Plotly) {                    window.PLOTLYENV=window.PLOTLYENV || {};                                    if (document.getElementById(\"2927c088-5023-4b23-a945-ccf60b3da951\")) {                    Plotly.newPlot(                        \"2927c088-5023-4b23-a945-ccf60b3da951\",                        [{\"alignmentgroup\":\"True\",\"bingroup\":\"x\",\"histfunc\":\"sum\",\"hovertemplate\":\"position=%{x}<br>sum of salary=%{y}<extra></extra>\",\"legendgroup\":\"\",\"marker\":{\"color\":\"#636efa\",\"pattern\":{\"shape\":\"\"}},\"name\":\"\",\"offsetgroup\":\"\",\"orientation\":\"v\",\"showlegend\":false,\"x\":[\"CF\",\"P\",\"CF\",\"P\",\"SS\",\"1B\",\"P\",\"3B\",\"3B\",\"P\",\"RF\",\"LF\",\"3B\",\"2B\",\"P\",\"C\",\"C\",\"P\",\"C\",\"P\",\"P\",\"RF\",\"P\",\"P\",\"P\",\"P\",\"2B\",\"1B\",\"RF\",\"P\",\"SS\",\"1B\",\"P\",\"P\",\"C\",\"CF\",\"P\",\"LF\",\"C\",\"1B\",\"P\",\"2B\",\"P\",\"P\",\"1B\",\"P\",\"P\",\"P\",\"3B\",\"1B\",\"P\",\"P\",\"P\",\"P\",\"P\",\"P\",\"P\",\"P\",\"P\",\"3B\",\"RF\",\"C\",\"1B\",\"SS\",\"3B\",\"2B\",\"P\",\"P\",\"1B\",\"CF\",\"3B\",\"1B\",\"LF\",\"P\",\"P\",\"1B\",\"P\",\"P\",\"P\",\"P\",\"LF\",\"P\",\"P\",\"P\",\"3B\",\"LF\",\"P\",\"P\",\"RF\",\"P\",\"RF\",\"P\",\"C\",\"SS\",\"P\",\"CF\",\"3B\",\"C\",\"1B\",\"P\",\"P\",\"P\",\"2B\",\"P\",\"1B\",\"LF\",\"SS\",\"P\",\"2B\",\"2B\",\"CF\",\"LF\",\"P\",\"P\",\"P\",\"SS\",\"RF\",\"P\",\"P\",\"P\",\"1B\",\"P\",\"RF\",\"C\",\"3B\",\"RF\",\"1B\",\"LF\",\"SS\",\"P\",\"P\",\"C\",\"P\",\"P\",\"P\",\"C\",\"P\",\"P\",\"3B\",\"P\",\"LF\",\"2B\",\"P\",\"P\",\"1B\",\"LF\",\"P\",\"P\",\"C\",\"RF\",\"RF\",\"P\",\"CF\",\"P\",\"P\",\"1B\",\"2B\",\"SS\",\"P\",\"P\",\"LF\",\"C\",\"C\",\"P\",\"P\",\"P\",\"P\",\"SS\",\"LF\",\"2B\",\"P\",\"RF\",\"1B\",\"3B\",\"P\",\"SS\",\"P\",\"P\",\"CF\",\"P\",\"P\",\"3B\",\"P\",\"RF\",\"2B\",\"P\",\"P\",\"P\",\"P\",\"P\",\"1B\",\"3B\",\"LF\",\"2B\",\"P\",\"CF\",\"P\",\"P\",\"2B\",\"P\",\"RF\",\"SS\",\"3B\",\"C\",\"P\",\"SS\",\"C\",\"P\",\"SS\",\"RF\",\"P\",\"P\",\"C\",\"P\",\"P\",\"P\",\"C\",\"2B\",\"P\",\"3B\",\"1B\",\"P\",\"CF\",\"P\",\"P\",\"P\",\"CF\",\"RF\",\"1B\",\"P\",\"C\",\"LF\",\"P\",\"RF\",\"C\",\"SS\",\"3B\",\"P\",\"P\",\"P\",\"P\",\"SS\",\"P\",\"P\",\"P\",\"CF\",\"3B\",\"P\",\"SS\",\"P\",\"P\",\"P\",\"P\",\"LF\",\"C\",\"1B\",\"2B\",\"P\",\"C\",\"P\",\"P\",\"2B\",\"P\",\"1B\",\"P\",\"CF\",\"P\",\"1B\",\"RF\",\"P\",\"CF\",\"P\",\"P\",\"P\",\"SS\",\"RF\",\"2B\",\"3B\",\"P\",\"P\",\"P\",\"P\",\"LF\",\"3B\",\"1B\",\"P\",\"1B\",\"P\",\"C\",\"CF\",\"RF\",\"P\",\"2B\",\"P\",\"LF\",\"P\",\"1B\",\"P\",\"P\",\"P\",\"P\",\"RF\",\"2B\",\"C\",\"1B\",\"LF\",\"1B\",\"2B\",\"P\",\"SS\",\"3B\",\"3B\",\"3B\",\"LF\",\"P\",\"P\",\"P\",\"P\",\"P\",\"CF\",\"C\",\"P\",\"P\",\"C\",\"1B\",\"RF\",\"LF\",\"SS\",\"C\",\"P\",\"P\",\"P\",\"3B\",\"SS\",\"P\",\"RF\",\"2B\",\"3B\",\"RF\",\"P\",\"P\",\"P\",\"P\",\"CF\",\"P\",\"P\",\"P\",\"2B\",\"P\",\"P\",\"P\",\"CF\",\"SS\",\"P\",\"P\",\"P\",\"P\",\"RF\",\"2B\",\"P\",\"LF\",\"1B\",\"P\",\"SS\",\"P\",\"P\",\"3B\",\"2B\",\"P\",\"C\",\"RF\",\"C\",\"P\",\"1B\",\"RF\",\"P\",\"3B\",\"CF\",\"2B\",\"P\",\"RF\",\"P\",\"P\",\"LF\",\"1B\",\"P\",\"SS\",\"C\",\"P\",\"P\",\"P\",\"P\",\"LF\",\"C\",\"P\",\"2B\",\"1B\",\"P\",\"LF\",\"C\",\"P\",\"P\",\"P\",\"RF\",\"SS\",\"P\",\"2B\",\"P\",\"3B\",\"RF\",\"2B\",\"3B\",\"P\",\"LF\",\"P\",\"P\",\"P\",\"C\",\"P\",\"1B\",\"CF\",\"P\",\"2B\",\"P\",\"C\",\"3B\",\"P\",\"SS\",\"CF\",\"RF\",\"3B\",\"C\",\"P\",\"C\",\"1B\",\"P\",\"1B\",\"P\",\"SS\",\"P\",\"P\",\"2B\",\"P\",\"P\",\"CF\",\"P\",\"P\",\"LF\",\"P\",\"P\",\"P\",\"3B\",\"P\",\"CF\",\"P\",\"SS\",\"LF\",\"LF\",\"P\",\"P\",\"C\",\"P\",\"LF\",\"P\",\"SS\",\"P\",\"1B\",\"P\",\"1B\",\"P\",\"P\",\"RF\",\"C\",\"CF\",\"P\",\"2B\",\"1B\",\"P\",\"2B\",\"1B\",\"P\",\"LF\",\"P\",\"C\",\"1B\",\"P\",\"P\",\"P\",\"SS\",\"P\",\"1B\",\"P\",\"CF\",\"LF\",\"P\",\"P\",\"C\",\"P\",\"P\",\"3B\",\"RF\",\"RF\",\"P\",\"P\",\"CF\",\"SS\",\"CF\",\"P\",\"LF\",\"P\",\"RF\",\"P\",\"3B\",\"P\",\"P\",\"SS\",\"2B\",\"P\",\"C\",\"1B\",\"2B\",\"P\",\"LF\",\"P\",\"P\",\"RF\",\"P\",\"P\",\"3B\",\"C\",\"P\",\"1B\",\"P\",\"LF\",\"3B\",\"SS\",\"P\",\"1B\",\"RF\",\"3B\",\"P\",\"P\",\"1B\",\"P\",\"1B\",\"LF\",\"CF\",\"2B\",\"RF\",\"P\",\"C\",\"2B\",\"C\",\"P\",\"P\",\"P\",\"P\",\"2B\",\"P\",\"RF\",\"3B\",\"LF\",\"CF\",\"P\",\"LF\",\"P\",\"RF\",\"C\",\"P\",\"CF\",\"P\",\"P\",\"P\",\"P\",\"1B\",\"2B\",\"C\",\"SS\",\"P\",\"1B\",\"P\",\"P\",\"3B\",\"P\",\"LF\",\"P\",\"P\",\"P\",\"2B\",\"C\",\"RF\",\"P\",\"P\",\"2B\",\"P\",\"C\",\"3B\",\"P\",\"P\",\"RF\",\"2B\",\"P\",\"CF\",\"2B\",\"1B\",\"3B\",\"P\",\"P\",\"P\",\"RF\",\"SS\",\"1B\",\"3B\",\"3B\",\"P\",\"RF\",\"SS\",\"C\",\"P\",\"LF\",\"P\",\"P\",\"LF\",\"2B\",\"1B\",\"C\",\"P\",\"P\",\"P\",\"CF\",\"P\",\"CF\",\"P\",\"P\",\"SS\",\"P\",\"P\",\"SS\",\"3B\",\"2B\",\"1B\",\"C\",\"P\",\"P\",\"P\",\"3B\",\"P\",\"LF\",\"P\",\"3B\",\"P\",\"CF\",\"P\",\"P\",\"P\",\"1B\",\"P\",\"P\",\"3B\",\"RF\",\"P\",\"P\",\"C\",\"CF\",\"P\",\"3B\",\"LF\",\"P\",\"P\",\"2B\",\"P\",\"P\",\"1B\",\"P\",\"P\",\"CF\",\"LF\",\"P\",\"P\",\"RF\",\"SS\",\"C\",\"2B\",\"P\",\"P\",\"P\",\"1B\",\"P\",\"C\",\"CF\",\"P\",\"P\",\"1B\",\"P\",\"P\",\"RF\",\"CF\",\"P\",\"P\",\"P\",\"P\",\"LF\",\"P\",\"SS\",\"P\",\"C\",\"P\",\"P\",\"1B\",\"SS\",\"3B\",\"RF\",\"P\",\"P\",\"RF\",\"P\",\"P\",\"2B\",\"P\",\"P\",\"CF\",\"3B\",\"P\",\"LF\",\"RF\",\"LF\",\"C\",\"P\",\"SS\",\"P\",\"P\",\"C\",\"P\",\"3B\",\"SS\",\"1B\",\"P\",\"P\",\"1B\",\"RF\",\"2B\",\"P\",\"P\",\"P\",\"P\",\"C\",\"P\",\"3B\",\"P\",\"P\",\"LF\",\"P\",\"1B\",\"LF\",\"C\",\"P\",\"P\",\"RF\",\"P\",\"CF\",\"CF\",\"P\",\"1B\",\"P\",\"P\",\"P\",\"P\",\"2B\",\"1B\",\"CF\",\"SS\",\"P\",\"P\",\"1B\",\"C\",\"LF\",\"1B\",\"P\",\"P\",\"P\",\"SS\",\"P\",\"P\",\"3B\",\"2B\",\"RF\",\"P\",\"P\",\"P\",\"P\",\"C\",\"1B\",\"RF\",\"P\",\"P\",\"CF\",\"SS\"],\"xaxis\":\"x\",\"y\":[6200000,11000000,375000,375000,2150000,7750000,5750000,320000,9900000,301500,11000000,2200000,575000,2500000,375000,2025000,335000,3266667,335000,7833333,375000,9900000,8666667,375000,5450000,900000,1000000,1000000,4000000,325750,335000,2750000,300000,4000000,550000,7000000,345000,8250000,315000,2600000,16000000,315000,330000,7000000,800000,307500,322500,1000000,400000,8725000,500000,320000,325000,335000,1350000,500000,7000000,370000,525000,725000,4200000,312500,750000,3700000,312500,430000,377500,14625000,300000,12500000,15333333,300000,3000000,375000,6200000,625000,330000,950000,11666667,2250000,325000,850000,315000,335000,300000,340000,1500000,305000,2600000,3000000,1650000,385000,6000000,365000,365000,975000,2333333,500000,4000000,320000,3000000,310000,345000,1275000,7000000,800000,5000000,332500,490000,309000,8000000,500000,300000,3000000,3500000,11500000,750000,3425000,4500000,17500000,500000,3600000,3300000,825000,2100000,4500000,4587500,22500000,1000000,12000000,2500000,6900000,4350000,3175000,301000,700000,3500000,301000,340000,2300000,302000,318500,500000,6375000,8000000,6500000,4000000,500000,320000,14000000,850000,800000,340000,1725000,750000,6000000,350000,5000000,340000,800000,9500000,865000,1550000,2000000,6000000,300000,1400000,5750000,650000,2500000,3000000,1000000,6166667,750000,6000000,900000,1200000,305000,480000,300000,3150000,6000000,3983333,16000000,1750000,310000,8000000,300000,450000,340000,6800000,1000000,445000,320000,6000000,12500000,360000,2500000,1615000,500000,400000,700000,318000,2600000,2750000,300000,317000,303500,322000,345000,327250,650000,500000,300000,302500,3500000,316700,1100000,305200,352400,324100,322400,319400,750000,326800,315000,302200,325600,316300,1025000,450000,7250000,303200,304700,304500,324400,560000,1025000,2700000,302900,850000,6000000,925000,6000000,320000,1250000,2100000,1850000,650000,480000,600000,500000,320000,300000,550000,11600000,650000,340000,9000000,320000,317500,300000,700000,310000,600000,300000,321000,400000,12666667,700000,9000000,330000,302000,335000,2500000,8850000,305000,340000,3000000,316000,825000,332500,335000,1487500,600000,2800000,330000,305000,7000000,385000,300000,300000,3000000,775000,2750000,650000,7750000,1509375,3500000,305000,2500000,320000,4666667,400000,310000,3000000,600000,300000,1200000,2800000,400000,6500000,425000,300000,750000,3800000,3725000,325000,307500,2400000,840000,301000,353500,1000000,16000000,6500000,3000000,307500,315000,5000000,2800000,390000,380000,370000,325000,12500000,10000000,352000,307500,360000,600000,3400000,3250000,750000,5500000,395000,395000,1200000,350000,3250000,300000,9000000,372500,300000,320500,306500,304000,4000000,1100000,1000000,320000,317500,1250000,330000,346500,1750000,3250000,900000,550000,2150000,1000000,500000,2100000,11000000,300000,1500000,5000000,1730000,1300000,12400000,3565000,302500,5000000,301000,16666667,2975000,358500,4066667,1400000,1475000,9000000,5000000,975000,310000,305000,301000,1200000,6250000,303000,600000,300000,440000,305000,376000,3166667,450000,305000,310000,383333,700000,310000,1687500,425000,8737500,380000,400000,1500000,370000,314000,326000,400000,2425000,2367500,550000,750000,307500,550000,3725000,6500000,4350000,4500000,340000,395000,300000,2800000,440000,500000,305000,307500,10750000,330000,1500000,320000,820000,305000,1600000,340000,5500000,300000,2100000,317500,1500000,300000,300000,1950000,6000000,312500,310000,300000,315000,2587500,1300000,3000000,350000,450000,6000000,1250000,303000,350000,2337500,310000,312000,350000,300000,307500,7000000,375000,15714286,900000,750000,8500000,301400,302550,775000,12428571,3500000,1800000,500000,18600000,6000000,2000000,2700000,3100000,7000000,16000000,450000,9000000,3000000,10890000,22000000,13000000,1000000,9000000,1925000,12357143,700000,4333333,700000,6500000,1000000,800000,10765608,4166667,10295600,2000000,5033333,500000,317500,318000,16071429,307500,319500,537500,3000000,5000000,302500,3933333,311500,316000,715000,300000,1000000,965000,328000,5325000,300500,302500,2100000,11666667,301000,2400000,307000,2300000,5000000,550000,347500,5500000,600000,450000,3300000,357500,400000,3000000,4450000,2000000,1800000,1750000,301500,3000000,10600000,4400000,4250000,355000,3000000,550000,750000,1225000,7500000,300000,335000,11000000,9000000,362500,2600000,750000,3950000,875000,2425000,525000,12166667,8000000,4375000,575000,2750000,305000,6150000,2000000,350000,300000,303000,300000,342000,300000,315000,300000,8571429,335000,625000,800000,1150000,625000,321000,321000,303000,800000,750000,775000,311500,2575000,1150000,1850000,650000,340000,6975000,1925000,8833333,300500,2937500,2500000,6000000,925000,326000,3575000,2500000,8500000,305000,600000,750000,700000,1500000,350000,450000,300000,800000,342500,1250000,1750000,3150000,325000,8000000,1000000,1400000,1800000,6875000,4000000,750000,2750000,3916667,4250000,3000000,345000,1750000,1950000,7000000,550000,7700000,3000000,335000,2566667,6500000,302500,1000000,3500000,3500000,300000,6500000,18000000,662500,2433333,7200000,316000,1000000,850000,312000,360000,2125000,1000000,1100000,800000,342500,2750000,3500000,303000,3050000,6133333,7937500,1500000,1200000,334000,1500000,450000,308000,600000,320000,300000,5375000,9333333,900000,7750000,900000,1700000,650000,450000,300000,525000,4000000,300000,12500000,7000000,7250000,8625000,2000000,350000,1000000,1200000,1600000,8000000,300000,600000,1750000,320000,1500000,320000,320000,2500000,800000,650000,302500,350000,1700000,600000,320000,315000,2666667,1750000,7500000,650000,850000,750000,800000,1000000,312500,302500,325000,420000,500000,335000,550000,320000,2000000,750000,337500,1000000,1250000,300000,337500,500000,345000,1800000,300000,300000,14000000,1700000,3500000,303750,2500000,360000,5400000,2625000,1000000,450000,1700000,3600000,800000,302000,2300000,19700000,850000,305000,310000,750000,6000000,2200000,900000,322000,318000,315000,2000000,1900000,318000,900000,342000,300000,1600000,340000,870000,775000],\"yaxis\":\"y\",\"type\":\"histogram\"}],                        {\"template\":{\"data\":{\"histogram2dcontour\":[{\"type\":\"histogram2dcontour\",\"colorbar\":{\"outlinewidth\":0,\"ticks\":\"\"},\"colorscale\":[[0.0,\"#0d0887\"],[0.1111111111111111,\"#46039f\"],[0.2222222222222222,\"#7201a8\"],[0.3333333333333333,\"#9c179e\"],[0.4444444444444444,\"#bd3786\"],[0.5555555555555556,\"#d8576b\"],[0.6666666666666666,\"#ed7953\"],[0.7777777777777778,\"#fb9f3a\"],[0.8888888888888888,\"#fdca26\"],[1.0,\"#f0f921\"]]}],\"choropleth\":[{\"type\":\"choropleth\",\"colorbar\":{\"outlinewidth\":0,\"ticks\":\"\"}}],\"histogram2d\":[{\"type\":\"histogram2d\",\"colorbar\":{\"outlinewidth\":0,\"ticks\":\"\"},\"colorscale\":[[0.0,\"#0d0887\"],[0.1111111111111111,\"#46039f\"],[0.2222222222222222,\"#7201a8\"],[0.3333333333333333,\"#9c179e\"],[0.4444444444444444,\"#bd3786\"],[0.5555555555555556,\"#d8576b\"],[0.6666666666666666,\"#ed7953\"],[0.7777777777777778,\"#fb9f3a\"],[0.8888888888888888,\"#fdca26\"],[1.0,\"#f0f921\"]]}],\"heatmap\":[{\"type\":\"heatmap\",\"colorbar\":{\"outlinewidth\":0,\"ticks\":\"\"},\"colorscale\":[[0.0,\"#0d0887\"],[0.1111111111111111,\"#46039f\"],[0.2222222222222222,\"#7201a8\"],[0.3333333333333333,\"#9c179e\"],[0.4444444444444444,\"#bd3786\"],[0.5555555555555556,\"#d8576b\"],[0.6666666666666666,\"#ed7953\"],[0.7777777777777778,\"#fb9f3a\"],[0.8888888888888888,\"#fdca26\"],[1.0,\"#f0f921\"]]}],\"heatmapgl\":[{\"type\":\"heatmapgl\",\"colorbar\":{\"outlinewidth\":0,\"ticks\":\"\"},\"colorscale\":[[0.0,\"#0d0887\"],[0.1111111111111111,\"#46039f\"],[0.2222222222222222,\"#7201a8\"],[0.3333333333333333,\"#9c179e\"],[0.4444444444444444,\"#bd3786\"],[0.5555555555555556,\"#d8576b\"],[0.6666666666666666,\"#ed7953\"],[0.7777777777777778,\"#fb9f3a\"],[0.8888888888888888,\"#fdca26\"],[1.0,\"#f0f921\"]]}],\"contourcarpet\":[{\"type\":\"contourcarpet\",\"colorbar\":{\"outlinewidth\":0,\"ticks\":\"\"}}],\"contour\":[{\"type\":\"contour\",\"colorbar\":{\"outlinewidth\":0,\"ticks\":\"\"},\"colorscale\":[[0.0,\"#0d0887\"],[0.1111111111111111,\"#46039f\"],[0.2222222222222222,\"#7201a8\"],[0.3333333333333333,\"#9c179e\"],[0.4444444444444444,\"#bd3786\"],[0.5555555555555556,\"#d8576b\"],[0.6666666666666666,\"#ed7953\"],[0.7777777777777778,\"#fb9f3a\"],[0.8888888888888888,\"#fdca26\"],[1.0,\"#f0f921\"]]}],\"surface\":[{\"type\":\"surface\",\"colorbar\":{\"outlinewidth\":0,\"ticks\":\"\"},\"colorscale\":[[0.0,\"#0d0887\"],[0.1111111111111111,\"#46039f\"],[0.2222222222222222,\"#7201a8\"],[0.3333333333333333,\"#9c179e\"],[0.4444444444444444,\"#bd3786\"],[0.5555555555555556,\"#d8576b\"],[0.6666666666666666,\"#ed7953\"],[0.7777777777777778,\"#fb9f3a\"],[0.8888888888888888,\"#fdca26\"],[1.0,\"#f0f921\"]]}],\"mesh3d\":[{\"type\":\"mesh3d\",\"colorbar\":{\"outlinewidth\":0,\"ticks\":\"\"}}],\"scatter\":[{\"fillpattern\":{\"fillmode\":\"overlay\",\"size\":10,\"solidity\":0.2},\"type\":\"scatter\"}],\"parcoords\":[{\"type\":\"parcoords\",\"line\":{\"colorbar\":{\"outlinewidth\":0,\"ticks\":\"\"}}}],\"scatterpolargl\":[{\"type\":\"scatterpolargl\",\"marker\":{\"colorbar\":{\"outlinewidth\":0,\"ticks\":\"\"}}}],\"bar\":[{\"error_x\":{\"color\":\"#2a3f5f\"},\"error_y\":{\"color\":\"#2a3f5f\"},\"marker\":{\"line\":{\"color\":\"#E5ECF6\",\"width\":0.5},\"pattern\":{\"fillmode\":\"overlay\",\"size\":10,\"solidity\":0.2}},\"type\":\"bar\"}],\"scattergeo\":[{\"type\":\"scattergeo\",\"marker\":{\"colorbar\":{\"outlinewidth\":0,\"ticks\":\"\"}}}],\"scatterpolar\":[{\"type\":\"scatterpolar\",\"marker\":{\"colorbar\":{\"outlinewidth\":0,\"ticks\":\"\"}}}],\"histogram\":[{\"marker\":{\"pattern\":{\"fillmode\":\"overlay\",\"size\":10,\"solidity\":0.2}},\"type\":\"histogram\"}],\"scattergl\":[{\"type\":\"scattergl\",\"marker\":{\"colorbar\":{\"outlinewidth\":0,\"ticks\":\"\"}}}],\"scatter3d\":[{\"type\":\"scatter3d\",\"line\":{\"colorbar\":{\"outlinewidth\":0,\"ticks\":\"\"}},\"marker\":{\"colorbar\":{\"outlinewidth\":0,\"ticks\":\"\"}}}],\"scattermapbox\":[{\"type\":\"scattermapbox\",\"marker\":{\"colorbar\":{\"outlinewidth\":0,\"ticks\":\"\"}}}],\"scatterternary\":[{\"type\":\"scatterternary\",\"marker\":{\"colorbar\":{\"outlinewidth\":0,\"ticks\":\"\"}}}],\"scattercarpet\":[{\"type\":\"scattercarpet\",\"marker\":{\"colorbar\":{\"outlinewidth\":0,\"ticks\":\"\"}}}],\"carpet\":[{\"aaxis\":{\"endlinecolor\":\"#2a3f5f\",\"gridcolor\":\"white\",\"linecolor\":\"white\",\"minorgridcolor\":\"white\",\"startlinecolor\":\"#2a3f5f\"},\"baxis\":{\"endlinecolor\":\"#2a3f5f\",\"gridcolor\":\"white\",\"linecolor\":\"white\",\"minorgridcolor\":\"white\",\"startlinecolor\":\"#2a3f5f\"},\"type\":\"carpet\"}],\"table\":[{\"cells\":{\"fill\":{\"color\":\"#EBF0F8\"},\"line\":{\"color\":\"white\"}},\"header\":{\"fill\":{\"color\":\"#C8D4E3\"},\"line\":{\"color\":\"white\"}},\"type\":\"table\"}],\"barpolar\":[{\"marker\":{\"line\":{\"color\":\"#E5ECF6\",\"width\":0.5},\"pattern\":{\"fillmode\":\"overlay\",\"size\":10,\"solidity\":0.2}},\"type\":\"barpolar\"}],\"pie\":[{\"automargin\":true,\"type\":\"pie\"}]},\"layout\":{\"autotypenumbers\":\"strict\",\"colorway\":[\"#636efa\",\"#EF553B\",\"#00cc96\",\"#ab63fa\",\"#FFA15A\",\"#19d3f3\",\"#FF6692\",\"#B6E880\",\"#FF97FF\",\"#FECB52\"],\"font\":{\"color\":\"#2a3f5f\"},\"hovermode\":\"closest\",\"hoverlabel\":{\"align\":\"left\"},\"paper_bgcolor\":\"white\",\"plot_bgcolor\":\"#E5ECF6\",\"polar\":{\"bgcolor\":\"#E5ECF6\",\"angularaxis\":{\"gridcolor\":\"white\",\"linecolor\":\"white\",\"ticks\":\"\"},\"radialaxis\":{\"gridcolor\":\"white\",\"linecolor\":\"white\",\"ticks\":\"\"}},\"ternary\":{\"bgcolor\":\"#E5ECF6\",\"aaxis\":{\"gridcolor\":\"white\",\"linecolor\":\"white\",\"ticks\":\"\"},\"baxis\":{\"gridcolor\":\"white\",\"linecolor\":\"white\",\"ticks\":\"\"},\"caxis\":{\"gridcolor\":\"white\",\"linecolor\":\"white\",\"ticks\":\"\"}},\"coloraxis\":{\"colorbar\":{\"outlinewidth\":0,\"ticks\":\"\"}},\"colorscale\":{\"sequential\":[[0.0,\"#0d0887\"],[0.1111111111111111,\"#46039f\"],[0.2222222222222222,\"#7201a8\"],[0.3333333333333333,\"#9c179e\"],[0.4444444444444444,\"#bd3786\"],[0.5555555555555556,\"#d8576b\"],[0.6666666666666666,\"#ed7953\"],[0.7777777777777778,\"#fb9f3a\"],[0.8888888888888888,\"#fdca26\"],[1.0,\"#f0f921\"]],\"sequentialminus\":[[0.0,\"#0d0887\"],[0.1111111111111111,\"#46039f\"],[0.2222222222222222,\"#7201a8\"],[0.3333333333333333,\"#9c179e\"],[0.4444444444444444,\"#bd3786\"],[0.5555555555555556,\"#d8576b\"],[0.6666666666666666,\"#ed7953\"],[0.7777777777777778,\"#fb9f3a\"],[0.8888888888888888,\"#fdca26\"],[1.0,\"#f0f921\"]],\"diverging\":[[0,\"#8e0152\"],[0.1,\"#c51b7d\"],[0.2,\"#de77ae\"],[0.3,\"#f1b6da\"],[0.4,\"#fde0ef\"],[0.5,\"#f7f7f7\"],[0.6,\"#e6f5d0\"],[0.7,\"#b8e186\"],[0.8,\"#7fbc41\"],[0.9,\"#4d9221\"],[1,\"#276419\"]]},\"xaxis\":{\"gridcolor\":\"white\",\"linecolor\":\"white\",\"ticks\":\"\",\"title\":{\"standoff\":15},\"zerolinecolor\":\"white\",\"automargin\":true,\"zerolinewidth\":2},\"yaxis\":{\"gridcolor\":\"white\",\"linecolor\":\"white\",\"ticks\":\"\",\"title\":{\"standoff\":15},\"zerolinecolor\":\"white\",\"automargin\":true,\"zerolinewidth\":2},\"scene\":{\"xaxis\":{\"backgroundcolor\":\"#E5ECF6\",\"gridcolor\":\"white\",\"linecolor\":\"white\",\"showbackground\":true,\"ticks\":\"\",\"zerolinecolor\":\"white\",\"gridwidth\":2},\"yaxis\":{\"backgroundcolor\":\"#E5ECF6\",\"gridcolor\":\"white\",\"linecolor\":\"white\",\"showbackground\":true,\"ticks\":\"\",\"zerolinecolor\":\"white\",\"gridwidth\":2},\"zaxis\":{\"backgroundcolor\":\"#E5ECF6\",\"gridcolor\":\"white\",\"linecolor\":\"white\",\"showbackground\":true,\"ticks\":\"\",\"zerolinecolor\":\"white\",\"gridwidth\":2}},\"shapedefaults\":{\"line\":{\"color\":\"#2a3f5f\"}},\"annotationdefaults\":{\"arrowcolor\":\"#2a3f5f\",\"arrowhead\":0,\"arrowwidth\":1},\"geo\":{\"bgcolor\":\"white\",\"landcolor\":\"#E5ECF6\",\"subunitcolor\":\"white\",\"showland\":true,\"showlakes\":true,\"lakecolor\":\"white\"},\"title\":{\"x\":0.05},\"mapbox\":{\"style\":\"light\"}}},\"xaxis\":{\"anchor\":\"y\",\"domain\":[0.0,1.0],\"title\":{\"text\":\"position\"}},\"yaxis\":{\"anchor\":\"x\",\"domain\":[0.0,1.0],\"title\":{\"text\":\"sum of salary\"}},\"legend\":{\"tracegroupgap\":0},\"margin\":{\"t\":60},\"barmode\":\"relative\"},                        {\"responsive\": true}                    ).then(function(){\n",
       "                            \n",
       "var gd = document.getElementById('2927c088-5023-4b23-a945-ccf60b3da951');\n",
       "var x = new MutationObserver(function (mutations, observer) {{\n",
       "        var display = window.getComputedStyle(gd).display;\n",
       "        if (!display || display === 'none') {{\n",
       "            console.log([gd, 'removed!']);\n",
       "            Plotly.purge(gd);\n",
       "            observer.disconnect();\n",
       "        }}\n",
       "}});\n",
       "\n",
       "// Listen for the removal of the full notebook cells\n",
       "var notebookContainer = gd.closest('#notebook-container');\n",
       "if (notebookContainer) {{\n",
       "    x.observe(notebookContainer, {childList: true});\n",
       "}}\n",
       "\n",
       "// Listen for the clearing of the current output cell\n",
       "var outputEl = gd.closest('.output');\n",
       "if (outputEl) {{\n",
       "    x.observe(outputEl, {childList: true});\n",
       "}}\n",
       "\n",
       "                        })                };                });            </script>        </div>"
      ]
     },
     "metadata": {},
     "output_type": "display_data"
    }
   ],
   "source": [
    "px.histogram(bsalary,x='position',y='salary')"
   ]
  },
  {
   "cell_type": "code",
   "execution_count": 36,
   "id": "6dd99da3-0e37-4e8f-bd69-276efc5857de",
   "metadata": {},
   "outputs": [
    {
     "data": {
      "application/vnd.plotly.v1+json": {
       "config": {
        "plotlyServerURL": "https://plot.ly"
       },
       "data": [
        {
         "alignmentgroup": "True",
         "bingroup": "x",
         "histfunc": "sum",
         "hovertemplate": "gamesplayed=%{x}<br>sum of salary=%{y}<extra></extra>",
         "legendgroup": "",
         "marker": {
          "color": "#636efa",
          "pattern": {
           "shape": ""
          }
         },
         "name": "",
         "offsetgroup": "",
         "orientation": "v",
         "showlegend": false,
         "type": "histogram",
         "x": [
          112,
          3,
          108,
          5,
          142,
          125,
          1,
          148,
          58,
          5,
          156,
          148,
          46,
          144,
          2,
          97,
          73,
          1,
          46,
          3,
          3,
          60,
          1,
          3,
          3,
          18,
          38,
          79,
          141,
          69,
          154,
          20,
          11,
          36,
          7,
          104,
          27,
          105,
          62,
          148,
          33,
          42,
          72,
          12,
          36,
          19,
          45,
          1,
          18,
          23,
          27,
          26,
          17,
          33,
          76,
          11,
          18,
          47,
          9,
          118,
          145,
          134,
          125,
          143,
          50,
          102,
          67,
          35,
          29,
          154,
          137,
          110,
          90,
          20,
          32,
          74,
          11,
          80,
          69,
          31,
          77,
          30,
          7,
          1,
          16,
          139,
          4,
          1,
          97,
          5,
          86,
          4,
          150,
          56,
          1,
          89,
          140,
          11,
          154,
          6,
          2,
          2,
          159,
          5,
          18,
          100,
          162,
          3,
          138,
          52,
          150,
          30,
          3,
          5,
          3,
          38,
          136,
          7,
          2,
          1,
          89,
          27,
          150,
          59,
          110,
          48,
          150,
          152,
          96,
          2,
          4,
          137,
          1,
          3,
          3,
          50,
          2,
          3,
          144,
          2,
          110,
          129,
          3,
          24,
          155,
          153,
          2,
          4,
          46,
          52,
          103,
          4,
          140,
          1,
          3,
          74,
          134,
          125,
          4,
          3,
          155,
          49,
          134,
          22,
          29,
          23,
          67,
          37,
          77,
          81,
          74,
          57,
          161,
          98,
          32,
          102,
          66,
          13,
          157,
          4,
          20,
          145,
          46,
          126,
          129,
          20,
          22,
          30,
          30,
          38,
          146,
          111,
          161,
          143,
          66,
          83,
          28,
          5,
          152,
          48,
          64,
          111,
          40,
          114,
          22,
          17,
          13,
          65,
          8,
          110,
          20,
          67,
          82,
          47,
          49,
          28,
          7,
          152,
          3,
          152,
          139,
          11,
          139,
          7,
          2,
          17,
          46,
          134,
          140,
          2,
          43,
          150,
          1,
          15,
          141,
          66,
          71,
          4,
          1,
          2,
          23,
          148,
          2,
          30,
          16,
          150,
          148,
          62,
          146,
          8,
          35,
          37,
          47,
          102,
          75,
          154,
          55,
          35,
          109,
          25,
          58,
          134,
          22,
          59,
          61,
          28,
          6,
          122,
          38,
          12,
          58,
          3,
          4,
          5,
          136,
          131,
          142,
          131,
          1,
          2,
          6,
          2,
          128,
          109,
          41,
          4,
          142,
          1,
          135,
          79,
          27,
          1,
          29,
          5,
          121,
          3,
          104,
          26,
          62,
          49,
          18,
          160,
          150,
          32,
          95,
          140,
          27,
          98,
          12,
          159,
          79,
          158,
          69,
          58,
          15,
          29,
          20,
          64,
          18,
          162,
          81,
          19,
          40,
          129,
          156,
          160,
          156,
          45,
          64,
          32,
          30,
          18,
          131,
          104,
          2,
          58,
          145,
          112,
          107,
          77,
          72,
          14,
          35,
          102,
          15,
          26,
          15,
          138,
          2,
          2,
          2,
          69,
          134,
          1,
          30,
          4,
          1,
          33,
          75,
          3,
          42,
          120,
          19,
          18,
          13,
          2,
          128,
          114,
          3,
          49,
          126,
          20,
          4,
          106,
          6,
          39,
          156,
          141,
          138,
          55,
          86,
          6,
          67,
          113,
          157,
          29,
          159,
          91,
          44,
          49,
          16,
          30,
          68,
          70,
          63,
          17,
          102,
          33,
          89,
          75,
          57,
          43,
          17,
          138,
          140,
          33,
          53,
          19,
          113,
          108,
          126,
          92,
          6,
          157,
          75,
          31,
          62,
          101,
          24,
          159,
          154,
          33,
          59,
          70,
          114,
          115,
          4,
          145,
          138,
          151,
          118,
          88,
          2,
          35,
          78,
          4,
          77,
          6,
          38,
          1,
          3,
          109,
          3,
          1,
          36,
          2,
          2,
          92,
          3,
          15,
          79,
          157,
          35,
          11,
          44,
          103,
          46,
          102,
          67,
          17,
          55,
          22,
          39,
          18,
          34,
          34,
          73,
          41,
          11,
          14,
          19,
          134,
          135,
          133,
          42,
          110,
          160,
          22,
          122,
          106,
          3,
          55,
          3,
          47,
          80,
          4,
          5,
          15,
          154,
          1,
          7,
          1,
          83,
          162,
          1,
          9,
          137,
          6,
          2,
          155,
          154,
          107,
          2,
          1,
          148,
          93,
          140,
          2,
          113,
          50,
          62,
          33,
          24,
          28,
          69,
          114,
          75,
          32,
          128,
          129,
          53,
          4,
          74,
          79,
          33,
          130,
          29,
          30,
          86,
          79,
          21,
          137,
          5,
          143,
          125,
          151,
          2,
          142,
          137,
          31,
          41,
          3,
          152,
          1,
          40,
          83,
          148,
          77,
          52,
          4,
          69,
          13,
          110,
          2,
          2,
          2,
          4,
          137,
          2,
          159,
          143,
          127,
          106,
          79,
          87,
          57,
          73,
          131,
          49,
          115,
          24,
          33,
          29,
          20,
          86,
          126,
          45,
          154,
          41,
          143,
          42,
          24,
          33,
          73,
          120,
          19,
          21,
          12,
          129,
          36,
          25,
          31,
          64,
          126,
          20,
          147,
          155,
          65,
          68,
          26,
          112,
          30,
          155,
          9,
          61,
          74,
          82,
          32,
          23,
          155,
          157,
          38,
          130,
          33,
          36,
          159,
          139,
          111,
          53,
          127,
          34,
          68,
          136,
          154,
          147,
          62,
          16,
          29,
          69,
          143,
          27,
          80,
          7,
          21,
          52,
          29,
          41,
          73,
          93,
          148,
          113,
          14,
          2,
          2,
          4,
          57,
          4,
          123,
          8,
          141,
          4,
          19,
          23,
          2,
          5,
          78,
          2,
          6,
          112,
          161,
          1,
          3,
          103,
          157,
          11,
          139,
          147,
          85,
          57,
          120,
          2,
          77,
          144,
          1,
          41,
          145,
          40,
          67,
          45,
          117,
          103,
          131,
          78,
          48,
          32,
          30,
          107,
          33,
          64,
          140,
          5,
          20,
          113,
          5,
          27,
          95,
          153,
          51,
          71,
          84,
          64,
          92,
          13,
          83,
          34,
          122,
          35,
          31,
          154,
          149,
          142,
          135,
          14,
          30,
          109,
          75,
          32,
          145,
          10,
          5,
          136,
          112,
          2,
          152,
          153,
          76,
          54,
          3,
          5,
          11,
          2,
          119,
          2,
          157,
          157,
          138,
          1,
          5,
          13,
          53,
          91,
          3,
          3,
          3,
          6,
          108,
          2,
          159,
          4,
          4,
          107,
          1,
          76,
          61,
          49,
          3,
          4,
          125,
          29,
          7,
          115,
          16,
          49,
          23,
          1,
          2,
          6,
          145,
          145,
          104,
          160,
          5,
          2,
          58,
          60,
          75,
          128,
          17,
          14,
          3,
          109,
          2,
          2,
          155,
          135,
          141,
          1,
          2,
          3,
          18,
          8,
          79,
          16,
          6,
          1,
          134,
          69
         ],
         "xaxis": "x",
         "y": [
          6200000,
          11000000,
          375000,
          375000,
          2150000,
          7750000,
          5750000,
          320000,
          9900000,
          301500,
          11000000,
          2200000,
          575000,
          2500000,
          375000,
          2025000,
          335000,
          3266667,
          335000,
          7833333,
          375000,
          9900000,
          8666667,
          375000,
          5450000,
          900000,
          1000000,
          1000000,
          4000000,
          325750,
          335000,
          2750000,
          300000,
          4000000,
          550000,
          7000000,
          345000,
          8250000,
          315000,
          2600000,
          16000000,
          315000,
          330000,
          7000000,
          800000,
          307500,
          322500,
          1000000,
          400000,
          8725000,
          500000,
          320000,
          325000,
          335000,
          1350000,
          500000,
          7000000,
          370000,
          525000,
          725000,
          4200000,
          312500,
          750000,
          3700000,
          312500,
          430000,
          377500,
          14625000,
          300000,
          12500000,
          15333333,
          300000,
          3000000,
          375000,
          6200000,
          625000,
          330000,
          950000,
          11666667,
          2250000,
          325000,
          850000,
          315000,
          335000,
          300000,
          340000,
          1500000,
          305000,
          2600000,
          3000000,
          1650000,
          385000,
          6000000,
          365000,
          365000,
          975000,
          2333333,
          500000,
          4000000,
          320000,
          3000000,
          310000,
          345000,
          1275000,
          7000000,
          800000,
          5000000,
          332500,
          490000,
          309000,
          8000000,
          500000,
          300000,
          3000000,
          3500000,
          11500000,
          750000,
          3425000,
          4500000,
          17500000,
          500000,
          3600000,
          3300000,
          825000,
          2100000,
          4500000,
          4587500,
          22500000,
          1000000,
          12000000,
          2500000,
          6900000,
          4350000,
          3175000,
          301000,
          700000,
          3500000,
          301000,
          340000,
          2300000,
          302000,
          318500,
          500000,
          6375000,
          8000000,
          6500000,
          4000000,
          500000,
          320000,
          14000000,
          850000,
          800000,
          340000,
          1725000,
          750000,
          6000000,
          350000,
          5000000,
          340000,
          800000,
          9500000,
          865000,
          1550000,
          2000000,
          6000000,
          300000,
          1400000,
          5750000,
          650000,
          2500000,
          3000000,
          1000000,
          6166667,
          750000,
          6000000,
          900000,
          1200000,
          305000,
          480000,
          300000,
          3150000,
          6000000,
          3983333,
          16000000,
          1750000,
          310000,
          8000000,
          300000,
          450000,
          340000,
          6800000,
          1000000,
          445000,
          320000,
          6000000,
          12500000,
          360000,
          2500000,
          1615000,
          500000,
          400000,
          700000,
          318000,
          2600000,
          2750000,
          300000,
          317000,
          303500,
          322000,
          345000,
          327250,
          650000,
          500000,
          300000,
          302500,
          3500000,
          316700,
          1100000,
          305200,
          352400,
          324100,
          322400,
          319400,
          750000,
          326800,
          315000,
          302200,
          325600,
          316300,
          1025000,
          450000,
          7250000,
          303200,
          304700,
          304500,
          324400,
          560000,
          1025000,
          2700000,
          302900,
          850000,
          6000000,
          925000,
          6000000,
          320000,
          1250000,
          2100000,
          1850000,
          650000,
          480000,
          600000,
          500000,
          320000,
          300000,
          550000,
          11600000,
          650000,
          340000,
          9000000,
          320000,
          317500,
          300000,
          700000,
          310000,
          600000,
          300000,
          321000,
          400000,
          12666667,
          700000,
          9000000,
          330000,
          302000,
          335000,
          2500000,
          8850000,
          305000,
          340000,
          3000000,
          316000,
          825000,
          332500,
          335000,
          1487500,
          600000,
          2800000,
          330000,
          305000,
          7000000,
          385000,
          300000,
          300000,
          3000000,
          775000,
          2750000,
          650000,
          7750000,
          1509375,
          3500000,
          305000,
          2500000,
          320000,
          4666667,
          400000,
          310000,
          3000000,
          600000,
          300000,
          1200000,
          2800000,
          400000,
          6500000,
          425000,
          300000,
          750000,
          3800000,
          3725000,
          325000,
          307500,
          2400000,
          840000,
          301000,
          353500,
          1000000,
          16000000,
          6500000,
          3000000,
          307500,
          315000,
          5000000,
          2800000,
          390000,
          380000,
          370000,
          325000,
          12500000,
          10000000,
          352000,
          307500,
          360000,
          600000,
          3400000,
          3250000,
          750000,
          5500000,
          395000,
          395000,
          1200000,
          350000,
          3250000,
          300000,
          9000000,
          372500,
          300000,
          320500,
          306500,
          304000,
          4000000,
          1100000,
          1000000,
          320000,
          317500,
          1250000,
          330000,
          346500,
          1750000,
          3250000,
          900000,
          550000,
          2150000,
          1000000,
          500000,
          2100000,
          11000000,
          300000,
          1500000,
          5000000,
          1730000,
          1300000,
          12400000,
          3565000,
          302500,
          5000000,
          301000,
          16666667,
          2975000,
          358500,
          4066667,
          1400000,
          1475000,
          9000000,
          5000000,
          975000,
          310000,
          305000,
          301000,
          1200000,
          6250000,
          303000,
          600000,
          300000,
          440000,
          305000,
          376000,
          3166667,
          450000,
          305000,
          310000,
          383333,
          700000,
          310000,
          1687500,
          425000,
          8737500,
          380000,
          400000,
          1500000,
          370000,
          314000,
          326000,
          400000,
          2425000,
          2367500,
          550000,
          750000,
          307500,
          550000,
          3725000,
          6500000,
          4350000,
          4500000,
          340000,
          395000,
          300000,
          2800000,
          440000,
          500000,
          305000,
          307500,
          10750000,
          330000,
          1500000,
          320000,
          820000,
          305000,
          1600000,
          340000,
          5500000,
          300000,
          2100000,
          317500,
          1500000,
          300000,
          300000,
          1950000,
          6000000,
          312500,
          310000,
          300000,
          315000,
          2587500,
          1300000,
          3000000,
          350000,
          450000,
          6000000,
          1250000,
          303000,
          350000,
          2337500,
          310000,
          312000,
          350000,
          300000,
          307500,
          7000000,
          375000,
          15714286,
          900000,
          750000,
          8500000,
          301400,
          302550,
          775000,
          12428571,
          3500000,
          1800000,
          500000,
          18600000,
          6000000,
          2000000,
          2700000,
          3100000,
          7000000,
          16000000,
          450000,
          9000000,
          3000000,
          10890000,
          22000000,
          13000000,
          1000000,
          9000000,
          1925000,
          12357143,
          700000,
          4333333,
          700000,
          6500000,
          1000000,
          800000,
          10765608,
          4166667,
          10295600,
          2000000,
          5033333,
          500000,
          317500,
          318000,
          16071429,
          307500,
          319500,
          537500,
          3000000,
          5000000,
          302500,
          3933333,
          311500,
          316000,
          715000,
          300000,
          1000000,
          965000,
          328000,
          5325000,
          300500,
          302500,
          2100000,
          11666667,
          301000,
          2400000,
          307000,
          2300000,
          5000000,
          550000,
          347500,
          5500000,
          600000,
          450000,
          3300000,
          357500,
          400000,
          3000000,
          4450000,
          2000000,
          1800000,
          1750000,
          301500,
          3000000,
          10600000,
          4400000,
          4250000,
          355000,
          3000000,
          550000,
          750000,
          1225000,
          7500000,
          300000,
          335000,
          11000000,
          9000000,
          362500,
          2600000,
          750000,
          3950000,
          875000,
          2425000,
          525000,
          12166667,
          8000000,
          4375000,
          575000,
          2750000,
          305000,
          6150000,
          2000000,
          350000,
          300000,
          303000,
          300000,
          342000,
          300000,
          315000,
          300000,
          8571429,
          335000,
          625000,
          800000,
          1150000,
          625000,
          321000,
          321000,
          303000,
          800000,
          750000,
          775000,
          311500,
          2575000,
          1150000,
          1850000,
          650000,
          340000,
          6975000,
          1925000,
          8833333,
          300500,
          2937500,
          2500000,
          6000000,
          925000,
          326000,
          3575000,
          2500000,
          8500000,
          305000,
          600000,
          750000,
          700000,
          1500000,
          350000,
          450000,
          300000,
          800000,
          342500,
          1250000,
          1750000,
          3150000,
          325000,
          8000000,
          1000000,
          1400000,
          1800000,
          6875000,
          4000000,
          750000,
          2750000,
          3916667,
          4250000,
          3000000,
          345000,
          1750000,
          1950000,
          7000000,
          550000,
          7700000,
          3000000,
          335000,
          2566667,
          6500000,
          302500,
          1000000,
          3500000,
          3500000,
          300000,
          6500000,
          18000000,
          662500,
          2433333,
          7200000,
          316000,
          1000000,
          850000,
          312000,
          360000,
          2125000,
          1000000,
          1100000,
          800000,
          342500,
          2750000,
          3500000,
          303000,
          3050000,
          6133333,
          7937500,
          1500000,
          1200000,
          334000,
          1500000,
          450000,
          308000,
          600000,
          320000,
          300000,
          5375000,
          9333333,
          900000,
          7750000,
          900000,
          1700000,
          650000,
          450000,
          300000,
          525000,
          4000000,
          300000,
          12500000,
          7000000,
          7250000,
          8625000,
          2000000,
          350000,
          1000000,
          1200000,
          1600000,
          8000000,
          300000,
          600000,
          1750000,
          320000,
          1500000,
          320000,
          320000,
          2500000,
          800000,
          650000,
          302500,
          350000,
          1700000,
          600000,
          320000,
          315000,
          2666667,
          1750000,
          7500000,
          650000,
          850000,
          750000,
          800000,
          1000000,
          312500,
          302500,
          325000,
          420000,
          500000,
          335000,
          550000,
          320000,
          2000000,
          750000,
          337500,
          1000000,
          1250000,
          300000,
          337500,
          500000,
          345000,
          1800000,
          300000,
          300000,
          14000000,
          1700000,
          3500000,
          303750,
          2500000,
          360000,
          5400000,
          2625000,
          1000000,
          450000,
          1700000,
          3600000,
          800000,
          302000,
          2300000,
          19700000,
          850000,
          305000,
          310000,
          750000,
          6000000,
          2200000,
          900000,
          322000,
          318000,
          315000,
          2000000,
          1900000,
          318000,
          900000,
          342000,
          300000,
          1600000,
          340000,
          870000,
          775000
         ],
         "yaxis": "y"
        }
       ],
       "layout": {
        "autosize": true,
        "barmode": "relative",
        "legend": {
         "tracegroupgap": 0
        },
        "margin": {
         "t": 60
        },
        "template": {
         "data": {
          "bar": [
           {
            "error_x": {
             "color": "#2a3f5f"
            },
            "error_y": {
             "color": "#2a3f5f"
            },
            "marker": {
             "line": {
              "color": "#E5ECF6",
              "width": 0.5
             },
             "pattern": {
              "fillmode": "overlay",
              "size": 10,
              "solidity": 0.2
             }
            },
            "type": "bar"
           }
          ],
          "barpolar": [
           {
            "marker": {
             "line": {
              "color": "#E5ECF6",
              "width": 0.5
             },
             "pattern": {
              "fillmode": "overlay",
              "size": 10,
              "solidity": 0.2
             }
            },
            "type": "barpolar"
           }
          ],
          "carpet": [
           {
            "aaxis": {
             "endlinecolor": "#2a3f5f",
             "gridcolor": "white",
             "linecolor": "white",
             "minorgridcolor": "white",
             "startlinecolor": "#2a3f5f"
            },
            "baxis": {
             "endlinecolor": "#2a3f5f",
             "gridcolor": "white",
             "linecolor": "white",
             "minorgridcolor": "white",
             "startlinecolor": "#2a3f5f"
            },
            "type": "carpet"
           }
          ],
          "choropleth": [
           {
            "colorbar": {
             "outlinewidth": 0,
             "ticks": ""
            },
            "type": "choropleth"
           }
          ],
          "contour": [
           {
            "colorbar": {
             "outlinewidth": 0,
             "ticks": ""
            },
            "colorscale": [
             [
              0,
              "#0d0887"
             ],
             [
              0.1111111111111111,
              "#46039f"
             ],
             [
              0.2222222222222222,
              "#7201a8"
             ],
             [
              0.3333333333333333,
              "#9c179e"
             ],
             [
              0.4444444444444444,
              "#bd3786"
             ],
             [
              0.5555555555555556,
              "#d8576b"
             ],
             [
              0.6666666666666666,
              "#ed7953"
             ],
             [
              0.7777777777777778,
              "#fb9f3a"
             ],
             [
              0.8888888888888888,
              "#fdca26"
             ],
             [
              1,
              "#f0f921"
             ]
            ],
            "type": "contour"
           }
          ],
          "contourcarpet": [
           {
            "colorbar": {
             "outlinewidth": 0,
             "ticks": ""
            },
            "type": "contourcarpet"
           }
          ],
          "heatmap": [
           {
            "colorbar": {
             "outlinewidth": 0,
             "ticks": ""
            },
            "colorscale": [
             [
              0,
              "#0d0887"
             ],
             [
              0.1111111111111111,
              "#46039f"
             ],
             [
              0.2222222222222222,
              "#7201a8"
             ],
             [
              0.3333333333333333,
              "#9c179e"
             ],
             [
              0.4444444444444444,
              "#bd3786"
             ],
             [
              0.5555555555555556,
              "#d8576b"
             ],
             [
              0.6666666666666666,
              "#ed7953"
             ],
             [
              0.7777777777777778,
              "#fb9f3a"
             ],
             [
              0.8888888888888888,
              "#fdca26"
             ],
             [
              1,
              "#f0f921"
             ]
            ],
            "type": "heatmap"
           }
          ],
          "heatmapgl": [
           {
            "colorbar": {
             "outlinewidth": 0,
             "ticks": ""
            },
            "colorscale": [
             [
              0,
              "#0d0887"
             ],
             [
              0.1111111111111111,
              "#46039f"
             ],
             [
              0.2222222222222222,
              "#7201a8"
             ],
             [
              0.3333333333333333,
              "#9c179e"
             ],
             [
              0.4444444444444444,
              "#bd3786"
             ],
             [
              0.5555555555555556,
              "#d8576b"
             ],
             [
              0.6666666666666666,
              "#ed7953"
             ],
             [
              0.7777777777777778,
              "#fb9f3a"
             ],
             [
              0.8888888888888888,
              "#fdca26"
             ],
             [
              1,
              "#f0f921"
             ]
            ],
            "type": "heatmapgl"
           }
          ],
          "histogram": [
           {
            "marker": {
             "pattern": {
              "fillmode": "overlay",
              "size": 10,
              "solidity": 0.2
             }
            },
            "type": "histogram"
           }
          ],
          "histogram2d": [
           {
            "colorbar": {
             "outlinewidth": 0,
             "ticks": ""
            },
            "colorscale": [
             [
              0,
              "#0d0887"
             ],
             [
              0.1111111111111111,
              "#46039f"
             ],
             [
              0.2222222222222222,
              "#7201a8"
             ],
             [
              0.3333333333333333,
              "#9c179e"
             ],
             [
              0.4444444444444444,
              "#bd3786"
             ],
             [
              0.5555555555555556,
              "#d8576b"
             ],
             [
              0.6666666666666666,
              "#ed7953"
             ],
             [
              0.7777777777777778,
              "#fb9f3a"
             ],
             [
              0.8888888888888888,
              "#fdca26"
             ],
             [
              1,
              "#f0f921"
             ]
            ],
            "type": "histogram2d"
           }
          ],
          "histogram2dcontour": [
           {
            "colorbar": {
             "outlinewidth": 0,
             "ticks": ""
            },
            "colorscale": [
             [
              0,
              "#0d0887"
             ],
             [
              0.1111111111111111,
              "#46039f"
             ],
             [
              0.2222222222222222,
              "#7201a8"
             ],
             [
              0.3333333333333333,
              "#9c179e"
             ],
             [
              0.4444444444444444,
              "#bd3786"
             ],
             [
              0.5555555555555556,
              "#d8576b"
             ],
             [
              0.6666666666666666,
              "#ed7953"
             ],
             [
              0.7777777777777778,
              "#fb9f3a"
             ],
             [
              0.8888888888888888,
              "#fdca26"
             ],
             [
              1,
              "#f0f921"
             ]
            ],
            "type": "histogram2dcontour"
           }
          ],
          "mesh3d": [
           {
            "colorbar": {
             "outlinewidth": 0,
             "ticks": ""
            },
            "type": "mesh3d"
           }
          ],
          "parcoords": [
           {
            "line": {
             "colorbar": {
              "outlinewidth": 0,
              "ticks": ""
             }
            },
            "type": "parcoords"
           }
          ],
          "pie": [
           {
            "automargin": true,
            "type": "pie"
           }
          ],
          "scatter": [
           {
            "fillpattern": {
             "fillmode": "overlay",
             "size": 10,
             "solidity": 0.2
            },
            "type": "scatter"
           }
          ],
          "scatter3d": [
           {
            "line": {
             "colorbar": {
              "outlinewidth": 0,
              "ticks": ""
             }
            },
            "marker": {
             "colorbar": {
              "outlinewidth": 0,
              "ticks": ""
             }
            },
            "type": "scatter3d"
           }
          ],
          "scattercarpet": [
           {
            "marker": {
             "colorbar": {
              "outlinewidth": 0,
              "ticks": ""
             }
            },
            "type": "scattercarpet"
           }
          ],
          "scattergeo": [
           {
            "marker": {
             "colorbar": {
              "outlinewidth": 0,
              "ticks": ""
             }
            },
            "type": "scattergeo"
           }
          ],
          "scattergl": [
           {
            "marker": {
             "colorbar": {
              "outlinewidth": 0,
              "ticks": ""
             }
            },
            "type": "scattergl"
           }
          ],
          "scattermapbox": [
           {
            "marker": {
             "colorbar": {
              "outlinewidth": 0,
              "ticks": ""
             }
            },
            "type": "scattermapbox"
           }
          ],
          "scatterpolar": [
           {
            "marker": {
             "colorbar": {
              "outlinewidth": 0,
              "ticks": ""
             }
            },
            "type": "scatterpolar"
           }
          ],
          "scatterpolargl": [
           {
            "marker": {
             "colorbar": {
              "outlinewidth": 0,
              "ticks": ""
             }
            },
            "type": "scatterpolargl"
           }
          ],
          "scatterternary": [
           {
            "marker": {
             "colorbar": {
              "outlinewidth": 0,
              "ticks": ""
             }
            },
            "type": "scatterternary"
           }
          ],
          "surface": [
           {
            "colorbar": {
             "outlinewidth": 0,
             "ticks": ""
            },
            "colorscale": [
             [
              0,
              "#0d0887"
             ],
             [
              0.1111111111111111,
              "#46039f"
             ],
             [
              0.2222222222222222,
              "#7201a8"
             ],
             [
              0.3333333333333333,
              "#9c179e"
             ],
             [
              0.4444444444444444,
              "#bd3786"
             ],
             [
              0.5555555555555556,
              "#d8576b"
             ],
             [
              0.6666666666666666,
              "#ed7953"
             ],
             [
              0.7777777777777778,
              "#fb9f3a"
             ],
             [
              0.8888888888888888,
              "#fdca26"
             ],
             [
              1,
              "#f0f921"
             ]
            ],
            "type": "surface"
           }
          ],
          "table": [
           {
            "cells": {
             "fill": {
              "color": "#EBF0F8"
             },
             "line": {
              "color": "white"
             }
            },
            "header": {
             "fill": {
              "color": "#C8D4E3"
             },
             "line": {
              "color": "white"
             }
            },
            "type": "table"
           }
          ]
         },
         "layout": {
          "annotationdefaults": {
           "arrowcolor": "#2a3f5f",
           "arrowhead": 0,
           "arrowwidth": 1
          },
          "autotypenumbers": "strict",
          "coloraxis": {
           "colorbar": {
            "outlinewidth": 0,
            "ticks": ""
           }
          },
          "colorscale": {
           "diverging": [
            [
             0,
             "#8e0152"
            ],
            [
             0.1,
             "#c51b7d"
            ],
            [
             0.2,
             "#de77ae"
            ],
            [
             0.3,
             "#f1b6da"
            ],
            [
             0.4,
             "#fde0ef"
            ],
            [
             0.5,
             "#f7f7f7"
            ],
            [
             0.6,
             "#e6f5d0"
            ],
            [
             0.7,
             "#b8e186"
            ],
            [
             0.8,
             "#7fbc41"
            ],
            [
             0.9,
             "#4d9221"
            ],
            [
             1,
             "#276419"
            ]
           ],
           "sequential": [
            [
             0,
             "#0d0887"
            ],
            [
             0.1111111111111111,
             "#46039f"
            ],
            [
             0.2222222222222222,
             "#7201a8"
            ],
            [
             0.3333333333333333,
             "#9c179e"
            ],
            [
             0.4444444444444444,
             "#bd3786"
            ],
            [
             0.5555555555555556,
             "#d8576b"
            ],
            [
             0.6666666666666666,
             "#ed7953"
            ],
            [
             0.7777777777777778,
             "#fb9f3a"
            ],
            [
             0.8888888888888888,
             "#fdca26"
            ],
            [
             1,
             "#f0f921"
            ]
           ],
           "sequentialminus": [
            [
             0,
             "#0d0887"
            ],
            [
             0.1111111111111111,
             "#46039f"
            ],
            [
             0.2222222222222222,
             "#7201a8"
            ],
            [
             0.3333333333333333,
             "#9c179e"
            ],
            [
             0.4444444444444444,
             "#bd3786"
            ],
            [
             0.5555555555555556,
             "#d8576b"
            ],
            [
             0.6666666666666666,
             "#ed7953"
            ],
            [
             0.7777777777777778,
             "#fb9f3a"
            ],
            [
             0.8888888888888888,
             "#fdca26"
            ],
            [
             1,
             "#f0f921"
            ]
           ]
          },
          "colorway": [
           "#636efa",
           "#EF553B",
           "#00cc96",
           "#ab63fa",
           "#FFA15A",
           "#19d3f3",
           "#FF6692",
           "#B6E880",
           "#FF97FF",
           "#FECB52"
          ],
          "font": {
           "color": "#2a3f5f"
          },
          "geo": {
           "bgcolor": "white",
           "lakecolor": "white",
           "landcolor": "#E5ECF6",
           "showlakes": true,
           "showland": true,
           "subunitcolor": "white"
          },
          "hoverlabel": {
           "align": "left"
          },
          "hovermode": "closest",
          "mapbox": {
           "style": "light"
          },
          "paper_bgcolor": "white",
          "plot_bgcolor": "#E5ECF6",
          "polar": {
           "angularaxis": {
            "gridcolor": "white",
            "linecolor": "white",
            "ticks": ""
           },
           "bgcolor": "#E5ECF6",
           "radialaxis": {
            "gridcolor": "white",
            "linecolor": "white",
            "ticks": ""
           }
          },
          "scene": {
           "xaxis": {
            "backgroundcolor": "#E5ECF6",
            "gridcolor": "white",
            "gridwidth": 2,
            "linecolor": "white",
            "showbackground": true,
            "ticks": "",
            "zerolinecolor": "white"
           },
           "yaxis": {
            "backgroundcolor": "#E5ECF6",
            "gridcolor": "white",
            "gridwidth": 2,
            "linecolor": "white",
            "showbackground": true,
            "ticks": "",
            "zerolinecolor": "white"
           },
           "zaxis": {
            "backgroundcolor": "#E5ECF6",
            "gridcolor": "white",
            "gridwidth": 2,
            "linecolor": "white",
            "showbackground": true,
            "ticks": "",
            "zerolinecolor": "white"
           }
          },
          "shapedefaults": {
           "line": {
            "color": "#2a3f5f"
           }
          },
          "ternary": {
           "aaxis": {
            "gridcolor": "white",
            "linecolor": "white",
            "ticks": ""
           },
           "baxis": {
            "gridcolor": "white",
            "linecolor": "white",
            "ticks": ""
           },
           "bgcolor": "#E5ECF6",
           "caxis": {
            "gridcolor": "white",
            "linecolor": "white",
            "ticks": ""
           }
          },
          "title": {
           "x": 0.05
          },
          "xaxis": {
           "automargin": true,
           "gridcolor": "white",
           "linecolor": "white",
           "ticks": "",
           "title": {
            "standoff": 15
           },
           "zerolinecolor": "white",
           "zerolinewidth": 2
          },
          "yaxis": {
           "automargin": true,
           "gridcolor": "white",
           "linecolor": "white",
           "ticks": "",
           "title": {
            "standoff": 15
           },
           "zerolinecolor": "white",
           "zerolinewidth": 2
          }
         }
        },
        "xaxis": {
         "anchor": "y",
         "autorange": true,
         "domain": [
          0,
          1
         ],
         "range": [
          -0.5,
          169.5
         ],
         "title": {
          "text": "gamesplayed"
         },
         "type": "linear"
        },
        "yaxis": {
         "anchor": "x",
         "autorange": true,
         "domain": [
          0,
          1
         ],
         "range": [
          0,
          353752912.6315789
         ],
         "title": {
          "text": "sum of salary"
         },
         "type": "linear"
        }
       }
      },
      "image/png": "[encoded data removed]",
      "text/html": [
       "<div>                            <div id=\"304fe000-70ee-4233-a5f4-0cc101904c69\" class=\"plotly-graph-div\" style=\"height:525px; width:100%;\"></div>            <script type=\"text/javascript\">                require([\"plotly\"], function(Plotly) {                    window.PLOTLYENV=window.PLOTLYENV || {};                                    if (document.getElementById(\"304fe000-70ee-4233-a5f4-0cc101904c69\")) {                    Plotly.newPlot(                        \"304fe000-70ee-4233-a5f4-0cc101904c69\",                        [{\"alignmentgroup\":\"True\",\"bingroup\":\"x\",\"histfunc\":\"sum\",\"hovertemplate\":\"gamesplayed=%{x}<br>sum of salary=%{y}<extra></extra>\",\"legendgroup\":\"\",\"marker\":{\"color\":\"#636efa\",\"pattern\":{\"shape\":\"\"}},\"name\":\"\",\"offsetgroup\":\"\",\"orientation\":\"v\",\"showlegend\":false,\"x\":[112,3,108,5,142,125,1,148,58,5,156,148,46,144,2,97,73,1,46,3,3,60,1,3,3,18,38,79,141,69,154,20,11,36,7,104,27,105,62,148,33,42,72,12,36,19,45,1,18,23,27,26,17,33,76,11,18,47,9,118,145,134,125,143,50,102,67,35,29,154,137,110,90,20,32,74,11,80,69,31,77,30,7,1,16,139,4,1,97,5,86,4,150,56,1,89,140,11,154,6,2,2,159,5,18,100,162,3,138,52,150,30,3,5,3,38,136,7,2,1,89,27,150,59,110,48,150,152,96,2,4,137,1,3,3,50,2,3,144,2,110,129,3,24,155,153,2,4,46,52,103,4,140,1,3,74,134,125,4,3,155,49,134,22,29,23,67,37,77,81,74,57,161,98,32,102,66,13,157,4,20,145,46,126,129,20,22,30,30,38,146,111,161,143,66,83,28,5,152,48,64,111,40,114,22,17,13,65,8,110,20,67,82,47,49,28,7,152,3,152,139,11,139,7,2,17,46,134,140,2,43,150,1,15,141,66,71,4,1,2,23,148,2,30,16,150,148,62,146,8,35,37,47,102,75,154,55,35,109,25,58,134,22,59,61,28,6,122,38,12,58,3,4,5,136,131,142,131,1,2,6,2,128,109,41,4,142,1,135,79,27,1,29,5,121,3,104,26,62,49,18,160,150,32,95,140,27,98,12,159,79,158,69,58,15,29,20,64,18,162,81,19,40,129,156,160,156,45,64,32,30,18,131,104,2,58,145,112,107,77,72,14,35,102,15,26,15,138,2,2,2,69,134,1,30,4,1,33,75,3,42,120,19,18,13,2,128,114,3,49,126,20,4,106,6,39,156,141,138,55,86,6,67,113,157,29,159,91,44,49,16,30,68,70,63,17,102,33,89,75,57,43,17,138,140,33,53,19,113,108,126,92,6,157,75,31,62,101,24,159,154,33,59,70,114,115,4,145,138,151,118,88,2,35,78,4,77,6,38,1,3,109,3,1,36,2,2,92,3,15,79,157,35,11,44,103,46,102,67,17,55,22,39,18,34,34,73,41,11,14,19,134,135,133,42,110,160,22,122,106,3,55,3,47,80,4,5,15,154,1,7,1,83,162,1,9,137,6,2,155,154,107,2,1,148,93,140,2,113,50,62,33,24,28,69,114,75,32,128,129,53,4,74,79,33,130,29,30,86,79,21,137,5,143,125,151,2,142,137,31,41,3,152,1,40,83,148,77,52,4,69,13,110,2,2,2,4,137,2,159,143,127,106,79,87,57,73,131,49,115,24,33,29,20,86,126,45,154,41,143,42,24,33,73,120,19,21,12,129,36,25,31,64,126,20,147,155,65,68,26,112,30,155,9,61,74,82,32,23,155,157,38,130,33,36,159,139,111,53,127,34,68,136,154,147,62,16,29,69,143,27,80,7,21,52,29,41,73,93,148,113,14,2,2,4,57,4,123,8,141,4,19,23,2,5,78,2,6,112,161,1,3,103,157,11,139,147,85,57,120,2,77,144,1,41,145,40,67,45,117,103,131,78,48,32,30,107,33,64,140,5,20,113,5,27,95,153,51,71,84,64,92,13,83,34,122,35,31,154,149,142,135,14,30,109,75,32,145,10,5,136,112,2,152,153,76,54,3,5,11,2,119,2,157,157,138,1,5,13,53,91,3,3,3,6,108,2,159,4,4,107,1,76,61,49,3,4,125,29,7,115,16,49,23,1,2,6,145,145,104,160,5,2,58,60,75,128,17,14,3,109,2,2,155,135,141,1,2,3,18,8,79,16,6,1,134,69],\"xaxis\":\"x\",\"y\":[6200000,11000000,375000,375000,2150000,7750000,5750000,320000,9900000,301500,11000000,2200000,575000,2500000,375000,2025000,335000,3266667,335000,7833333,375000,9900000,8666667,375000,5450000,900000,1000000,1000000,4000000,325750,335000,2750000,300000,4000000,550000,7000000,345000,8250000,315000,2600000,16000000,315000,330000,7000000,800000,307500,322500,1000000,400000,8725000,500000,320000,325000,335000,1350000,500000,7000000,370000,525000,725000,4200000,312500,750000,3700000,312500,430000,377500,14625000,300000,12500000,15333333,300000,3000000,375000,6200000,625000,330000,950000,11666667,2250000,325000,850000,315000,335000,300000,340000,1500000,305000,2600000,3000000,1650000,385000,6000000,365000,365000,975000,2333333,500000,4000000,320000,3000000,310000,345000,1275000,7000000,800000,5000000,332500,490000,309000,8000000,500000,300000,3000000,3500000,11500000,750000,3425000,4500000,17500000,500000,3600000,3300000,825000,2100000,4500000,4587500,22500000,1000000,12000000,2500000,6900000,4350000,3175000,301000,700000,3500000,301000,340000,2300000,302000,318500,500000,6375000,8000000,6500000,4000000,500000,320000,14000000,850000,800000,340000,1725000,750000,6000000,350000,5000000,340000,800000,9500000,865000,1550000,2000000,6000000,300000,1400000,5750000,650000,2500000,3000000,1000000,6166667,750000,6000000,900000,1200000,305000,480000,300000,3150000,6000000,3983333,16000000,1750000,310000,8000000,300000,450000,340000,6800000,1000000,445000,320000,6000000,12500000,360000,2500000,1615000,500000,400000,700000,318000,2600000,2750000,300000,317000,303500,322000,345000,327250,650000,500000,300000,302500,3500000,316700,1100000,305200,352400,324100,322400,319400,750000,326800,315000,302200,325600,316300,1025000,450000,7250000,303200,304700,304500,324400,560000,1025000,2700000,302900,850000,6000000,925000,6000000,320000,1250000,2100000,1850000,650000,480000,600000,500000,320000,300000,550000,11600000,650000,340000,9000000,320000,317500,300000,700000,310000,600000,300000,321000,400000,12666667,700000,9000000,330000,302000,335000,2500000,8850000,305000,340000,3000000,316000,825000,332500,335000,1487500,600000,2800000,330000,305000,7000000,385000,300000,300000,3000000,775000,2750000,650000,7750000,1509375,3500000,305000,2500000,320000,4666667,400000,310000,3000000,600000,300000,1200000,2800000,400000,6500000,425000,300000,750000,3800000,3725000,325000,307500,2400000,840000,301000,353500,1000000,16000000,6500000,3000000,307500,315000,5000000,2800000,390000,380000,370000,325000,12500000,10000000,352000,307500,360000,600000,3400000,3250000,750000,5500000,395000,395000,1200000,350000,3250000,300000,9000000,372500,300000,320500,306500,304000,4000000,1100000,1000000,320000,317500,1250000,330000,346500,1750000,3250000,900000,550000,2150000,1000000,500000,2100000,11000000,300000,1500000,5000000,1730000,1300000,12400000,3565000,302500,5000000,301000,16666667,2975000,358500,4066667,1400000,1475000,9000000,5000000,975000,310000,305000,301000,1200000,6250000,303000,600000,300000,440000,305000,376000,3166667,450000,305000,310000,383333,700000,310000,1687500,425000,8737500,380000,400000,1500000,370000,314000,326000,400000,2425000,2367500,550000,750000,307500,550000,3725000,6500000,4350000,4500000,340000,395000,300000,2800000,440000,500000,305000,307500,10750000,330000,1500000,320000,820000,305000,1600000,340000,5500000,300000,2100000,317500,1500000,300000,300000,1950000,6000000,312500,310000,300000,315000,2587500,1300000,3000000,350000,450000,6000000,1250000,303000,350000,2337500,310000,312000,350000,300000,307500,7000000,375000,15714286,900000,750000,8500000,301400,302550,775000,12428571,3500000,1800000,500000,18600000,6000000,2000000,2700000,3100000,7000000,16000000,450000,9000000,3000000,10890000,22000000,13000000,1000000,9000000,1925000,12357143,700000,4333333,700000,6500000,1000000,800000,10765608,4166667,10295600,2000000,5033333,500000,317500,318000,16071429,307500,319500,537500,3000000,5000000,302500,3933333,311500,316000,715000,300000,1000000,965000,328000,5325000,300500,302500,2100000,11666667,301000,2400000,307000,2300000,5000000,550000,347500,5500000,600000,450000,3300000,357500,400000,3000000,4450000,2000000,1800000,1750000,301500,3000000,10600000,4400000,4250000,355000,3000000,550000,750000,1225000,7500000,300000,335000,11000000,9000000,362500,2600000,750000,3950000,875000,2425000,525000,12166667,8000000,4375000,575000,2750000,305000,6150000,2000000,350000,300000,303000,300000,342000,300000,315000,300000,8571429,335000,625000,800000,1150000,625000,321000,321000,303000,800000,750000,775000,311500,2575000,1150000,1850000,650000,340000,6975000,1925000,8833333,300500,2937500,2500000,6000000,925000,326000,3575000,2500000,8500000,305000,600000,750000,700000,1500000,350000,450000,300000,800000,342500,1250000,1750000,3150000,325000,8000000,1000000,1400000,1800000,6875000,4000000,750000,2750000,3916667,4250000,3000000,345000,1750000,1950000,7000000,550000,7700000,3000000,335000,2566667,6500000,302500,1000000,3500000,3500000,300000,6500000,18000000,662500,2433333,7200000,316000,1000000,850000,312000,360000,2125000,1000000,1100000,800000,342500,2750000,3500000,303000,3050000,6133333,7937500,1500000,1200000,334000,1500000,450000,308000,600000,320000,300000,5375000,9333333,900000,7750000,900000,1700000,650000,450000,300000,525000,4000000,300000,12500000,7000000,7250000,8625000,2000000,350000,1000000,1200000,1600000,8000000,300000,600000,1750000,320000,1500000,320000,320000,2500000,800000,650000,302500,350000,1700000,600000,320000,315000,2666667,1750000,7500000,650000,850000,750000,800000,1000000,312500,302500,325000,420000,500000,335000,550000,320000,2000000,750000,337500,1000000,1250000,300000,337500,500000,345000,1800000,300000,300000,14000000,1700000,3500000,303750,2500000,360000,5400000,2625000,1000000,450000,1700000,3600000,800000,302000,2300000,19700000,850000,305000,310000,750000,6000000,2200000,900000,322000,318000,315000,2000000,1900000,318000,900000,342000,300000,1600000,340000,870000,775000],\"yaxis\":\"y\",\"type\":\"histogram\"}],                        {\"template\":{\"data\":{\"histogram2dcontour\":[{\"type\":\"histogram2dcontour\",\"colorbar\":{\"outlinewidth\":0,\"ticks\":\"\"},\"colorscale\":[[0.0,\"#0d0887\"],[0.1111111111111111,\"#46039f\"],[0.2222222222222222,\"#7201a8\"],[0.3333333333333333,\"#9c179e\"],[0.4444444444444444,\"#bd3786\"],[0.5555555555555556,\"#d8576b\"],[0.6666666666666666,\"#ed7953\"],[0.7777777777777778,\"#fb9f3a\"],[0.8888888888888888,\"#fdca26\"],[1.0,\"#f0f921\"]]}],\"choropleth\":[{\"type\":\"choropleth\",\"colorbar\":{\"outlinewidth\":0,\"ticks\":\"\"}}],\"histogram2d\":[{\"type\":\"histogram2d\",\"colorbar\":{\"outlinewidth\":0,\"ticks\":\"\"},\"colorscale\":[[0.0,\"#0d0887\"],[0.1111111111111111,\"#46039f\"],[0.2222222222222222,\"#7201a8\"],[0.3333333333333333,\"#9c179e\"],[0.4444444444444444,\"#bd3786\"],[0.5555555555555556,\"#d8576b\"],[0.6666666666666666,\"#ed7953\"],[0.7777777777777778,\"#fb9f3a\"],[0.8888888888888888,\"#fdca26\"],[1.0,\"#f0f921\"]]}],\"heatmap\":[{\"type\":\"heatmap\",\"colorbar\":{\"outlinewidth\":0,\"ticks\":\"\"},\"colorscale\":[[0.0,\"#0d0887\"],[0.1111111111111111,\"#46039f\"],[0.2222222222222222,\"#7201a8\"],[0.3333333333333333,\"#9c179e\"],[0.4444444444444444,\"#bd3786\"],[0.5555555555555556,\"#d8576b\"],[0.6666666666666666,\"#ed7953\"],[0.7777777777777778,\"#fb9f3a\"],[0.8888888888888888,\"#fdca26\"],[1.0,\"#f0f921\"]]}],\"heatmapgl\":[{\"type\":\"heatmapgl\",\"colorbar\":{\"outlinewidth\":0,\"ticks\":\"\"},\"colorscale\":[[0.0,\"#0d0887\"],[0.1111111111111111,\"#46039f\"],[0.2222222222222222,\"#7201a8\"],[0.3333333333333333,\"#9c179e\"],[0.4444444444444444,\"#bd3786\"],[0.5555555555555556,\"#d8576b\"],[0.6666666666666666,\"#ed7953\"],[0.7777777777777778,\"#fb9f3a\"],[0.8888888888888888,\"#fdca26\"],[1.0,\"#f0f921\"]]}],\"contourcarpet\":[{\"type\":\"contourcarpet\",\"colorbar\":{\"outlinewidth\":0,\"ticks\":\"\"}}],\"contour\":[{\"type\":\"contour\",\"colorbar\":{\"outlinewidth\":0,\"ticks\":\"\"},\"colorscale\":[[0.0,\"#0d0887\"],[0.1111111111111111,\"#46039f\"],[0.2222222222222222,\"#7201a8\"],[0.3333333333333333,\"#9c179e\"],[0.4444444444444444,\"#bd3786\"],[0.5555555555555556,\"#d8576b\"],[0.6666666666666666,\"#ed7953\"],[0.7777777777777778,\"#fb9f3a\"],[0.8888888888888888,\"#fdca26\"],[1.0,\"#f0f921\"]]}],\"surface\":[{\"type\":\"surface\",\"colorbar\":{\"outlinewidth\":0,\"ticks\":\"\"},\"colorscale\":[[0.0,\"#0d0887\"],[0.1111111111111111,\"#46039f\"],[0.2222222222222222,\"#7201a8\"],[0.3333333333333333,\"#9c179e\"],[0.4444444444444444,\"#bd3786\"],[0.5555555555555556,\"#d8576b\"],[0.6666666666666666,\"#ed7953\"],[0.7777777777777778,\"#fb9f3a\"],[0.8888888888888888,\"#fdca26\"],[1.0,\"#f0f921\"]]}],\"mesh3d\":[{\"type\":\"mesh3d\",\"colorbar\":{\"outlinewidth\":0,\"ticks\":\"\"}}],\"scatter\":[{\"fillpattern\":{\"fillmode\":\"overlay\",\"size\":10,\"solidity\":0.2},\"type\":\"scatter\"}],\"parcoords\":[{\"type\":\"parcoords\",\"line\":{\"colorbar\":{\"outlinewidth\":0,\"ticks\":\"\"}}}],\"scatterpolargl\":[{\"type\":\"scatterpolargl\",\"marker\":{\"colorbar\":{\"outlinewidth\":0,\"ticks\":\"\"}}}],\"bar\":[{\"error_x\":{\"color\":\"#2a3f5f\"},\"error_y\":{\"color\":\"#2a3f5f\"},\"marker\":{\"line\":{\"color\":\"#E5ECF6\",\"width\":0.5},\"pattern\":{\"fillmode\":\"overlay\",\"size\":10,\"solidity\":0.2}},\"type\":\"bar\"}],\"scattergeo\":[{\"type\":\"scattergeo\",\"marker\":{\"colorbar\":{\"outlinewidth\":0,\"ticks\":\"\"}}}],\"scatterpolar\":[{\"type\":\"scatterpolar\",\"marker\":{\"colorbar\":{\"outlinewidth\":0,\"ticks\":\"\"}}}],\"histogram\":[{\"marker\":{\"pattern\":{\"fillmode\":\"overlay\",\"size\":10,\"solidity\":0.2}},\"type\":\"histogram\"}],\"scattergl\":[{\"type\":\"scattergl\",\"marker\":{\"colorbar\":{\"outlinewidth\":0,\"ticks\":\"\"}}}],\"scatter3d\":[{\"type\":\"scatter3d\",\"line\":{\"colorbar\":{\"outlinewidth\":0,\"ticks\":\"\"}},\"marker\":{\"colorbar\":{\"outlinewidth\":0,\"ticks\":\"\"}}}],\"scattermapbox\":[{\"type\":\"scattermapbox\",\"marker\":{\"colorbar\":{\"outlinewidth\":0,\"ticks\":\"\"}}}],\"scatterternary\":[{\"type\":\"scatterternary\",\"marker\":{\"colorbar\":{\"outlinewidth\":0,\"ticks\":\"\"}}}],\"scattercarpet\":[{\"type\":\"scattercarpet\",\"marker\":{\"colorbar\":{\"outlinewidth\":0,\"ticks\":\"\"}}}],\"carpet\":[{\"aaxis\":{\"endlinecolor\":\"#2a3f5f\",\"gridcolor\":\"white\",\"linecolor\":\"white\",\"minorgridcolor\":\"white\",\"startlinecolor\":\"#2a3f5f\"},\"baxis\":{\"endlinecolor\":\"#2a3f5f\",\"gridcolor\":\"white\",\"linecolor\":\"white\",\"minorgridcolor\":\"white\",\"startlinecolor\":\"#2a3f5f\"},\"type\":\"carpet\"}],\"table\":[{\"cells\":{\"fill\":{\"color\":\"#EBF0F8\"},\"line\":{\"color\":\"white\"}},\"header\":{\"fill\":{\"color\":\"#C8D4E3\"},\"line\":{\"color\":\"white\"}},\"type\":\"table\"}],\"barpolar\":[{\"marker\":{\"line\":{\"color\":\"#E5ECF6\",\"width\":0.5},\"pattern\":{\"fillmode\":\"overlay\",\"size\":10,\"solidity\":0.2}},\"type\":\"barpolar\"}],\"pie\":[{\"automargin\":true,\"type\":\"pie\"}]},\"layout\":{\"autotypenumbers\":\"strict\",\"colorway\":[\"#636efa\",\"#EF553B\",\"#00cc96\",\"#ab63fa\",\"#FFA15A\",\"#19d3f3\",\"#FF6692\",\"#B6E880\",\"#FF97FF\",\"#FECB52\"],\"font\":{\"color\":\"#2a3f5f\"},\"hovermode\":\"closest\",\"hoverlabel\":{\"align\":\"left\"},\"paper_bgcolor\":\"white\",\"plot_bgcolor\":\"#E5ECF6\",\"polar\":{\"bgcolor\":\"#E5ECF6\",\"angularaxis\":{\"gridcolor\":\"white\",\"linecolor\":\"white\",\"ticks\":\"\"},\"radialaxis\":{\"gridcolor\":\"white\",\"linecolor\":\"white\",\"ticks\":\"\"}},\"ternary\":{\"bgcolor\":\"#E5ECF6\",\"aaxis\":{\"gridcolor\":\"white\",\"linecolor\":\"white\",\"ticks\":\"\"},\"baxis\":{\"gridcolor\":\"white\",\"linecolor\":\"white\",\"ticks\":\"\"},\"caxis\":{\"gridcolor\":\"white\",\"linecolor\":\"white\",\"ticks\":\"\"}},\"coloraxis\":{\"colorbar\":{\"outlinewidth\":0,\"ticks\":\"\"}},\"colorscale\":{\"sequential\":[[0.0,\"#0d0887\"],[0.1111111111111111,\"#46039f\"],[0.2222222222222222,\"#7201a8\"],[0.3333333333333333,\"#9c179e\"],[0.4444444444444444,\"#bd3786\"],[0.5555555555555556,\"#d8576b\"],[0.6666666666666666,\"#ed7953\"],[0.7777777777777778,\"#fb9f3a\"],[0.8888888888888888,\"#fdca26\"],[1.0,\"#f0f921\"]],\"sequentialminus\":[[0.0,\"#0d0887\"],[0.1111111111111111,\"#46039f\"],[0.2222222222222222,\"#7201a8\"],[0.3333333333333333,\"#9c179e\"],[0.4444444444444444,\"#bd3786\"],[0.5555555555555556,\"#d8576b\"],[0.6666666666666666,\"#ed7953\"],[0.7777777777777778,\"#fb9f3a\"],[0.8888888888888888,\"#fdca26\"],[1.0,\"#f0f921\"]],\"diverging\":[[0,\"#8e0152\"],[0.1,\"#c51b7d\"],[0.2,\"#de77ae\"],[0.3,\"#f1b6da\"],[0.4,\"#fde0ef\"],[0.5,\"#f7f7f7\"],[0.6,\"#e6f5d0\"],[0.7,\"#b8e186\"],[0.8,\"#7fbc41\"],[0.9,\"#4d9221\"],[1,\"#276419\"]]},\"xaxis\":{\"gridcolor\":\"white\",\"linecolor\":\"white\",\"ticks\":\"\",\"title\":{\"standoff\":15},\"zerolinecolor\":\"white\",\"automargin\":true,\"zerolinewidth\":2},\"yaxis\":{\"gridcolor\":\"white\",\"linecolor\":\"white\",\"ticks\":\"\",\"title\":{\"standoff\":15},\"zerolinecolor\":\"white\",\"automargin\":true,\"zerolinewidth\":2},\"scene\":{\"xaxis\":{\"backgroundcolor\":\"#E5ECF6\",\"gridcolor\":\"white\",\"linecolor\":\"white\",\"showbackground\":true,\"ticks\":\"\",\"zerolinecolor\":\"white\",\"gridwidth\":2},\"yaxis\":{\"backgroundcolor\":\"#E5ECF6\",\"gridcolor\":\"white\",\"linecolor\":\"white\",\"showbackground\":true,\"ticks\":\"\",\"zerolinecolor\":\"white\",\"gridwidth\":2},\"zaxis\":{\"backgroundcolor\":\"#E5ECF6\",\"gridcolor\":\"white\",\"linecolor\":\"white\",\"showbackground\":true,\"ticks\":\"\",\"zerolinecolor\":\"white\",\"gridwidth\":2}},\"shapedefaults\":{\"line\":{\"color\":\"#2a3f5f\"}},\"annotationdefaults\":{\"arrowcolor\":\"#2a3f5f\",\"arrowhead\":0,\"arrowwidth\":1},\"geo\":{\"bgcolor\":\"white\",\"landcolor\":\"#E5ECF6\",\"subunitcolor\":\"white\",\"showland\":true,\"showlakes\":true,\"lakecolor\":\"white\"},\"title\":{\"x\":0.05},\"mapbox\":{\"style\":\"light\"}}},\"xaxis\":{\"anchor\":\"y\",\"domain\":[0.0,1.0],\"title\":{\"text\":\"gamesplayed\"}},\"yaxis\":{\"anchor\":\"x\",\"domain\":[0.0,1.0],\"title\":{\"text\":\"sum of salary\"}},\"legend\":{\"tracegroupgap\":0},\"margin\":{\"t\":60},\"barmode\":\"relative\"},                        {\"responsive\": true}                    ).then(function(){\n",
       "                            \n",
       "var gd = document.getElementById('304fe000-70ee-4233-a5f4-0cc101904c69');\n",
       "var x = new MutationObserver(function (mutations, observer) {{\n",
       "        var display = window.getComputedStyle(gd).display;\n",
       "        if (!display || display === 'none') {{\n",
       "            console.log([gd, 'removed!']);\n",
       "            Plotly.purge(gd);\n",
       "            observer.disconnect();\n",
       "        }}\n",
       "}});\n",
       "\n",
       "// Listen for the removal of the full notebook cells\n",
       "var notebookContainer = gd.closest('#notebook-container');\n",
       "if (notebookContainer) {{\n",
       "    x.observe(notebookContainer, {childList: true});\n",
       "}}\n",
       "\n",
       "// Listen for the clearing of the current output cell\n",
       "var outputEl = gd.closest('.output');\n",
       "if (outputEl) {{\n",
       "    x.observe(outputEl, {childList: true});\n",
       "}}\n",
       "\n",
       "                        })                };                });            </script>        </div>"
      ]
     },
     "metadata": {},
     "output_type": "display_data"
    }
   ],
   "source": [
    "px.histogram(bsalary,y='salary',x='gamesplayed')"
   ]
  },
  {
   "cell_type": "code",
   "execution_count": null,
   "id": "c749cd83-bf48-46a8-9f70-1c4ce4bf04ce",
   "metadata": {},
   "outputs": [],
   "source": []
  },
  {
   "cell_type": "code",
   "execution_count": null,
   "id": "1812b7aa-ab72-4547-b749-1d733c832bb6",
   "metadata": {},
   "outputs": [],
   "source": []
  },
  {
   "cell_type": "code",
   "execution_count": null,
   "id": "eda09ffe-a095-4c80-ad4a-551c34ad7e64",
   "metadata": {},
   "outputs": [],
   "source": []
  }
 ],
 "metadata": {
  "kernelspec": {
   "display_name": "Python 3 (ipykernel)",
   "language": "python",
   "name": "python3"
  },
  "language_info": {
   "codemirror_mode": {
    "name": "ipython",
    "version": 3
   },
   "file_extension": ".py",
   "mimetype": "text/x-python",
   "name": "python",
   "nbconvert_exporter": "python",
   "pygments_lexer": "ipython3",
   "version": "3.11.7"
  }
 },
 "nbformat": 4,
 "nbformat_minor": 5
}
